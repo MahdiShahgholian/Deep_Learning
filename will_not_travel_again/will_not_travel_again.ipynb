{
 "cells": [
  {
   "attachments": {},
   "cell_type": "markdown",
   "id": "20280abf-5599-4c89-be54-e9474622b2f6",
   "metadata": {},
   "source": [
    "<h1 dir=rtl align=center style=\"line-height:200%;font-family:vazir;color:#0099cc\">\n",
    "<font face=\"vazir\" color=\"#0099cc\">\n",
    "سفر نمی‌روم دگر!\n",
    "</font>\n",
    "</h1>\n",
    "\n",
    "\n",
    "<p dir=rtl style=\"direction: rtl; text-align: justify; line-height:200%; font-family:vazir; font-size:medium\">\n",
    "<font face=\"vazir\" size=3>\n",
    "    احتمالاً هنگامی‌که بخواهید برای تعطیلات نوروز به یک شهر مانند ارومیه سفر کنید، از طریق موبایل و یا لپ‌تاپ‌ و از مسیر جست‌وجوی گوگل، پیامک تبلیغاتی و یا به‌صورت مستقیم، وارد یک سایت رزرو هتل می‌شوید و بعد از ساخت حساب کاربری، اقدام به جست‌وجو کرده و مقصد و تاریخ ورود/خروج خود را وارد می‌کنید. در نتیجه لیستی از هتل‌ها برای شما، نشان داده‌ می‌شود و در نهایت، شما با کلیک بر روی هتل‌های مختلف، اقدام به مقایسه ی آن‌ها کرده و شاید (🙃) در نهایت یکی از آن‌ها را رزرو کنید.\n",
    "<br>\n",
    "در این پروژه شما پس از پیش‌پردازش داده‌ها و حل چالش‌های مربوط به آن، مدلی را آموزش می‌دهید که بر اساس اطلاعات جست‌وجوی کاربران و سایر ویژگی‌های مرتبط با آن، بتواند پیش‌بینی کند که آیا یک کاربر، هتل مشاهده‌شده را رزرو خواهد کرد یا خیر. بدین ترتیب، می‌توان در لحظه برای هر کاربر، متناسب با پیش‌بینی رزرو، تصمیم متناسبی همانند ارائه‌ی تخفیف و یا پیشنهاد سایر هتل‌ها اتخاذ کرد.\n",
    "</font>\n",
    "</p>"
   ]
  },
  {
   "attachments": {},
   "cell_type": "markdown",
   "id": "aad47031-e73c-4f74-85ca-27fed60fa8b5",
   "metadata": {},
   "source": [
    "<h2 align=right style=\"line-height:200%;font-family:vazir;color:#0099cc\">\n",
    "<font face=\"vazir\" color=\"#0099cc\">\n",
    "وارد کردن کتابخانه‌های مورد نیاز\n",
    "</font>\n",
    "</h2>\n",
    "\n",
    "<p dir=rtl style=\"direction: rtl; text-align: justify; line-height:200%; font-family:vazir; font-size:medium\">\n",
    "<font face=\"vazir\" size=3>\n",
    "    ابتدا کتابخانه‌های مورد نیاز را وارد کنید. در صورتی‌که نیاز به کتابخانه‌های دیگری دارید نیز می‌توانید آن‌ها را فراخوانی کنید.\n",
    "</font>\n",
    "</p>"
   ]
  },
  {
   "cell_type": "code",
   "execution_count": null,
   "id": "f0a3e032-9c3c-49ae-be43-bc56fb0f1bdd",
   "metadata": {},
   "outputs": [],
   "source": [
    "import numpy as np\n",
    "import pandas as pd"
   ]
  },
  {
   "cell_type": "code",
   "execution_count": null,
   "id": "b46c2c70",
   "metadata": {},
   "outputs": [],
   "source": [
    "# !pip install keras --upgrade\n",
    "# Uncomment the above line if you don't have keras 3 installed"
   ]
  },
  {
   "cell_type": "code",
   "execution_count": null,
   "id": "ebd8caa9",
   "metadata": {},
   "outputs": [],
   "source": [
    "import os\n",
    "os.environ[\"KERAS_BACKEND\"] = \"tensorflow\""
   ]
  },
  {
   "cell_type": "code",
   "execution_count": null,
   "id": "ea032cd4",
   "metadata": {},
   "outputs": [],
   "source": [
    "import keras\n",
    "print(keras.__version__)"
   ]
  },
  {
   "attachments": {},
   "cell_type": "markdown",
   "id": "60c78b08-d918-4544-ad76-2d1dff9714f1",
   "metadata": {},
   "source": [
    "<h2 dir=rtl align=right style=\"line-height:200%;font-family:vazir;color:#0099cc\">\n",
    "<font face=\"vazir\" color=\"#0099cc\">\n",
    "مجموعه‌داده\n",
    "</font>\n",
    "</h2>\n",
    "\n",
    "\n",
    "\n",
    "<p dir=rtl style=\"direction: rtl; text-align: justify; line-height:200%; font-family:vazir; font-size:medium\">\n",
    "<font face=\"vazir\" size=3>\n",
    "به‌دلیل حجم بالای مجموعه‌داده نیاز است آن را جداگانه از <a href=\"https://drive.google.com/file/d/1jIl8uXsrdRz3ZBxljjQNo0ssDT8LbJBx/view?usp=sharing\" target=\"_blank\">این لینک</a> دانلود کرده و فایل‌های داخل آن را استخراج کنید.  توجه داشته باشید که اندازه‌ی مجموعه‌داده حدود ۱۸۰ مگابایت است و اگر قصد دانلود این حجم از داده را ندارید پیشنهاد می‌کنیم از محیط گوگل کولب استفاده کرده و به‌صورت مستقیم با دستور زیر این فایل را روی کولب خود بارگیری کنید.\n",
    "</font>\n",
    "</p>\n",
    "\n",
    "`!gdown 1jIl8uXsrdRz3ZBxljjQNo0ssDT8LbJBx`\n",
    "\n",
    "<details dir=\"rtl\" style=\"direction: rtl;text-align: justify;line-height:200%;font-family:vazir;font-size:medium\">\n",
    "<summary dir=\"rtl\" style=\"color:orange\"><b>رفع مشکل عدم امکان دانلود فایل با <code>gdown</code></b></summary>\n",
    "\n",
    "اگر در هنگام دانلود فایل به‌کمک <code>gdown</code> با خطای عدم اجازه‌ی دسترسی مواجه شدید، کافیست کد زیر را اجرا کرده و دوباره امتحان کنید.\n",
    "\n",
    "<span dir=ltr style=\"direction:ltr;\">\n",
    "\n",
    "`!pip install --upgrade --no-cache-dir gdown`\n",
    "\n",
    "</span>\n",
    "</details>\n",
    "\n",
    "<p dir=rtl style=\"direction: rtl; text-align: justify; line-height:200%; font-family:vazir; font-size:medium\">\n",
    "<font face=\"vazir\">\n",
    "در این سوال، شما به داده‌های جست‌وجوی کاربران دسترسی دارید. فایل آموزش (<code>train.csv</code>)، نتایج جست‌وجوی کاربران را در یک بازه‌ی حدوداً دو ساله شامل می‌شود و حدود ۷ میلیون سطر دارد. فایل آزمون (<code>test.csv</code>) دارای ۳۰۰ هزار سطر از اطلاعات جست‌وجوی کاربران در بازه‌ی حدود ۱ ماه پس از آخرین جست‌وجوی موجود در فایل آموزش است (این سطرها، به‌صورت تصادفی از بین چند میلیون سطر آن ماه، انتخاب شده‌اند).\n",
    "جدول زیر، ستون‌های موجود در فایل آموزش را توضیح می‌دهد. توجه داشته‌ باشید که هر ردیف این مجموعه‌داده، نشان‌دهنده‌ی جست‌وجوی یک کاربر جهت رزرو هتل است.\n",
    "     همچنین در مجموعه‌داده‌ی آزمون، ستون <code>is_booking</code> وجود ندارد، زیرا در ادامه از این ستون برای ساخت متغیر هدف مسئله استفاده خواهیم کرد.\n",
    "    <br> نحوه‌ی روبه‌رو شدن شما با مجموعه‌داده‌ای با این حجم، جزو یکی از چالش‌ها و اهداف طراحی این تمرین بوده‌است.\n",
    "\n",
    "</font>\n",
    "</p>\n",
    "\n",
    "\n",
    "<center>\n",
    "<div dir=rtl style=\"direction: rtl;line-height:200%;font-family:vazir;font-size:medium\">\n",
    "<font face=\"vazir\" size=3>\n",
    "\n",
    "| نام ستون | توضیحات ستون |\n",
    "|:----------:|:------------------:|\n",
    "| <code>user</code> | شناسه کاربر |\n",
    "| <code>user_location_country</code> | شناسه‌ی کشور کاربر |\n",
    "| <code>user_location_region</code> | شناسه‌ی منطقه‌ی کاربر |\n",
    "| <code>user_location_city</code> | شناسه‌ی شهر کاربر |\n",
    "| <code>destination_distance</code> | فاصله‌ی فیزیکی بین کاربر و هتل در زمان جست‌وجو‌ (مقدار <code>null</code> به معنی عدم توانایی محاسبه فاصله است) |\n",
    "| <code>search_date</code> | زمان انجام جست‌وجو |\n",
    "| <code>is_mobile</code> | آیا کاربر با دستگاه موبایل جست‌وجو انجام داده است؟ |\n",
    "| <code>is_package</code> | آیا کاربر در حال جست‌وجوی هتل به‌همراه بلیط حمل‌و‌نقل (اتوبوس، هواپیما یا قطار) است؟|\n",
    "| <code>channel</code> | کاربر از چه کانالی وارد سایت شده‌است؟ (تبلیغات پیامکی، تبلیغات شبکه‌ی اجتماعی، ورود مستقیم و ...)  |\n",
    "| <code>Search_count</code> |تعداد جست‌وجو‌های مشابه در لحظه‌ی کاربر (در همان نشست یا ‌<i>session</i>)|\n",
    "| <code>checkIn_date</code> | تاریخ ورود به هتل |\n",
    "| <code>checkOut_date</code> | تاریخ خروج از هتل |\n",
    "| <code>n_adults</code> | تعداد افراد بالغ اعلام‌شده جهت رزرو هتل |\n",
    "| <code>n_children</code> | تعداد کودکان اعلام‌شده جهت رزرو هتل |\n",
    "| <code>n_rooms</code> | تعداد اتاق مورد نظر برای رزرو |\n",
    "| <code>destination</code> | شناسه‌ی محل هتل مورد نظر کاربر (با هم‌پوشانی همچون نیویورک، نیویورک سیتی، سنترال پارک و غیره) |\n",
    "| <code>destination_type</code> | کد نوع هتل مورد نظر کار‌بر |\n",
    "| <code>hotel_continent</code> | شناسه‌ی قاره‌ی هتل مورد نظر کاربر |\n",
    "| <code>hotel_country</code> | شناسه‌ی کشور هتل مورد نظر کاربر |\n",
    "| <code>hotel_market</code> | ناحیه‌ای که هتل مورد نظر کاربر در آن قرار گرفته‌است (بدون هم‌پوشانی همچون نیویورک، بوستون و غیره)|\n",
    "| <code>hotel_category</code> | گرو‌ه‌بندی هتلی که جزییاتش را مشاهده می‌کنند. این گروه‌بندی می‌تواند بر اساس مواردی مانند چندستاره بودن و یا نوع هتل باشد. |\n",
    "| <code>is_booking<code> | آیا کاربر در نهایت، هتل مشاهده‌شده را رزرو کرده یا خیر؟ |\n",
    "\n",
    "\n",
    "</font>\n",
    "</div>\n",
    "</center>"
   ]
  },
  {
   "cell_type": "code",
   "execution_count": null,
   "id": "238e2183",
   "metadata": {},
   "outputs": [],
   "source": [
    "# ‌!pip install --upgrade --no-cache-dir gdown\n",
    "# !gdown 1jIl8uXsrdRz3ZBxljjQNo0ssDT8LbJBx"
   ]
  },
  {
   "attachments": {},
   "cell_type": "markdown",
   "id": "820bf0d7-de5a-4d03-bfed-c74ea313411a",
   "metadata": {},
   "source": [
    "<h2 align=right style=\"line-height:200%;font-family:vazir;color:#0099cc\">\n",
    "<font face=\"vazir\" color=\"#0099cc\">\n",
    "خوانش مجموعه‌داده\n",
    "</font>\n",
    "</h2>\n",
    "\n",
    "<p dir=rtl style=\"direction: rtl; text-align: justify; line-height:200%; font-family:vazir; font-size:medium\">\n",
    "<font face=\"vazir\" size=3>\n",
    "   در ابتدا نیاز است فایل‌ مجموعه‌داده را بخوانید. داده‌‌های آموزش را می‌توانید از فایل <code>train.csv</code> موجود در پوشه‌ی <code>data</code> بخوانید و از نمونه‌های موجود در آن برای آموزش مدل استفاده کنید.\n",
    " عملکرد مدل شما روی داده‌ی <code>test.csv</code> برسی می‌شود.\n",
    "</font>\n",
    "</p>"
   ]
  },
  {
   "cell_type": "code",
   "execution_count": null,
   "id": "abb84b7f-b40c-4691-92bc-fab04cca62e6",
   "metadata": {},
   "outputs": [],
   "source": [
    "train = None # TODO\n",
    "test = None # TODO\n",
    "\n",
    "train.head()"
   ]
  },
  {
   "attachments": {},
   "cell_type": "markdown",
   "id": "21c8f01d-e4e1-4c47-abdc-9b87f355e1bb",
   "metadata": {},
   "source": [
    "<h2 align=right style=\"line-height:200%;font-family:vazir;color:#0099cc\">\n",
    "<font face=\"vazir\" color=\"#0099cc\">\n",
    "اکتشاف داده‌ها و مهندسی ویژکی\n",
    "</font>\n",
    "</h2>\n",
    "\n",
    "<p dir=rtl style=\"direction: rtl; text-align: justify; line-height:200%; font-family:vazir; font-size:medium\">\n",
    "<font face=\"vazir\" size=3>\n",
    "در مرحله اول به بررسی و اکتشاف داده‌ها و مهندسی ویژگی می‌پردازیم. در ابتدا با حذف ستون  <code>user</code> سعی در کم‌کردن حجم داده‌ها می‌کنیم، این عمل با توجه به یکتایی این مقادیر تاثیری در عملکرد مدل نخواهد داشت.\n",
    "</font>\n",
    "</p>"
   ]
  },
  {
   "cell_type": "code",
   "execution_count": null,
   "id": "b3bc71b5-b4ee-4bd9-a74b-de7a16fcb9d7",
   "metadata": {},
   "outputs": [],
   "source": [
    "# TODO : Drop columns = ['user'] for both train and test sets "
   ]
  },
  {
   "attachments": {},
   "cell_type": "markdown",
   "id": "eb53e676-fdf5-42ae-bf6f-ad9c8e8ad893",
   "metadata": {},
   "source": [
    "<h3 align=right style=\"line-height:200%;font-family:vazir;color:#0099cc\">\n",
    "<font face=\"vazir\" color=\"#0099cc\">\n",
    "حذف مقادیر گم‌شده\n",
    "</font>\n",
    "</h3>\n",
    "\n",
    "\n",
    "<p dir=rtl style=\"direction: rtl; text-align: justify; line-height:200%; font-family:vazir; font-size:medium\">\n",
    "<font face=\"vazir\" size=3>\n",
    "   ابتدا با بررسی مقادیر گم‌شده در ستون‌های <code>checkIn_date</code> و <code>checkOut_date</code> این مقادیر را مدیریت کنید. در صورتی‌که حداقل ۹۹ درصد نمونه‌های شامل مقادیر گم‌شده در هر ستون دارای <b style=\"color:#0099cc\">متغیر هدف</b> با مقدار <code>0</code> باشند، آن‌ها را حذف کنید، در غیر این‌صورت از روشی دیگری جهت مدیریت آن‌ها بهره ببرید.\n",
    "</font>\n",
    "</p>"
   ]
  },
  {
   "cell_type": "code",
   "execution_count": null,
   "id": "e09a9ead-6393-45ac-a9d7-aa659f026982",
   "metadata": {},
   "outputs": [],
   "source": [
    "# TODO : check is_booking where checkIn_date or checkOut_date is null"
   ]
  },
  {
   "cell_type": "code",
   "execution_count": null,
   "id": "1e39b74b-d746-4231-a398-ad325acc5a0e",
   "metadata": {},
   "outputs": [],
   "source": [
    "# TODO : handle missing checkOut_date where checkIn_date values"
   ]
  },
  {
   "attachments": {},
   "cell_type": "markdown",
   "id": "6d02efbb-de3b-408c-b70f-86cbc34839b1",
   "metadata": {},
   "source": [
    "\n",
    "<p dir=rtl style=\"direction: rtl; text-align: justify; line-height:200%; font-family:vazir; font-size:medium\">\n",
    "<font face=\"vazir\" size=3>\n",
    "همان‌طور که در توضیحات ستون‌های مسئله دیدیم ستون <code>destination_distance</code> فاصله‌ی فیزیکی بین کاربر و هتل در زمان جست‌وجو‌ را نشان می‌دهد. از آنجایی که می‌توانیم بگوییم فاصله‌ی محاسبه‌شده دو شهر با یکدیگر همواره ثابت یا در یک محدوده است، برای پر کردن مقادیر گم‌شده‌ای که این فاصله را نشان می‌دهد، می‌توانیم از <code>user_location_city</code> و <code>destination</code> که بیانگر شناسه‌ی شهر کاربر و هتل جست‌وجو شده هستند، استفاده کنیم به‌طوری‌که نمونه‌‌های که ستون‌ <code>destination_distance</code> در آن گم‌شده است، با را با میانگین مقدار  <code>destination_distance</code> در ستون‌هایی که <code>user_location_city</code> و <code>destination</code> مشابه دارند پر کنیم.\n",
    "</font>\n",
    "</p>\n"
   ]
  },
  {
   "cell_type": "code",
   "execution_count": null,
   "id": "70407dff-9cf0-4986-8ff3-e12cec162d45",
   "metadata": {},
   "outputs": [],
   "source": [
    "train.isna().mean()['destination_distance']"
   ]
  },
  {
   "cell_type": "code",
   "execution_count": null,
   "id": "535e3d80-6bb9-4f4e-9324-431a70a6f624",
   "metadata": {},
   "outputs": [],
   "source": [
    "mean = None #TODO\n",
    "\n",
    "train['destination_distance'].fillna(None) #TODO\n",
    "test['destination_distance'].fillna(None) #TODO"
   ]
  },
  {
   "attachments": {},
   "cell_type": "markdown",
   "id": "dd209317-8d16-46b6-92b6-a51924fd42b6",
   "metadata": {},
   "source": [
    "\n",
    "<p dir=rtl style=\"direction: rtl; text-align: justify; line-height:200%; font-family:vazir; font-size:medium\">\n",
    "<font face=\"vazir\" size=3>\n",
    "حال برای سایر موارد گم‌شده از عددی مانند <code>0</code> که در این ستون استفاده نشده است، استفاده می‌کنیم.\n",
    "</font>\n",
    "</p>\n"
   ]
  },
  {
   "cell_type": "code",
   "execution_count": null,
   "id": "191b4cf6-8bed-4e0a-9fcf-6be2583b93bd",
   "metadata": {},
   "outputs": [],
   "source": [
    "train[train['destination_distance'] == 0]"
   ]
  },
  {
   "cell_type": "code",
   "execution_count": null,
   "id": "f7c327ef-c44f-47c5-bdc7-a0d120858a8d",
   "metadata": {},
   "outputs": [],
   "source": [
    "train['destination_distance'].fillna(None) #TODO\n",
    "test['destination_distance'].fillna(None) #TODO"
   ]
  },
  {
   "cell_type": "code",
   "execution_count": null,
   "id": "d4dd1c71-000c-4962-a3d6-4c77764d2537",
   "metadata": {},
   "outputs": [],
   "source": [
    "train.isna().sum()"
   ]
  },
  {
   "attachments": {},
   "cell_type": "markdown",
   "id": "369a75cd-4530-4918-ba85-3bb774213297",
   "metadata": {},
   "source": [
    "<h3 align=right style=\"line-height:200%;font-family:vazir;color:#0099cc\">\n",
    "<font face=\"vazir\" color=\"#0099cc\">\n",
    "ویژگی‌های زمانی\n",
    "</font>\n",
    "</h3>\n",
    "\n",
    "<p dir=rtl style=\"direction: rtl; text-align: justify; line-height:200%; font-family:vazir; font-size:medium\">\n",
    "<font face=\"vazir\" size=3>\n",
    "با بررسی ستون‌های مجموعه‌داده مشاهده می‌کنیم که سه ستون <code>checkOut_date</code>، <code>checkOut_date</code> و <code>search_date</code> بیانگر زمان هستند و می‌توان با تبدیل این مقادیر به <code>datetime64[ns]</code>  از آن‌ها اطلاعات و حتی ویژگی‌های جدید و مناسبی استخراج کرد. برای این‌کار از دستور زیر استفاده کنید. البته اکیداً توصیه می‌شود مستندات مربوط به کار با این نوع داده‌ها را بررسی کنید.\n",
    "</font>\n",
    "    \n",
    "```python\n",
    "df[‘time_type’] = pd.to_datetime(df[‘time_string’])\n",
    "```\n",
    "</p>"
   ]
  },
  {
   "cell_type": "code",
   "execution_count": null,
   "id": "3db53ef8-80e4-4763-8a77-d56d6d25cca3",
   "metadata": {},
   "outputs": [],
   "source": [
    "# TODO : change type of columns in time_columns into datetime64[ns]\n",
    "\n",
    "time_columns = ['search_date', 'checkIn_date', 'checkOut_date']"
   ]
  },
  {
   "attachments": {},
   "cell_type": "markdown",
   "id": "3c07758f-2412-4e28-9491-d970a2fe3f63",
   "metadata": {},
   "source": [
    "\n",
    "<p dir=rtl style=\"direction: rtl; text-align: justify; line-height:200%; font-family:vazir; font-size:medium\">\n",
    "<font face=\"vazir\" size=3>\n",
    "در ابتدا شاید این سه ستون زمانی اطلاعات خوبی به مدل ندهند اما با بررسی دقیق‌تر می‌توانیم دو ویژگی جدید که تعیین‌کننده‌ی  <b>تعداد روز‌های بین زمان جست‌وجو و زمان تعیین‌شده برای ورود</b> و همچنین <b>تعداد روز‌های اقامت تعیین‌شده در جست‌وجو</b> هستند را به مجموعه داده اضافه کنیم. \n",
    "</font>\n",
    "</p>"
   ]
  },
  {
   "cell_type": "code",
   "execution_count": null,
   "id": "4a0893a4-b555-4bfc-b521-b1e535edb7c5",
   "metadata": {},
   "outputs": [],
   "source": [
    "# TODO : Add Days of Stay \n",
    "\n",
    "duration = None # TODO\n",
    "train['duration'] = None # TODO\n",
    "duration = None # TODO\n",
    "test['duration'] = None # TODO\n",
    "\n",
    "# TODO : Add Days between search_date and checkIn_date\n",
    "\n",
    "days_between = None # TODO\n",
    "train['days_between'] = None # TODO\n",
    "days_between = None # TODO\n",
    "test['days_between'] = None # TODO"
   ]
  },
  {
   "attachments": {},
   "cell_type": "markdown",
   "id": "1a8ae6ff-3d3f-4a87-81f9-8063ebf70669",
   "metadata": {},
   "source": [
    "<p dir=rtl style=\"direction: rtl; text-align: justify; line-height:200%; font-family:vazir; font-size:medium\">\n",
    "<font face=\"vazir\">\n",
    "همچنین می‌توانیم با بررسی ساعت، شماره روز‌ هفته و ماه زمان جست‌وجو و ورود به هتل، ارتباط آن‌ها را با رزرو هتل بررسی کنیم. بنابراین ستونی‌های جدول زیر را به مجموعه‌داده اضافه کنید.\n",
    "</font>\n",
    "</p>\n",
    "\n",
    "<center>\n",
    "<div dir=rtl style=\"direction: rtl;line-height:200%;font-family:vazir;font-size:medium\">\n",
    "<font face=\"vazir\" size=3>\n",
    "\n",
    "| نام ستون | توضیحات ستون |\n",
    "|:-:|:-:|\n",
    "|<code>search_date_hour</code>|ساعت جست‌وجو |\n",
    "|<code>search_date_dayofweek</code>|روز جست‌وجو در هفته|\n",
    "|<code>checkIn_date_dayofweek</code>|روز ورود در هفته|\n",
    "|<code>search_date_month</code>|ماه جست‌وجو|\n",
    "|<code>checkIn_date_month</code>|ماه ورود|\n",
    "\n",
    "</font>\n",
    "</div>\n",
    "</center>\n"
   ]
  },
  {
   "cell_type": "code",
   "execution_count": null,
   "id": "c1d89ef1-2f82-42f4-b6c6-909751763012",
   "metadata": {},
   "outputs": [],
   "source": [
    "train['search_date_hour'] = None # TODO\n",
    "train['search_date_dayofweek'] = None # TODO\n",
    "train['checkIn_date_dayofweek'] = None # TODO\n",
    "train['search_date_month'] = None # TODO \n",
    "train['checkIn_date_month'] = None # TODO\n",
    "\n",
    "test['search_date_hour'] = None # TODO\n",
    "test['search_date_dayofweek'] = None # TODO\n",
    "test['checkIn_date_dayofweek'] = None # TODO\n",
    "test['search_date_month'] = None # TODO \n",
    "test['checkIn_date_month'] = None # TODO"
   ]
  },
  {
   "attachments": {},
   "cell_type": "markdown",
   "id": "a7a89f7c-8cf3-4a5b-8f3b-537a6ef98395",
   "metadata": {},
   "source": [
    "<p dir=rtl style=\"direction: rtl; text-align: justify; line-height:200%; font-family:vazir; font-size:medium\">\n",
    "<font face=\"vazir\">\n",
    " حال برای ‌بررسی رابطه‌ی بین ویژگی‌هایی که در مرحله قبل به‌دست آوردیم با متغیر هدف (این‌که جست‌وجو به رزرو هتل منجر شده‌است یا خیر) دو دیتافرم <code>is_booked</code> و <code>not_booked</code> را براساس مجموعه‌داده‌ی آموزش ایجاد کنید، به‌طوری‌که دیتافرم اول فقط نمونه‌هایی که به رزرو ختم شده‌اند و دیتافریم دوم فقط نمونه‌هایی که به رزرو ختم نشده‌اند را شامل شود.\n",
    "</font>\n",
    "</p>\n"
   ]
  },
  {
   "cell_type": "code",
   "execution_count": null,
   "id": "514c0435-7033-4605-ac4b-8eaeed026ecb",
   "metadata": {},
   "outputs": [],
   "source": [
    "is_booked = None #TODO\n",
    "not_booked = None #TODO"
   ]
  },
  {
   "attachments": {},
   "cell_type": "markdown",
   "id": "af7db6f0-73e6-41f8-9f22-0f347d35030a",
   "metadata": {},
   "source": [
    "<h3 align=right style=\"line-height:200%;font-family:vazir;color:#0099cc\">\n",
    "<font face=\"vazir\" color=\"#0099cc\">\n",
    "مصورسازی ۱\n",
    "</font>\n",
    "</h3>\n",
    "\n",
    "<p dir=rtl style=\"direction: rtl; text-align: justify; line-height:200%; font-family:vazir; font-size:medium\">\n",
    "<font face=\"vazir\">\n",
    "اکنون بیاید با استفاده از مصورسازی، بینش‌های بیشتری را از دل این داده‌ها استخراج کنیم.\n",
    "در این مرحله نیاز است یک نمودار میله‌ای رسم کنید تا رابطه‌ی بین درصد جست‌وجو‌هایی که به رزرو هتل ختم شده‌اند و نشده‌اند‌ (هر کدام نسبت به دسته‌ی خودشان) در ساعات مختلف را نشان دهد. \n",
    "</font>\n",
    "</p>\n",
    "\n",
    "<p dir=rtl style=\"direction: rtl; text-align: justify; line-height:200%; font-family:vazir; font-size:medium\">\n",
    "<font face=\"vazir\">\n",
    "خروجی نمودار شما باید شبیه به تصویر زیر باشد.\n",
    "</font>\n",
    "</p>\n",
    "\n",
    "<center>\n",
    "<img src = 'https://quera.org/qbox/view/6TWauQwG58/search_hour.png'>\n",
    "</center>"
   ]
  },
  {
   "cell_type": "code",
   "execution_count": null,
   "id": "b7daecb1-658f-49c3-8d68-c769988ebb76",
   "metadata": {},
   "outputs": [],
   "source": [
    "import plotly.graph_objects as go\n",
    "\n",
    "# trace_not_booked = go.Bar(y = None , name='Not Booked') # TODO\n",
    "# trace_is_booked = go.Bar(y = None , name='Booked') # TODO\n",
    "\n",
    "# در ادامه‌ی این قسمت از کد تغییری ایجاد نکنید زیرا نمودار شما توسط سیستم داوری بررسی می‌شود و تغییر در این قسمت ممکن است باعث عدم داوری صحیح شود\n",
    "\n",
    "data = [trace_is_booked, trace_not_booked]\n",
    "\n",
    "layout = go.Layout(\n",
    "    xaxis=dict(title='Search Hour', tickangle=45, automargin=True),\n",
    "    yaxis=dict(title='Frequency')\n",
    ")\n",
    "\n",
    "fig = go.Figure(data=data, layout=layout)\n",
    "fig.show()\n",
    "fig.write_json('./search_hour.json')"
   ]
  },
  {
   "attachments": {},
   "cell_type": "markdown",
   "id": "baeba698-b02f-4b0e-85da-2602e4231b8f",
   "metadata": {},
   "source": [
    "\n",
    "<p dir=rtl style=\"direction: rtl; text-align: justify; line-height:200%; font-family:vazir; font-size:medium\">\n",
    "<font face=\"vazir\">\n",
    "در این مرحله می‌توانید با توجه به زمان‌های مختلفی که جست‌وجو در آن انجام شده و رابطه‌ی بین آن با رزرو هتل، مقادیر این ستون را به دسته‌های کوچک‌تری افراز کنید (binning).\n",
    "          به‌طور مثال به نمونه‌هایی که در آن‌ها جست‌وجو بین ساعت ۵ تا ۱۵ انجام شده‌است، مقدار <code>1</code>\n",
    "          </font> دهید و به بقیه نمونه‌ها مقدار  <code>0</code> دهید. این عمل یک نوع مهندسی ویژگی به شمار می‌آید. توجه کنید این دسته‌بندی اختیاری بوده است و به‌طور مستقیم داوری نمی‌شود، اما ممکن است در عملکرد مدل شما تاثیر (مثبت یا منفی!) بگذارد، همچنین برای سایر ستون‌ها و ویژگی‌ها نیز با خلاقیت خودتان می‌توانید ویژگی‌های جدیدی خلق کنید.\n",
    "</p>\n",
    "\n"
   ]
  },
  {
   "cell_type": "code",
   "execution_count": null,
   "id": "40206e40-ba5c-4cc6-9f5b-deb9fea5e299",
   "metadata": {},
   "outputs": [],
   "source": [
    "# TODO: Make Bins for search_date_hour (Optional)"
   ]
  },
  {
   "attachments": {},
   "cell_type": "markdown",
   "id": "e98bb936-d368-4029-94ef-c95a7228d6d6",
   "metadata": {},
   "source": [
    "<h3 align=right style=\"line-height:200%;font-family:vazir;color:#0099cc\">\n",
    "<font face=\"vazir\" color=\"#0099cc\">\n",
    "مصورسازی ۲\n",
    "</font>\n",
    "</h3>\n",
    "\n",
    "<p dir=rtl style=\"direction: rtl; text-align: justify; line-height:200%; font-family:vazir; font-size:medium\">\n",
    "<font face=\"vazir\">\n",
    "همانند نمودار قبل برای روز ورود به هتل  نیز نمودار را رسم کنید. دقت داشته باشید روز‌های هفته به‌صورت، دوشنبه، سه‌شنبه تا شنبه و به همین ترتیب باشد. به رعایت نیم‌فاصله در اسامی روزها توجه داشته باشید. کلمه‌ی سه‌شنبه و پنج‌شنبه دارای نیم‌فاصله است.\n",
    "</font>\n",
    "</p>\n",
    "\n",
    "<p dir=rtl style=\"direction: rtl; text-align: justify; line-height:200%; font-family:vazir; font-size:medium\">\n",
    "<font face=\"vazir\">\n",
    "خروجی نمودار شما باید به‌صورت زیر باشد.\n",
    "</font>\n",
    "</p>\n",
    "\n",
    "<center>\n",
    "<img src = 'https://quera.org/qbox/view/jqISJX07yD/checkIn_day.png'>\n",
    "</center>\n"
   ]
  },
  {
   "cell_type": "code",
   "execution_count": null,
   "id": "31c0e5d7-5c45-4263-8e46-ddb04ddef3ce",
   "metadata": {},
   "outputs": [],
   "source": [
    "trace_not_booked = go.Bar(None , name='Not Booked') # TODO\n",
    "trace_is_booked = go.Bar(None , name='Booked') # TODO\n",
    "\n",
    "ticktext = None # TODO\n",
    "\n",
    "# در ادامه‌ی این قسمت از کد تغییری ایجاد نکنید زیرا نمودار شما توسط سیستم داوری بررسی می‌شود و تغییر در این قسمت ممکن است باعث عدم داوری صحیح شود\n",
    "\n",
    "data = [trace_is_booked, trace_not_booked]\n",
    "\n",
    "layout = go.Layout(\n",
    "    xaxis=dict(title='Day of Week', tickangle=45, automargin=True,\n",
    "               tickvals = [0,1,2,3,4,5,6], ticktext= ticktext\n",
    " ),\n",
    "    yaxis=dict(title='Frequency'),\n",
    ")\n",
    "\n",
    "fig = go.Figure(data=data, layout=layout)\n",
    "fig.show()\n",
    "fig.write_json('./checkIn_day.json')"
   ]
  },
  {
   "attachments": {},
   "cell_type": "markdown",
   "id": "0414f88d",
   "metadata": {},
   "source": [
    "<h3 align=right style=\"line-height:200%;font-family:vazir;color:#0099cc\">\n",
    "<font face=\"vazir\" color=\"#0099cc\">\n",
    "مصورسازی ۳\n",
    "</font>\n",
    "</h3>\n",
    "\n",
    "<p dir=rtl style=\"direction: rtl; text-align: justify; line-height:200%; font-family:vazir; font-size:medium\">\n",
    "<font face=\"vazir\">\n",
    "همانند نمودار قبل برای ماه ورود نیز نمودار را رسم کنید.\n",
    "</font>\n",
    "</p>\n",
    "\n",
    "<p dir=rtl style=\"direction: rtl; text-align: justify; line-height:200%; font-family:vazir; font-size:medium\">\n",
    "<font face=\"vazir\">\n",
    "خروجی نمودار شما باید مشابه با تصویر زیر باشد.\n",
    "</font>\n",
    "</p>\n",
    "\n",
    "<center>\n",
    "<img src = 'https://quera.org/qbox/view/vdWwvplc3K/checkIn_date_month.png'>\n",
    "</center>"
   ]
  },
  {
   "cell_type": "code",
   "execution_count": null,
   "id": "16e298c2-adcc-495c-9385-2beb32e46211",
   "metadata": {},
   "outputs": [],
   "source": [
    "trace_not_booked = go.Bar(y = None , name='Not Booked') # TODO\n",
    "trace_is_booked = go.Bar(y = None , name='Booked') # TODO\n",
    "\n",
    "# در ادامه‌ی این قسمت از کد تغییری ایجاد نکنید زیرا نمودار شما توسط سیستم داوری بررسی می‌شود و تغییر در این قسمت ممکن است باعث عدم داوری صحیح شود\n",
    "\n",
    "data = [trace_is_booked, trace_not_booked]\n",
    "\n",
    "ticktext = ['Jan', 'Feb', 'Mar', 'Apr', 'May', 'Jun', 'Jul', 'Aug', 'Sep', 'Oct', 'Nov', 'Dec']\n",
    "\n",
    "layout = go.Layout(\n",
    "    xaxis=dict(title='Month', tickangle=45, automargin=True,\n",
    "             ticktext = ticktext ,tickvals = np.arange(0,12)),\n",
    "    yaxis=dict(title='Frequency')\n",
    ")\n",
    "\n",
    "fig = go.Figure(data=data, layout=layout)\n",
    "fig.show()\n",
    "fig.write_json('./checkIn_date_month.json')"
   ]
  },
  {
   "attachments": {},
   "cell_type": "markdown",
   "id": "50a26b1b-448f-4a35-a324-5433de5b1ff4",
   "metadata": {},
   "source": [
    "\n",
    "<p dir=rtl style=\"direction: rtl; text-align: justify; line-height:200%; font-family:vazir; font-size:medium\">\n",
    "<font face=\"vazir\">\n",
    "در صورت علاقه می‌توانید ماه‌های سال را به فصل نیز تبدیل کنید (مانند پیشنهادی که برای ساعت جست‌وجو داده شد).\n",
    "</p>\n"
   ]
  },
  {
   "cell_type": "code",
   "execution_count": null,
   "id": "0849a7af-96f4-4dee-9146-1da28ef40a1a",
   "metadata": {},
   "outputs": [],
   "source": [
    "# TODO (Optional): Make season column for checkIn_date_month or search_date_month"
   ]
  },
  {
   "attachments": {},
   "cell_type": "markdown",
   "id": "6a161fe9-a00a-40de-ad19-36cb14899c5f",
   "metadata": {},
   "source": [
    "<h3 align=right style=\"line-height:200%;font-family:vazir;color:#0099cc\">\n",
    "<font face=\"vazir\" color=\"#0099cc\">\n",
    "مصورسازی ۴\n",
    "</font>\n",
    "</h3>\n",
    "\n",
    "<p dir=rtl style=\"direction: rtl; text-align: justify; line-height:200%; font-family:vazir; font-size:medium\">\n",
    "<font face=\"vazir\">\n",
    "نمودار خطی برای فاصله‌ی زمانی بین جست‌وجو و ورود را نیز رسم کنید.\n",
    "</font>\n",
    "</p>\n",
    "\n",
    "<p dir=rtl style=\"direction: rtl; text-align: justify; line-height:200%; font-family:vazir; font-size:medium\">\n",
    "<font face=\"vazir\">\n",
    "خروجی نمودار شما باید به صورت زیر باشد.\n",
    "</font>\n",
    "</p>\n",
    "<center>\n",
    "<img src = 'https://quera.org/qbox/view/mEwuo0YTeE/days_between.png'>\n",
    "</center>"
   ]
  },
  {
   "cell_type": "code",
   "execution_count": null,
   "id": "a1cce9df-abe3-45ab-afa4-5ca3fb68a0c7",
   "metadata": {},
   "outputs": [],
   "source": [
    "trace_not_booked = go.Scatter(y = None , name='Not Booked', opacity = 0.5) # TODO\n",
    "trace_is_booked = go.Scatter(y = None , name='Booked') # TODO\n",
    "\n",
    "# در ادامه‌ی این قسمت از کد تغییری ایجاد نکنید زیرا نمودار شما توسط سیستم داوری بررسی می‌شود و تغییر در این قسمت ممکن است باعث عدم داوری صحیح شود\n",
    "\n",
    "data = [trace_is_booked, trace_not_booked]\n",
    "\n",
    "layout = go.Layout(\n",
    "    xaxis=dict(title='Days between search and checking time', tickangle=45, automargin=True),\n",
    "    yaxis=dict(title='Frequency')\n",
    ")\n",
    "\n",
    "fig = go.Figure(data=data, layout=layout)\n",
    "fig.show()\n",
    "fig.write_json('./days_between.json')"
   ]
  },
  {
   "attachments": {},
   "cell_type": "markdown",
   "id": "22a296d0-690e-466a-9a8f-dc22d8a8fac1",
   "metadata": {},
   "source": [
    "<h3 align=right style=\"line-height:200%;font-family:vazir;color:#0099cc\">\n",
    "<font face=\"vazir\" color=\"#0099cc\">\n",
    "مصورسازی ۵\n",
    "</font>\n",
    "</h3>\n",
    "\n",
    "<p dir=rtl style=\"direction: rtl; text-align: justify; line-height:200%; font-family:vazir; font-size:medium\">\n",
    "<font face=\"vazir\">\n",
    "همچون نمودار بالا یک نمودار برای مدت اقامت نیز رسم کنید.\n",
    "</font>\n",
    "</p>\n",
    "\n",
    "<p dir=rtl style=\"direction: rtl; text-align: justify; line-height:200%; font-family:vazir; font-size:medium\">\n",
    "<font face=\"vazir\">\n",
    "خروجی نمودار شما باید به‌صورت زیر باشد.\n",
    "</font>\n",
    "</p>\n",
    "\n",
    "<center>\n",
    "<img src = 'https://quera.org/qbox/view/iOh4Yzgkf6/los.png'>\n",
    "</center>"
   ]
  },
  {
   "cell_type": "code",
   "execution_count": null,
   "id": "3e655326-17f0-4f40-9f67-8c425cc73ffe",
   "metadata": {},
   "outputs": [],
   "source": [
    "trace_not_booked = go.Scatter(y = None , name='Not Booked', opacity = 0.5) # TODO\n",
    "trace_is_booked = go.Scatter(y = None , name='Booked') # TODO\n",
    "\n",
    "# در ادامه‌ی این قسمت از کد تغییری ایجاد نکنید زیرا نمودار شما توسط سیستم داوری بررسی می‌شود و تغییر در این قسمت ممکن است باعث عدم داوری صحیح شود\n",
    "\n",
    "data = [trace_is_booked, trace_not_booked]\n",
    "\n",
    "layout = go.Layout(\n",
    "    xaxis=dict(title='Length of Stay', tickangle=45, automargin=True),\n",
    "    yaxis=dict(title='Frequency')\n",
    ")\n",
    "\n",
    "fig = go.Figure(data=data, layout=layout)\n",
    "fig.show()\n",
    "fig.write_json('./los.json')"
   ]
  },
  {
   "attachments": {},
   "cell_type": "markdown",
   "id": "5ab0c8e4-408a-4af0-8a3d-6099075f885a",
   "metadata": {},
   "source": [
    "<h3 align=right style=\"line-height:200%;font-family:vazir;color:#0099cc\">\n",
    "<font face=\"vazir\" color=\"#0099cc\">\n",
    "خارجی یا داخلی\n",
    "</font>\n",
    "</h3>\n",
    "\n",
    "<p dir=rtl style=\"direction: rtl; text-align: justify; line-height:200%; font-family:vazir; font-size:medium\">\n",
    "<font face=\"vazir\" size=3>\n",
    "تا اینجا داده‌های زمانی را مورد بررسی قرار دادیم و سعی کردیم کمی در آن‌‌ها اکتشاف کنیم.\n",
    "حال با توجه به داده‌های دیگر می‌توانیم اکتشافات دیگری انجام دهیم. <br>ستونی با نام <code>is_abroad</code> ایجاد کنید و در آن جست‌وجو‌ها برای هتل‌های خارج از کشور کاربر را مشخص کنید.\n",
    "به‌طور مثال اگر کاربر در کشوری با شناسه‌ی <code>x</code> است و در جست‌وجوی خود هتلی در کشوری غیر از <code>x</code> را جست‌وجو ستون <code>is_abroad</code> را برای این نمونه برابر <code>1</code> قرار دهید.\n",
    "</font>\n",
    "</p>\n"
   ]
  },
  {
   "cell_type": "code",
   "execution_count": null,
   "id": "a5416cb7-8b90-4d1d-8ecb-8bdf142dcc5c",
   "metadata": {},
   "outputs": [],
   "source": [
    "# TODO: Add is_abroad column\n",
    "\n",
    "train['is_abroad'] = None # TODO\n",
    "test['is_abroad'] = None # TODO"
   ]
  },
  {
   "attachments": {},
   "cell_type": "markdown",
   "id": "b8590bb9-2d0a-4c0d-80fa-ea2c2433e6f0",
   "metadata": {},
   "source": [
    "<h3 align=right style=\"line-height:200%;font-family:vazir;color:#0099cc\">\n",
    "<font face=\"vazir\" color=\"#0099cc\">\n",
    "🤓 بیشتر\n",
    "</font>\n",
    "</h3>\n",
    "\n",
    "\n",
    "<p dir=rtl style=\"direction: rtl; text-align: justify; line-height:200%; font-family:vazir; font-size:medium\">\n",
    "<font face=\"vazir\" size=3>\n",
    "از آن‌جا که این مجموعه‌داده شامل ویژگی‌های متعدد و متنوعی است، می‌توانید به غیر از موارد خواسته‌شده، از جنبه‌های مختلفی به تحلیل داده‌ها بپردازید. برای مثال می‌توانید توزیع‌های سایر ویژگی‌ها را بررسی کنید، ارتباط ویژگی‌ها با هم و با متغیر هدف را بررسی کنید. همچنین با توجه به بینش‌هایی که از داده‌ها به‌دست می‌آورید، می‌توانید به پیش‌پردازش داده‌ها بپردازید تا ورودی‌های باکیفیت‌تری را برای مدل خود آماده کنید. این بخش به‌صورت جداگانه مورد داوری قرار نمی‌گیرد و دست شما باز است تا از هر تکنیکی که برای بهبود عملکرد مدل خود لازم می‌دانید استفاده کنید.\n",
    "در انجام مراحل پیش‌پردازش و مهندسی ویژگی، می‌توانید موارد زیر را انجام دهید. همچنین توجه داشته باشید در نهایت مجموعه‌داده آموزش و آزمون باید ساختاری مشابه یکدیگر داشته باشند.\n",
    "\n",
    "<ul dir=rtl>\n",
    "<li dir=rtl>\n",
    " مدیریت ویژگی‌های دسته‌ای ترتیبی و اسمی (توجه داشته باشید با این‌که داده‌های مجموعه‌داده‌ی اولیه از نوع عدد هستند اما الزاماً اعداد آن‌ها بار معنایی از نظر ریاضی ندارند و با برخی از آن‌ها باید همچون ویژگی‌های دسته‌ای برخورد کنید و شاید برای بهبود مدل نیاز به مدیریت این داده‌ها داشته باشید.)\n",
    "    </li>\n",
    "    <li dir=rtl>\n",
    "        در بعضی موارد حذف بعضی ستون‌ها به بهبود مدل کمک می‌کند، به‌طور مثال در مرحله‌ی قبل ستونی برای خارجی بودن هتل ایجاد کردیم، حال ممکن است دیگر نیازی به کشور کاربر و یا هتل با توجه به ستون جدید نداشته باشیم.\n",
    "    </li>\n",
    "       <li dir=rtl>\n",
    "           با بررسی توزیع مجموعه‌داده متوجه می‌شوید که این مجموعه‌داده متوازن نیست، بنابراین نحوه‌ی مدیریت این چالش نیز می‌تواند در مدل شما تاثیر بگذارد.\n",
    "    </li>\n",
    "</ul>\n",
    "</font>\n",
    "</p>\n",
    "\n",
    "<p dir=rtl style=\"direction: rtl; text-align: justify; line-height:200%; font-family:vazir; font-size:medium\">\n",
    "<font face=\"vazir\" size=3>\n",
    "توجه داشته باشید که کدنویسی سلول‌های زیر کاملاً اختیاری است.\n",
    "</font>\n",
    "</p>"
   ]
  },
  {
   "cell_type": "code",
   "execution_count": null,
   "id": "b4428d7c-a728-46bb-8918-2747f85c7751",
   "metadata": {},
   "outputs": [],
   "source": [
    "# TODO: Preprocessing Any Thing You Want"
   ]
  },
  {
   "cell_type": "code",
   "execution_count": null,
   "id": "06a6e679-bc0e-49d4-acf5-d9085d2df66c",
   "metadata": {},
   "outputs": [],
   "source": [
    "# TODO: Preprocessing (Drop Unnecessary Columns) (Optional)"
   ]
  },
  {
   "cell_type": "code",
   "execution_count": null,
   "id": "3e8987ac-64cf-4fac-b8ea-6673382a6dcf",
   "metadata": {},
   "outputs": [],
   "source": [
    "# TODO: Preprocessing (Make One-hotted Columns) (Optional)\n",
    "\n",
    "dummy_columns = [] # Optional\n",
    "\n",
    "train = pd.get_dummies(train, columns = dummy_columns) # Optional\n",
    "test = pd.get_dummies(test, columns = dummy_columns) # Optional"
   ]
  },
  {
   "cell_type": "code",
   "execution_count": null,
   "id": "5e3fd748-321b-40c5-a660-6a5460624df1",
   "metadata": {},
   "outputs": [],
   "source": [
    "# TODO: Preprocessing (Encode Categorical Columns) (Optional)\n",
    "\n",
    "from sklearn.preprocessing import LabelEncoder\n",
    "le = LabelEncoder()\n",
    "\n",
    "columns_to_encode = None # Optional\n",
    "\n",
    "for column in columns_to_encode:\n",
    "    train.loc[:, column] = le.fit_transform(train[column])\n",
    "    test.loc[:, column] = le.transform(test[column])"
   ]
  },
  {
   "cell_type": "code",
   "execution_count": null,
   "id": "600b8882-3d22-4fa6-814b-2d4cd2401bb0",
   "metadata": {},
   "outputs": [],
   "source": [
    "# TODO: Make Validation Set (Optional)\n",
    "\n",
    "from sklearn.model_selection import train_test_split\n",
    "\n",
    "X_train, X_valid, y_train, y_valid = train_test_split(None, None, test_size = None) # Optional"
   ]
  },
  {
   "attachments": {},
   "cell_type": "markdown",
   "id": "0ff3526f-badc-4c9e-8b10-f83b7831a668",
   "metadata": {},
   "source": [
    "<h2 dir=rtl align=right style=\"line-height:200%;font-family:vazir;color:#0099cc\">\n",
    "<font face=\"vazir\" color=\"#0099cc\">\n",
    "مدل‌سازی\n",
    "</font>\n",
    "</h2>\n",
    "\n",
    "\n",
    "<p dir=rtl style=\"direction: rtl; text-align: justify; line-height:200%; font-family:vazir; font-size:medium\">\n",
    "<font face=\"vazir\" size=3>\n",
    "پس از آماده‌سازی داده‌ها نوبت به ساخت شبکه‌ی عصبی می‌رسد. باز هم دست‌تان باز است تا معماری موردنظر خود را طراحی کنید و از هر تکنیکی که لازم می‌دانید جهت بهتر کردن فرآیند آموزش مدل استفاده کنید. پیشنهاد می‌کنیم تکنیک‌های مختلفی که تا اینجای دوره آموخته‌اید را آزمایش کرده و به تفسیر نتایج بپردازید.\n",
    "دقت داشته باشید در خروجی مدل باید احتمال رزرو شدن هتل را پیش‌بینی کنید. به عبارت بهتر احتمال <code>1</code>\n",
    " شدن ستون <code>is_booking</code>\n",
    " را تخمین بزنید.\n",
    "همچنین توجه داشته باشید که برای ارزیابی مدل شما از معیار <code>AUC</code> یعنی سطح زیر منحنی نمودار <code>ROC</code> استفاده می‌شود. برای مطالعه بیشتر در مورد این نمودار می‌توانید <a href = 'https://en.wikipedia.org/wiki/Receiver_operating_characteristic'> ویکی‌پدیا </a>\n",
    "    یا <a href = 'https://stanford.edu/~shervine/l/fa/teaching/cs-229/cheatsheet-machine-learning-tips-and-tricks'> راهنمای کوتاه نکات و ترفندهای یادگیری ماشین </a>\n",
    " را مطالعه کنید.\n",
    "</font>\n",
    "</p>"
   ]
  },
  {
   "cell_type": "code",
   "execution_count": null,
   "id": "dafaffd9-0dad-4bec-aedc-ea0178c8567b",
   "metadata": {},
   "outputs": [],
   "source": [
    "# TODO : Design Model\n",
    "model = None"
   ]
  },
  {
   "cell_type": "code",
   "execution_count": null,
   "id": "d478d2ef-4d53-41bf-9ca5-7aa3a6fd8f0f",
   "metadata": {},
   "outputs": [],
   "source": [
    "# TODO : Complie the Model\n",
    "model.compile(None) # TODO"
   ]
  },
  {
   "cell_type": "code",
   "execution_count": null,
   "id": "482919f9-6af7-4884-a4e4-01ef25c73206",
   "metadata": {},
   "outputs": [],
   "source": [
    "# TODO : Train your Model\n",
    "\n",
    "epochs = None # TODO\n",
    "BATCH_SIZE = None # TODO\n",
    "\n",
    "checkpoint_cb = None # TODO (Optional)\n",
    "\n",
    "history = model.fit(None) #TODO"
   ]
  },
  {
   "attachments": {},
   "cell_type": "markdown",
   "id": "8e88c0c8-ff7f-4ad6-885a-c25e94f19a36",
   "metadata": {},
   "source": [
    "<h2 dir=rtl align=right style=\"line-height:200%;font-family:vazir;color:#0099cc\">\n",
    "<font face=\"vazir\" color=\"#0099cc\">\n",
    "پیش‌بینی\n",
    "</font>\n",
    "</h2>\n",
    "\n",
    "<p dir=rtl style=\"direction: rtl; text-align: justify; line-height:200%; font-family:vazir; font-size:medium\">\n",
    "<font face=\"vazir\" size=3>\n",
    "در فایل <code>test.csv</code> لیستی از نمونه‌های آزمون در اختیار شما قرار گرفته و نیاز است به‌ازای هر کدام از آن‌ها احتمال رزرو هتل را پیش‌بینی کنید. پیشنهاد می‌کنیم برای اطمینان از عملکرد مدل خود و بهبود آن، ابتدا آن را بر روی یک مجموعه‌ی اعتبارسنجی آزمایش کنید.\n",
    "</font>\n",
    "</p>\n",
    "\n",
    "\n",
    "<h3 dir=rtl align=right style=\"line-height:200%;font-family:vazir;color:#0099cc\">\n",
    "<font face=\"vazir\" color=\"#0099cc\">\n",
    "معیار ارزیابی\n",
    "</font>\n",
    "</h3>\n",
    "\n",
    "<p dir=rtl style=\"direction: rtl; text-align: justify; line-height:200%; font-family:vazir; font-size:medium\">\n",
    "<font face=\"vazir\" size=3>\n",
    "برای ارزیابی عملکرد مدل شما بر روی نمونه‌های آزمون از معیار <code>AUC</code> نمودار <code>ROC</code> استفاده می‌کنیم. \n",
    "</font>\n",
    "</p>\n",
    "\n",
    "\n",
    "<p dir=rtl style=\"direction: rtl; text-align: justify; line-height:200%; font-family:vazir; font-size:medium\">\n",
    "<font color=\"red\"><b color='red'>توجه:</b></font>\n",
    "<font face=\"vazir\" size=3>\n",
    " جهت کسب امتیاز کامل نیاز است تا پاسخ شما حداقل امتیاز <code>76.5</code> را با توجه به معیار معرفی‌شده کسب نماید.\n",
    "</font>\n",
    "</p>"
   ]
  },
  {
   "cell_type": "code",
   "execution_count": null,
   "id": "ec07d670-befe-4e3f-8977-fde3dce046a7",
   "metadata": {},
   "outputs": [],
   "source": [
    "from sklearn.metrics import roc_auc_score\n",
    "\n",
    "# TODO: Evaluate Model"
   ]
  },
  {
   "attachments": {},
   "cell_type": "markdown",
   "id": "8fae4c46-b0da-43e0-987e-9694fd2b3f18",
   "metadata": {},
   "source": [
    "<h3 align=right style=\"line-height:200%;font-family:vazir;color:#0099cc\">\n",
    "<font face=\"vazir\" color=\"#0099cc\">\n",
    "ساختار خروجی برای نمونه‌های آزمون\n",
    "</font>\n",
    "</h3>\n",
    "\n",
    "<p dir=rtl style=\"direction: rtl; text-align: justify; line-height:200%; font-family:vazir; font-size:medium\">\n",
    "<font face=\"vazir\" size=3>\n",
    "اکنون نیاز است به‌ازای هر نمونه‌ی آزمون <b style=\"color:#0099cc\">احتمال</b> رزرو هتل را پیش‌بینی کنید.\n",
    " پیش‌بینی مدل خود را برای نمونه‌های آزمون تولید کرده و در ستون <code>prediction</code> دیتافریمی با نام <code>submission</code> ذخیره کنید. توجه داشته باشید که ترتیب مقادیر این ستون باید دقیقاً معادل با ترتیب نمونه‌های آزمون باشد. به این معنی که  ردیف i ام ستون <code>submission</code>، پیش‌بینی شما برای سطر ردیف <code>i</code> ام فایل آزمون باشد (دقت کنید که این ستون باید حتماً دارای <code>header</code> باشد).  همچنین از آنجایی که این ستون بیانگر احتمال است مقادیر این ستون باید مقداری <b>بین</b> <code>0</code> تا <code>1</code> باشد.\n",
    "</font>\n",
    "</p>\n",
    "\n",
    "<p dir=rtl style=\"direction: rtl; text-align: justify; line-height:200%; font-family:vazir; font-size:medium\">\n",
    "<font face=\"vazir\" size=3>\n",
    "یک نمونه‌ی فرضی از دیتافریم <code>submission</code> در جدول زیر نمایش داده شده است.\n",
    " </font>\n",
    "</p>\n",
    "<center>\n",
    "<div dir=rtl style=\"direction: rtl;line-height:200%;font-family:vazir;font-size:medium\">\n",
    "<font face=\"vazir\" size=3>\n",
    "\n",
    "|<code>prediction</code>|\n",
    "|:------:|\n",
    "|0.723|\n",
    "|0.516|\n",
    "|0.281|\n",
    "| ... |\n",
    "\n",
    "    \n",
    "</font>\n",
    "</div>\n",
    "</center>"
   ]
  },
  {
   "cell_type": "code",
   "execution_count": null,
   "id": "825a11e7-fd44-4ced-b9b1-b21b896fd389",
   "metadata": {},
   "outputs": [],
   "source": [
    "# Preparing Submission Dataframe\n",
    "\n",
    "submission = None # TODO"
   ]
  },
  {
   "cell_type": "markdown",
   "id": "61ebb2aa-2b7a-461b-a6aa-d912671cb8a7",
   "metadata": {},
   "source": [
    "<h2 align=right style=\"line-height:200%;font-family:vazir;color:#0099cc\">\n",
    "<font face=\"vazir\" color=\"#0099cc\">\n",
    "<b>سلول جواب‌ساز</b>\n",
    "</font>\n",
    "</h2>\n",
    "\n",
    "<p dir=rtl style=\"direction: rtl; text-align: justify; line-height:200%; font-family:vazir; font-size:medium\">\n",
    "<font face=\"vazir\" size=3>\n",
    "    برای ساخته‌شدن فایل <code>result.zip</code> سلول زیر را اجرا کنید. توجه داشته باشید که پیش از اجرای سلول زیر تغییرات اعمال شده در نت‌بوک را ذخیره کرده باشید (<code>ctrl+s</code>) تا در صورت نیاز به پشتیبانی امکان بررسی کد شما وجود داشته باشد. همچنین اگر از گوگل کولب استفاده می‌کنید، در صورت نیاز به پشتیبانی حتماً آخرین نسخه از نت‌بوک را به‌صورت دستی دانلود کرده و داخل فایل ارسالی قرار دهید یا لینک کولب را با ما به‌اشتراک بگذارید.\n",
    "</font>\n",
    "</p>"
   ]
  },
  {
   "cell_type": "code",
   "execution_count": null,
   "id": "91766915-4a0f-4246-8273-d661a18927b3",
   "metadata": {},
   "outputs": [],
   "source": [
    "import zipfile\n",
    "import joblib\n",
    "import os\n",
    "\n",
    "if not os.path.exists(os.path.join(os.getcwd(), 'will_not_travel_again.ipynb')):\n",
    "    %notebook -e will_not_travel_again.ipynb\n",
    "\n",
    "def compress(file_names):\n",
    "    print(\"File Paths:\")\n",
    "    print(file_names)\n",
    "    compression = zipfile.ZIP_DEFLATED\n",
    "    with zipfile.ZipFile(\"result.zip\", mode=\"w\") as zf:\n",
    "        for file_name in file_names:\n",
    "            zf.write('./' + file_name, file_name, compress_type=compression)\n",
    "\n",
    "submission.to_csv('submission.csv', index=False)\n",
    "file_names = ['will_not_travel_again.ipynb', 'submission.csv',\n",
    "              'search_hour.json', 'checkIn_date_month.json',\n",
    "              'checkIn_day.json', 'days_between.json', 'los.json']\n",
    "compress(file_names)"
   ]
  }
 ],
 "metadata": {
  "kernelspec": {
   "display_name": "Python 3",
   "language": "python",
   "name": "python3"
  },
  "language_info": {
   "codemirror_mode": {
    "name": "ipython",
    "version": 3
   },
   "file_extension": ".py",
   "mimetype": "text/x-python",
   "name": "python",
   "nbconvert_exporter": "python",
   "pygments_lexer": "ipython3",
   "version": "3.8.0"
  },
  "vscode": {
   "interpreter": {
    "hash": "44e7e1b8fa2096bd5707ed7fd18b1724a2db25f4c565a7673f8b6e7bfc49d25d"
   }
  }
 },
 "nbformat": 4,
 "nbformat_minor": 5
}
