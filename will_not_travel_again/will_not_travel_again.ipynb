{
  "cells": [
    {
      "cell_type": "markdown",
      "id": "20280abf-5599-4c89-be54-e9474622b2f6",
      "metadata": {
        "id": "20280abf-5599-4c89-be54-e9474622b2f6"
      },
      "source": [
        "<h1 dir=rtl align=center style=\"line-height:200%;font-family:vazir;color:#0099cc\">\n",
        "<font face=\"vazir\" color=\"#0099cc\">\n",
        "سفر نمی‌روم دگر!\n",
        "</font>\n",
        "</h1>\n",
        "\n",
        "\n",
        "<p dir=rtl style=\"direction: rtl; text-align: justify; line-height:200%; font-family:vazir; font-size:medium\">\n",
        "<font face=\"vazir\" size=3>\n",
        "    احتمالاً هنگامی‌که بخواهید برای تعطیلات نوروز به یک شهر مانند ارومیه سفر کنید، از طریق موبایل و یا لپ‌تاپ‌ و از مسیر جست‌وجوی گوگل، پیامک تبلیغاتی و یا به‌صورت مستقیم، وارد یک سایت رزرو هتل می‌شوید و بعد از ساخت حساب کاربری، اقدام به جست‌وجو کرده و مقصد و تاریخ ورود/خروج خود را وارد می‌کنید. در نتیجه لیستی از هتل‌ها برای شما، نشان داده‌ می‌شود و در نهایت، شما با کلیک بر روی هتل‌های مختلف، اقدام به مقایسه ی آن‌ها کرده و شاید (🙃) در نهایت یکی از آن‌ها را رزرو کنید.\n",
        "<br>\n",
        "در این پروژه شما پس از پیش‌پردازش داده‌ها و حل چالش‌های مربوط به آن، مدلی را آموزش می‌دهید که بر اساس اطلاعات جست‌وجوی کاربران و سایر ویژگی‌های مرتبط با آن، بتواند پیش‌بینی کند که آیا یک کاربر، هتل مشاهده‌شده را رزرو خواهد کرد یا خیر. بدین ترتیب، می‌توان در لحظه برای هر کاربر، متناسب با پیش‌بینی رزرو، تصمیم متناسبی همانند ارائه‌ی تخفیف و یا پیشنهاد سایر هتل‌ها اتخاذ کرد.\n",
        "</font>\n",
        "</p>"
      ]
    },
    {
      "cell_type": "markdown",
      "id": "aad47031-e73c-4f74-85ca-27fed60fa8b5",
      "metadata": {
        "id": "aad47031-e73c-4f74-85ca-27fed60fa8b5"
      },
      "source": [
        "<h2 align=right style=\"line-height:200%;font-family:vazir;color:#0099cc\">\n",
        "<font face=\"vazir\" color=\"#0099cc\">\n",
        "وارد کردن کتابخانه‌های مورد نیاز\n",
        "</font>\n",
        "</h2>\n",
        "\n",
        "<p dir=rtl style=\"direction: rtl; text-align: justify; line-height:200%; font-family:vazir; font-size:medium\">\n",
        "<font face=\"vazir\" size=3>\n",
        "    ابتدا کتابخانه‌های مورد نیاز را وارد کنید. در صورتی‌که نیاز به کتابخانه‌های دیگری دارید نیز می‌توانید آن‌ها را فراخوانی کنید.\n",
        "</font>\n",
        "</p>"
      ]
    },
    {
      "cell_type": "code",
      "execution_count": 1,
      "id": "f0a3e032-9c3c-49ae-be43-bc56fb0f1bdd",
      "metadata": {
        "id": "f0a3e032-9c3c-49ae-be43-bc56fb0f1bdd"
      },
      "outputs": [],
      "source": [
        "import numpy as np\n",
        "import pandas as pd\n",
        "import plotly.graph_objects as go"
      ]
    },
    {
      "cell_type": "code",
      "execution_count": 2,
      "id": "ebd8caa9",
      "metadata": {
        "id": "ebd8caa9"
      },
      "outputs": [],
      "source": [
        "import os\n",
        "os.environ[\"KERAS_BACKEND\"] = \"tensorflow\""
      ]
    },
    {
      "cell_type": "code",
      "execution_count": 3,
      "id": "ea032cd4",
      "metadata": {
        "id": "ea032cd4",
        "outputId": "032fd643-0554-419f-ffdc-589e6962b643",
        "colab": {
          "base_uri": "https://localhost:8080/"
        }
      },
      "outputs": [
        {
          "output_type": "stream",
          "name": "stdout",
          "text": [
            "2.15.0\n"
          ]
        }
      ],
      "source": [
        "import keras\n",
        "print(keras.__version__)"
      ]
    },
    {
      "cell_type": "markdown",
      "id": "60c78b08-d918-4544-ad76-2d1dff9714f1",
      "metadata": {
        "id": "60c78b08-d918-4544-ad76-2d1dff9714f1"
      },
      "source": [
        "<h2 dir=rtl align=right style=\"line-height:200%;font-family:vazir;color:#0099cc\">\n",
        "<font face=\"vazir\" color=\"#0099cc\">\n",
        "مجموعه‌داده\n",
        "</font>\n",
        "</h2>\n",
        "\n",
        "\n",
        "\n",
        "<p dir=rtl style=\"direction: rtl; text-align: justify; line-height:200%; font-family:vazir; font-size:medium\">\n",
        "<font face=\"vazir\" size=3>\n",
        "به‌دلیل حجم بالای مجموعه‌داده نیاز است آن را جداگانه از <a href=\"https://drive.google.com/file/d/1jIl8uXsrdRz3ZBxljjQNo0ssDT8LbJBx/view?usp=sharing\" target=\"_blank\">این لینک</a> دانلود کرده و فایل‌های داخل آن را استخراج کنید.  توجه داشته باشید که اندازه‌ی مجموعه‌داده حدود ۱۸۰ مگابایت است و اگر قصد دانلود این حجم از داده را ندارید پیشنهاد می‌کنیم از محیط گوگل کولب استفاده کرده و به‌صورت مستقیم با دستور زیر این فایل را روی کولب خود بارگیری کنید.\n",
        "</font>\n",
        "</p>\n",
        "\n",
        "`!gdown 1jIl8uXsrdRz3ZBxljjQNo0ssDT8LbJBx`\n",
        "\n",
        "<details dir=\"rtl\" style=\"direction: rtl;text-align: justify;line-height:200%;font-family:vazir;font-size:medium\">\n",
        "<summary dir=\"rtl\" style=\"color:orange\"><b>رفع مشکل عدم امکان دانلود فایل با <code>gdown</code></b></summary>\n",
        "\n",
        "اگر در هنگام دانلود فایل به‌کمک <code>gdown</code> با خطای عدم اجازه‌ی دسترسی مواجه شدید، کافیست کد زیر را اجرا کرده و دوباره امتحان کنید.\n",
        "\n",
        "<span dir=ltr style=\"direction:ltr;\">\n",
        "\n",
        "`!pip install --upgrade --no-cache-dir gdown`\n",
        "\n",
        "</span>\n",
        "</details>\n",
        "\n",
        "<p dir=rtl style=\"direction: rtl; text-align: justify; line-height:200%; font-family:vazir; font-size:medium\">\n",
        "<font face=\"vazir\">\n",
        "در این سوال، شما به داده‌های جست‌وجوی کاربران دسترسی دارید. فایل آموزش (<code>train.csv</code>)، نتایج جست‌وجوی کاربران را در یک بازه‌ی حدوداً دو ساله شامل می‌شود و حدود ۷ میلیون سطر دارد. فایل آزمون (<code>test.csv</code>) دارای ۳۰۰ هزار سطر از اطلاعات جست‌وجوی کاربران در بازه‌ی حدود ۱ ماه پس از آخرین جست‌وجوی موجود در فایل آموزش است (این سطرها، به‌صورت تصادفی از بین چند میلیون سطر آن ماه، انتخاب شده‌اند).\n",
        "جدول زیر، ستون‌های موجود در فایل آموزش را توضیح می‌دهد. توجه داشته‌ باشید که هر ردیف این مجموعه‌داده، نشان‌دهنده‌ی جست‌وجوی یک کاربر جهت رزرو هتل است.\n",
        "     همچنین در مجموعه‌داده‌ی آزمون، ستون <code>is_booking</code> وجود ندارد، زیرا در ادامه از این ستون برای ساخت متغیر هدف مسئله استفاده خواهیم کرد.\n",
        "    <br> نحوه‌ی روبه‌رو شدن شما با مجموعه‌داده‌ای با این حجم، جزو یکی از چالش‌ها و اهداف طراحی این تمرین بوده‌است.\n",
        "\n",
        "</font>\n",
        "</p>\n",
        "\n",
        "\n",
        "<center>\n",
        "<div dir=rtl style=\"direction: rtl;line-height:200%;font-family:vazir;font-size:medium\">\n",
        "<font face=\"vazir\" size=3>\n",
        "\n",
        "| نام ستون | توضیحات ستون |\n",
        "|:----------:|:------------------:|\n",
        "| <code>user</code> | شناسه کاربر |\n",
        "| <code>user_location_country</code> | شناسه‌ی کشور کاربر |\n",
        "| <code>user_location_region</code> | شناسه‌ی منطقه‌ی کاربر |\n",
        "| <code>user_location_city</code> | شناسه‌ی شهر کاربر |\n",
        "| <code>destination_distance</code> | فاصله‌ی فیزیکی بین کاربر و هتل در زمان جست‌وجو‌ (مقدار <code>null</code> به معنی عدم توانایی محاسبه فاصله است) |\n",
        "| <code>search_date</code> | زمان انجام جست‌وجو |\n",
        "| <code>is_mobile</code> | آیا کاربر با دستگاه موبایل جست‌وجو انجام داده است؟ |\n",
        "| <code>is_package</code> | آیا کاربر در حال جست‌وجوی هتل به‌همراه بلیط حمل‌و‌نقل (اتوبوس، هواپیما یا قطار) است؟|\n",
        "| <code>channel</code> | کاربر از چه کانالی وارد سایت شده‌است؟ (تبلیغات پیامکی، تبلیغات شبکه‌ی اجتماعی، ورود مستقیم و ...)  |\n",
        "| <code>Search_count</code> |تعداد جست‌وجو‌های مشابه در لحظه‌ی کاربر (در همان نشست یا ‌<i>session</i>)|\n",
        "| <code>checkIn_date</code> | تاریخ ورود به هتل |\n",
        "| <code>checkOut_date</code> | تاریخ خروج از هتل |\n",
        "| <code>n_adults</code> | تعداد افراد بالغ اعلام‌شده جهت رزرو هتل |\n",
        "| <code>n_children</code> | تعداد کودکان اعلام‌شده جهت رزرو هتل |\n",
        "| <code>n_rooms</code> | تعداد اتاق مورد نظر برای رزرو |\n",
        "| <code>destination</code> | شناسه‌ی محل هتل مورد نظر کاربر (با هم‌پوشانی همچون نیویورک، نیویورک سیتی، سنترال پارک و غیره) |\n",
        "| <code>destination_type</code> | کد نوع هتل مورد نظر کار‌بر |\n",
        "| <code>hotel_continent</code> | شناسه‌ی قاره‌ی هتل مورد نظر کاربر |\n",
        "| <code>hotel_country</code> | شناسه‌ی کشور هتل مورد نظر کاربر |\n",
        "| <code>hotel_market</code> | ناحیه‌ای که هتل مورد نظر کاربر در آن قرار گرفته‌است (بدون هم‌پوشانی همچون نیویورک، بوستون و غیره)|\n",
        "| <code>hotel_category</code> | گرو‌ه‌بندی هتلی که جزییاتش را مشاهده می‌کنند. این گروه‌بندی می‌تواند بر اساس مواردی مانند چندستاره بودن و یا نوع هتل باشد. |\n",
        "| <code>is_booking<code> | آیا کاربر در نهایت، هتل مشاهده‌شده را رزرو کرده یا خیر؟ |\n",
        "\n",
        "\n",
        "</font>\n",
        "</div>\n",
        "</center>"
      ]
    },
    {
      "cell_type": "code",
      "execution_count": 4,
      "id": "238e2183",
      "metadata": {
        "id": "238e2183",
        "outputId": "78017dd9-e20d-438b-ab09-00954cb69bc2",
        "colab": {
          "base_uri": "https://localhost:8080/"
        }
      },
      "outputs": [
        {
          "output_type": "stream",
          "name": "stdout",
          "text": [
            "Requirement already satisfied: gdown in /usr/local/lib/python3.10/dist-packages (5.2.0)\n",
            "Requirement already satisfied: beautifulsoup4 in /usr/local/lib/python3.10/dist-packages (from gdown) (4.12.3)\n",
            "Requirement already satisfied: filelock in /usr/local/lib/python3.10/dist-packages (from gdown) (3.15.4)\n",
            "Requirement already satisfied: requests[socks] in /usr/local/lib/python3.10/dist-packages (from gdown) (2.31.0)\n",
            "Requirement already satisfied: tqdm in /usr/local/lib/python3.10/dist-packages (from gdown) (4.66.4)\n",
            "Requirement already satisfied: soupsieve>1.2 in /usr/local/lib/python3.10/dist-packages (from beautifulsoup4->gdown) (2.5)\n",
            "Requirement already satisfied: charset-normalizer<4,>=2 in /usr/local/lib/python3.10/dist-packages (from requests[socks]->gdown) (3.3.2)\n",
            "Requirement already satisfied: idna<4,>=2.5 in /usr/local/lib/python3.10/dist-packages (from requests[socks]->gdown) (3.7)\n",
            "Requirement already satisfied: urllib3<3,>=1.21.1 in /usr/local/lib/python3.10/dist-packages (from requests[socks]->gdown) (2.0.7)\n",
            "Requirement already satisfied: certifi>=2017.4.17 in /usr/local/lib/python3.10/dist-packages (from requests[socks]->gdown) (2024.6.2)\n",
            "Requirement already satisfied: PySocks!=1.5.7,>=1.5.6 in /usr/local/lib/python3.10/dist-packages (from requests[socks]->gdown) (1.7.1)\n",
            "Downloading...\n",
            "From (original): https://drive.google.com/uc?id=1jIl8uXsrdRz3ZBxljjQNo0ssDT8LbJBx\n",
            "From (redirected): https://drive.google.com/uc?id=1jIl8uXsrdRz3ZBxljjQNo0ssDT8LbJBx&confirm=t&uuid=31d2d274-a704-40a1-bd14-c3af6a90fe73\n",
            "To: /content/will_not_travel_again_data.zip\n",
            "100% 188M/188M [00:04<00:00, 39.0MB/s]\n"
          ]
        }
      ],
      "source": [
        "!pip install --upgrade --no-cache-dir gdown\n",
        "!gdown 1jIl8uXsrdRz3ZBxljjQNo0ssDT8LbJBx"
      ]
    },
    {
      "cell_type": "code",
      "source": [
        "import zipfile\n",
        "with zipfile.ZipFile('will_not_travel_again_data.zip', 'r') as zip_ref:\n",
        "    zip_ref.extractall()"
      ],
      "metadata": {
        "id": "sDHXMgId5jhJ"
      },
      "id": "sDHXMgId5jhJ",
      "execution_count": 5,
      "outputs": []
    },
    {
      "cell_type": "markdown",
      "id": "820bf0d7-de5a-4d03-bfed-c74ea313411a",
      "metadata": {
        "id": "820bf0d7-de5a-4d03-bfed-c74ea313411a"
      },
      "source": [
        "<h2 align=right style=\"line-height:200%;font-family:vazir;color:#0099cc\">\n",
        "<font face=\"vazir\" color=\"#0099cc\">\n",
        "خوانش مجموعه‌داده\n",
        "</font>\n",
        "</h2>\n",
        "\n",
        "<p dir=rtl style=\"direction: rtl; text-align: justify; line-height:200%; font-family:vazir; font-size:medium\">\n",
        "<font face=\"vazir\" size=3>\n",
        "   در ابتدا نیاز است فایل‌ مجموعه‌داده را بخوانید. داده‌‌های آموزش را می‌توانید از فایل <code>train.csv</code> موجود در پوشه‌ی <code>data</code> بخوانید و از نمونه‌های موجود در آن برای آموزش مدل استفاده کنید.\n",
        " عملکرد مدل شما روی داده‌ی <code>test.csv</code> برسی می‌شود.\n",
        "</font>\n",
        "</p>"
      ]
    },
    {
      "cell_type": "code",
      "source": [
        "train = pd.read_csv('data/train.csv', engine='pyarrow')\n",
        "test = pd.read_csv('data/test.csv', engine='pyarrow')"
      ],
      "metadata": {
        "id": "IGL3Rm7Y504h"
      },
      "id": "IGL3Rm7Y504h",
      "execution_count": 6,
      "outputs": []
    },
    {
      "cell_type": "markdown",
      "id": "21c8f01d-e4e1-4c47-abdc-9b87f355e1bb",
      "metadata": {
        "id": "21c8f01d-e4e1-4c47-abdc-9b87f355e1bb"
      },
      "source": [
        "<h2 align=right style=\"line-height:200%;font-family:vazir;color:#0099cc\">\n",
        "<font face=\"vazir\" color=\"#0099cc\">\n",
        "اکتشاف داده‌ها و مهندسی ویژکی\n",
        "</font>\n",
        "</h2>\n",
        "\n",
        "<p dir=rtl style=\"direction: rtl; text-align: justify; line-height:200%; font-family:vazir; font-size:medium\">\n",
        "<font face=\"vazir\" size=3>\n",
        "در مرحله اول به بررسی و اکتشاف داده‌ها و مهندسی ویژگی می‌پردازیم. در ابتدا با حذف ستون  <code>user</code> سعی در کم‌کردن حجم داده‌ها می‌کنیم، این عمل با توجه به یکتایی این مقادیر تاثیری در عملکرد مدل نخواهد داشت.\n",
        "</font>\n",
        "</p>"
      ]
    },
    {
      "cell_type": "code",
      "execution_count": 7,
      "id": "b3bc71b5-b4ee-4bd9-a74b-de7a16fcb9d7",
      "metadata": {
        "id": "b3bc71b5-b4ee-4bd9-a74b-de7a16fcb9d7"
      },
      "outputs": [],
      "source": [
        "train = train.drop(columns = ['user'])\n",
        "test = test.drop(columns = ['user'])"
      ]
    },
    {
      "cell_type": "markdown",
      "id": "eb53e676-fdf5-42ae-bf6f-ad9c8e8ad893",
      "metadata": {
        "id": "eb53e676-fdf5-42ae-bf6f-ad9c8e8ad893"
      },
      "source": [
        "<h3 align=right style=\"line-height:200%;font-family:vazir;color:#0099cc\">\n",
        "<font face=\"vazir\" color=\"#0099cc\">\n",
        "حذف مقادیر گم‌شده\n",
        "</font>\n",
        "</h3>\n",
        "\n",
        "\n",
        "<p dir=rtl style=\"direction: rtl; text-align: justify; line-height:200%; font-family:vazir; font-size:medium\">\n",
        "<font face=\"vazir\" size=3>\n",
        "   ابتدا با بررسی مقادیر گم‌شده در ستون‌های <code>checkIn_date</code> و <code>checkOut_date</code> این مقادیر را مدیریت کنید. در صورتی‌که حداقل ۹۹ درصد نمونه‌های شامل مقادیر گم‌شده در هر ستون دارای <b style=\"color:#0099cc\">متغیر هدف</b> با مقدار <code>0</code> باشند، آن‌ها را حذف کنید، در غیر این‌صورت از روشی دیگری جهت مدیریت آن‌ها بهره ببرید.\n",
        "</font>\n",
        "</p>"
      ]
    },
    {
      "cell_type": "code",
      "source": [
        "train.isnull().sum()"
      ],
      "metadata": {
        "id": "qARhHiNw79wX",
        "outputId": "824e18b6-a6ed-4d0e-d79f-d5fabbec2f2c",
        "colab": {
          "base_uri": "https://localhost:8080/"
        }
      },
      "id": "qARhHiNw79wX",
      "execution_count": 10,
      "outputs": [
        {
          "output_type": "execute_result",
          "data": {
            "text/plain": [
              "user_location_country          0\n",
              "user_location_region           0\n",
              "user_location_city             0\n",
              "destination_distance     2727207\n",
              "search_date                    0\n",
              "is_mobile                      0\n",
              "is_package                     0\n",
              "channel                        0\n",
              "search_count                   0\n",
              "checkIn_date               14292\n",
              "checkOut_date              14292\n",
              "n_adults                       0\n",
              "n_children                     0\n",
              "n_rooms                        0\n",
              "destination                    0\n",
              "destination_type               0\n",
              "hotel_continent                0\n",
              "hotel_country                  0\n",
              "hotel_market                   0\n",
              "hotel_category                 0\n",
              "is_booking                     0\n",
              "dtype: int64"
            ]
          },
          "metadata": {},
          "execution_count": 10
        }
      ]
    },
    {
      "cell_type": "code",
      "source": [
        "test.isnull().sum()"
      ],
      "metadata": {
        "colab": {
          "base_uri": "https://localhost:8080/"
        },
        "id": "zNlcRnm0Z7R5",
        "outputId": "80a20d85-00f7-4053-c87a-2c9e49dc27ab"
      },
      "id": "zNlcRnm0Z7R5",
      "execution_count": 11,
      "outputs": [
        {
          "output_type": "execute_result",
          "data": {
            "text/plain": [
              "                             0\n",
              "user_location_country        0\n",
              "user_location_region         0\n",
              "user_location_city           0\n",
              "destination_distance     98670\n",
              "search_date                  0\n",
              "is_mobile                    0\n",
              "is_package                   0\n",
              "channel                      0\n",
              "search_count                 0\n",
              "checkIn_date                 0\n",
              "checkOut_date                0\n",
              "n_adults                     0\n",
              "n_children                   0\n",
              "n_rooms                      0\n",
              "destination                  0\n",
              "destination_type             0\n",
              "hotel_continent              0\n",
              "hotel_country                0\n",
              "hotel_market                 0\n",
              "hotel_category               0\n",
              "dtype: int64"
            ]
          },
          "metadata": {},
          "execution_count": 11
        }
      ]
    },
    {
      "cell_type": "code",
      "execution_count": 8,
      "id": "e09a9ead-6393-45ac-a9d7-aa659f026982",
      "metadata": {
        "id": "e09a9ead-6393-45ac-a9d7-aa659f026982"
      },
      "outputs": [],
      "source": [
        "train.drop(train[(train['checkIn_date'].isnull()) & (train['checkOut_date'].isnull()) & (train['is_booking']==0)].index, inplace=True)"
      ]
    },
    {
      "cell_type": "code",
      "execution_count": 13,
      "id": "1e39b74b-d746-4231-a398-ad325acc5a0e",
      "metadata": {
        "id": "1e39b74b-d746-4231-a398-ad325acc5a0e",
        "colab": {
          "base_uri": "https://localhost:8080/"
        },
        "outputId": "784f1a1d-1b8a-4a6a-d743-9a51497f22a4"
      },
      "outputs": [
        {
          "output_type": "execute_result",
          "data": {
            "text/plain": [
              "user_location_country          0\n",
              "user_location_region           0\n",
              "user_location_city             0\n",
              "destination_distance     2721079\n",
              "search_date                    0\n",
              "is_mobile                      0\n",
              "is_package                     0\n",
              "channel                        0\n",
              "search_count                   0\n",
              "checkIn_date                   0\n",
              "checkOut_date                  0\n",
              "n_adults                       0\n",
              "n_children                     0\n",
              "n_rooms                        0\n",
              "destination                    0\n",
              "destination_type               0\n",
              "hotel_continent                0\n",
              "hotel_country                  0\n",
              "hotel_market                   0\n",
              "hotel_category                 0\n",
              "is_booking                     0\n",
              "dtype: int64"
            ]
          },
          "metadata": {},
          "execution_count": 13
        }
      ],
      "source": [
        "train.isnull().sum()"
      ]
    },
    {
      "cell_type": "markdown",
      "id": "6d02efbb-de3b-408c-b70f-86cbc34839b1",
      "metadata": {
        "id": "6d02efbb-de3b-408c-b70f-86cbc34839b1"
      },
      "source": [
        "\n",
        "<p dir=rtl style=\"direction: rtl; text-align: justify; line-height:200%; font-family:vazir; font-size:medium\">\n",
        "<font face=\"vazir\" size=3>\n",
        "همان‌طور که در توضیحات ستون‌های مسئله دیدیم ستون <code>destination_distance</code> فاصله‌ی فیزیکی بین کاربر و هتل در زمان جست‌وجو‌ را نشان می‌دهد. از آنجایی که می‌توانیم بگوییم فاصله‌ی محاسبه‌شده دو شهر با یکدیگر همواره ثابت یا در یک محدوده است، برای پر کردن مقادیر گم‌شده‌ای که این فاصله را نشان می‌دهد، می‌توانیم از <code>user_location_city</code> و <code>destination</code> که بیانگر شناسه‌ی شهر کاربر و هتل جست‌وجو شده هستند، استفاده کنیم به‌طوری‌که نمونه‌‌های که ستون‌ <code>destination_distance</code> در آن گم‌شده است، با را با میانگین مقدار  <code>destination_distance</code> در ستون‌هایی که <code>user_location_city</code> و <code>destination</code> مشابه دارند پر کنیم.\n",
        "</font>\n",
        "</p>\n"
      ]
    },
    {
      "cell_type": "code",
      "source": [
        "train['destination_distance'].fillna(train.groupby(['user_location_city'])['destination_distance'].mean(), inplace=True)\n",
        "test['destination_distance'].fillna(test.groupby(['user_location_city'])['destination_distance'].mean(), inplace=True)"
      ],
      "metadata": {
        "id": "luOTwm6RbFuh"
      },
      "id": "luOTwm6RbFuh",
      "execution_count": 9,
      "outputs": []
    },
    {
      "cell_type": "code",
      "execution_count": 10,
      "id": "535e3d80-6bb9-4f4e-9324-431a70a6f624",
      "metadata": {
        "id": "535e3d80-6bb9-4f4e-9324-431a70a6f624"
      },
      "outputs": [],
      "source": [
        "mean = train.isna().mean()['destination_distance']\n",
        "mean_test = test.isna().mean()['destination_distance']\n",
        "\n",
        "train['destination_distance'].fillna(mean, inplace = True) #TODO\n",
        "test['destination_distance'].fillna(mean_test, inplace = True) #TODO"
      ]
    },
    {
      "cell_type": "markdown",
      "id": "dd209317-8d16-46b6-92b6-a51924fd42b6",
      "metadata": {
        "id": "dd209317-8d16-46b6-92b6-a51924fd42b6"
      },
      "source": [
        "\n",
        "<p dir=rtl style=\"direction: rtl; text-align: justify; line-height:200%; font-family:vazir; font-size:medium\">\n",
        "<font face=\"vazir\" size=3>\n",
        "حال برای سایر موارد گم‌شده از عددی مانند <code>0</code> که در این ستون استفاده نشده است، استفاده می‌کنیم.\n",
        "</font>\n",
        "</p>\n"
      ]
    },
    {
      "cell_type": "code",
      "source": [
        "train.isna().sum()"
      ],
      "metadata": {
        "colab": {
          "base_uri": "https://localhost:8080/"
        },
        "id": "wqY3X63ldV2T",
        "outputId": "35b722a5-792f-4e0f-d1d5-8b6435b20d36"
      },
      "id": "wqY3X63ldV2T",
      "execution_count": 16,
      "outputs": [
        {
          "output_type": "execute_result",
          "data": {
            "text/plain": [
              "user_location_country    0\n",
              "user_location_region     0\n",
              "user_location_city       0\n",
              "destination_distance     0\n",
              "search_date              0\n",
              "is_mobile                0\n",
              "is_package               0\n",
              "channel                  0\n",
              "search_count             0\n",
              "checkIn_date             0\n",
              "checkOut_date            0\n",
              "n_adults                 0\n",
              "n_children               0\n",
              "n_rooms                  0\n",
              "destination              0\n",
              "destination_type         0\n",
              "hotel_continent          0\n",
              "hotel_country            0\n",
              "hotel_market             0\n",
              "hotel_category           0\n",
              "is_booking               0\n",
              "dtype: int64"
            ]
          },
          "metadata": {},
          "execution_count": 16
        }
      ]
    },
    {
      "cell_type": "code",
      "source": [
        "test.isna().sum()"
      ],
      "metadata": {
        "colab": {
          "base_uri": "https://localhost:8080/"
        },
        "id": "9hmx_BDOdfCW",
        "outputId": "5a6689af-424e-46ed-b324-a8a4847c4c5a"
      },
      "id": "9hmx_BDOdfCW",
      "execution_count": 17,
      "outputs": [
        {
          "output_type": "execute_result",
          "data": {
            "text/plain": [
              "                         0\n",
              "user_location_country    0\n",
              "user_location_region     0\n",
              "user_location_city       0\n",
              "destination_distance     0\n",
              "search_date              0\n",
              "is_mobile                0\n",
              "is_package               0\n",
              "channel                  0\n",
              "search_count             0\n",
              "checkIn_date             0\n",
              "checkOut_date            0\n",
              "n_adults                 0\n",
              "n_children               0\n",
              "n_rooms                  0\n",
              "destination              0\n",
              "destination_type         0\n",
              "hotel_continent          0\n",
              "hotel_country            0\n",
              "hotel_market             0\n",
              "hotel_category           0\n",
              "dtype: int64"
            ]
          },
          "metadata": {},
          "execution_count": 17
        }
      ]
    },
    {
      "cell_type": "markdown",
      "id": "369a75cd-4530-4918-ba85-3bb774213297",
      "metadata": {
        "id": "369a75cd-4530-4918-ba85-3bb774213297"
      },
      "source": [
        "<h3 align=right style=\"line-height:200%;font-family:vazir;color:#0099cc\">\n",
        "<font face=\"vazir\" color=\"#0099cc\">\n",
        "ویژگی‌های زمانی\n",
        "</font>\n",
        "</h3>\n",
        "\n",
        "<p dir=rtl style=\"direction: rtl; text-align: justify; line-height:200%; font-family:vazir; font-size:medium\">\n",
        "<font face=\"vazir\" size=3>\n",
        "با بررسی ستون‌های مجموعه‌داده مشاهده می‌کنیم که سه ستون <code>checkOut_date</code>، <code>checkOut_date</code> و <code>search_date</code> بیانگر زمان هستند و می‌توان با تبدیل این مقادیر به <code>datetime64[ns]</code>  از آن‌ها اطلاعات و حتی ویژگی‌های جدید و مناسبی استخراج کرد. برای این‌کار از دستور زیر استفاده کنید. البته اکیداً توصیه می‌شود مستندات مربوط به کار با این نوع داده‌ها را بررسی کنید.\n",
        "</font>\n"
      ]
    },
    {
      "cell_type": "code",
      "execution_count": 11,
      "id": "3db53ef8-80e4-4763-8a77-d56d6d25cca3",
      "metadata": {
        "id": "3db53ef8-80e4-4763-8a77-d56d6d25cca3"
      },
      "outputs": [],
      "source": [
        "time_columns = ['search_date', 'checkIn_date', 'checkOut_date']\n",
        "\n",
        "for col in time_columns:\n",
        "  train[col]= pd.to_datetime(train[col])\n",
        "  test[col]= pd.to_datetime(test[col])"
      ]
    },
    {
      "cell_type": "markdown",
      "id": "3c07758f-2412-4e28-9491-d970a2fe3f63",
      "metadata": {
        "id": "3c07758f-2412-4e28-9491-d970a2fe3f63"
      },
      "source": [
        "\n",
        "<p dir=rtl style=\"direction: rtl; text-align: justify; line-height:200%; font-family:vazir; font-size:medium\">\n",
        "<font face=\"vazir\" size=3>\n",
        "در ابتدا شاید این سه ستون زمانی اطلاعات خوبی به مدل ندهند اما با بررسی دقیق‌تر می‌توانیم دو ویژگی جدید که تعیین‌کننده‌ی  <b>تعداد روز‌های بین زمان جست‌وجو و زمان تعیین‌شده برای ورود</b> و همچنین <b>تعداد روز‌های اقامت تعیین‌شده در جست‌وجو</b> هستند را به مجموعه داده اضافه کنیم.\n",
        "</font>\n",
        "</p>"
      ]
    },
    {
      "cell_type": "code",
      "execution_count": 12,
      "id": "4a0893a4-b555-4bfc-b521-b1e535edb7c5",
      "metadata": {
        "id": "4a0893a4-b555-4bfc-b521-b1e535edb7c5"
      },
      "outputs": [],
      "source": [
        "train['duration'] = (train['checkOut_date'] - train['checkIn_date']).dt.days\n",
        "test['duration'] = (test['checkOut_date'] - test['checkIn_date']).dt.days\n",
        "\n",
        "train['days_between'] = (train['checkIn_date'] - train['search_date']).dt.days\n",
        "test['days_between'] = (test['checkIn_date'] - test['search_date']).dt.days"
      ]
    },
    {
      "cell_type": "markdown",
      "id": "1a8ae6ff-3d3f-4a87-81f9-8063ebf70669",
      "metadata": {
        "id": "1a8ae6ff-3d3f-4a87-81f9-8063ebf70669"
      },
      "source": [
        "<p dir=rtl style=\"direction: rtl; text-align: justify; line-height:200%; font-family:vazir; font-size:medium\">\n",
        "<font face=\"vazir\">\n",
        "همچنین می‌توانیم با بررسی ساعت، شماره روز‌ هفته و ماه زمان جست‌وجو و ورود به هتل، ارتباط آن‌ها را با رزرو هتل بررسی کنیم. بنابراین ستونی‌های جدول زیر را به مجموعه‌داده اضافه کنید.\n",
        "</font>\n",
        "</p>\n",
        "\n",
        "<center>\n",
        "<div dir=rtl style=\"direction: rtl;line-height:200%;font-family:vazir;font-size:medium\">\n",
        "<font face=\"vazir\" size=3>\n",
        "\n",
        "| نام ستون | توضیحات ستون |\n",
        "|:-:|:-:|\n",
        "|<code>search_date_hour</code>|ساعت جست‌وجو |\n",
        "|<code>search_date_dayofweek</code>|روز جست‌وجو در هفته|\n",
        "|<code>checkIn_date_dayofweek</code>|روز ورود در هفته|\n",
        "|<code>search_date_month</code>|ماه جست‌وجو|\n",
        "|<code>checkIn_date_month</code>|ماه ورود|\n",
        "\n",
        "</font>\n",
        "</div>\n",
        "</center>\n"
      ]
    },
    {
      "cell_type": "code",
      "execution_count": 13,
      "id": "c1d89ef1-2f82-42f4-b6c6-909751763012",
      "metadata": {
        "id": "c1d89ef1-2f82-42f4-b6c6-909751763012"
      },
      "outputs": [],
      "source": [
        "train['search_date_hour'] = train['search_date'].dt.hour\n",
        "train['search_date_dayofweek'] = train['search_date'].dt.dayofweek\n",
        "train['checkIn_date_dayofweek'] = train['checkIn_date'].dt.dayofweek\n",
        "train['search_date_month'] = train['search_date'].dt.month\n",
        "train['checkIn_date_month'] = train['checkIn_date'].dt.month\n",
        "\n",
        "test['search_date_hour'] = test['search_date'].dt.hour\n",
        "test['search_date_dayofweek'] = test['search_date'].dt.dayofweek\n",
        "test['checkIn_date_dayofweek'] = test['checkIn_date'].dt.dayofweek\n",
        "test['search_date_month'] = test['search_date'].dt.month\n",
        "test['checkIn_date_month'] = test['checkIn_date'].dt.month"
      ]
    },
    {
      "cell_type": "markdown",
      "id": "a7a89f7c-8cf3-4a5b-8f3b-537a6ef98395",
      "metadata": {
        "id": "a7a89f7c-8cf3-4a5b-8f3b-537a6ef98395"
      },
      "source": [
        "<p dir=rtl style=\"direction: rtl; text-align: justify; line-height:200%; font-family:vazir; font-size:medium\">\n",
        "<font face=\"vazir\">\n",
        " حال برای ‌بررسی رابطه‌ی بین ویژگی‌هایی که در مرحله قبل به‌دست آوردیم با متغیر هدف (این‌که جست‌وجو به رزرو هتل منجر شده‌است یا خیر) دو دیتافرم <code>is_booked</code> و <code>not_booked</code> را براساس مجموعه‌داده‌ی آموزش ایجاد کنید، به‌طوری‌که دیتافرم اول فقط نمونه‌هایی که به رزرو ختم شده‌اند و دیتافریم دوم فقط نمونه‌هایی که به رزرو ختم نشده‌اند را شامل شود.\n",
        "</font>\n",
        "</p>\n"
      ]
    },
    {
      "cell_type": "code",
      "execution_count": 14,
      "id": "514c0435-7033-4605-ac4b-8eaeed026ecb",
      "metadata": {
        "id": "514c0435-7033-4605-ac4b-8eaeed026ecb"
      },
      "outputs": [],
      "source": [
        "is_booked = train[train['is_booking'] == 1]\n",
        "not_booked = train[train['is_booking'] == 0]"
      ]
    },
    {
      "cell_type": "markdown",
      "id": "af7db6f0-73e6-41f8-9f22-0f347d35030a",
      "metadata": {
        "id": "af7db6f0-73e6-41f8-9f22-0f347d35030a"
      },
      "source": [
        "<h3 align=right style=\"line-height:200%;font-family:vazir;color:#0099cc\">\n",
        "<font face=\"vazir\" color=\"#0099cc\">\n",
        "مصورسازی ۱\n",
        "</font>\n",
        "</h3>\n",
        "\n",
        "<p dir=rtl style=\"direction: rtl; text-align: justify; line-height:200%; font-family:vazir; font-size:medium\">\n",
        "<font face=\"vazir\">\n",
        "اکنون بیاید با استفاده از مصورسازی، بینش‌های بیشتری را از دل این داده‌ها استخراج کنیم.\n",
        "در این مرحله نیاز است یک نمودار میله‌ای رسم کنید تا رابطه‌ی بین درصد جست‌وجو‌هایی که به رزرو هتل ختم شده‌اند و نشده‌اند‌ (هر کدام نسبت به دسته‌ی خودشان) در ساعات مختلف را نشان دهد.\n",
        "</font>\n",
        "</p>\n",
        "\n",
        "<p dir=rtl style=\"direction: rtl; text-align: justify; line-height:200%; font-family:vazir; font-size:medium\">\n",
        "<font face=\"vazir\">\n",
        "خروجی نمودار شما باید شبیه به تصویر زیر باشد.\n",
        "</font>\n",
        "</p>\n",
        "\n",
        "<center>\n",
        "<img src = 'https://quera.org/qbox/view/6TWauQwG58/search_hour.png'>\n",
        "</center>"
      ]
    },
    {
      "cell_type": "code",
      "execution_count": 44,
      "id": "b7daecb1-658f-49c3-8d68-c769988ebb76",
      "metadata": {
        "id": "b7daecb1-658f-49c3-8d68-c769988ebb76",
        "colab": {
          "base_uri": "https://localhost:8080/",
          "height": 542
        },
        "outputId": "676da6c2-58c1-4747-cdd0-548fe35a072d"
      },
      "outputs": [
        {
          "output_type": "display_data",
          "data": {
            "text/html": [
              "<html>\n",
              "<head><meta charset=\"utf-8\" /></head>\n",
              "<body>\n",
              "    <div>            <script src=\"https://cdnjs.cloudflare.com/ajax/libs/mathjax/2.7.5/MathJax.js?config=TeX-AMS-MML_SVG\"></script><script type=\"text/javascript\">if (window.MathJax && window.MathJax.Hub && window.MathJax.Hub.Config) {window.MathJax.Hub.Config({SVG: {font: \"STIX-Web\"}});}</script>                <script type=\"text/javascript\">window.PlotlyConfig = {MathJaxConfig: 'local'};</script>\n",
              "        <script charset=\"utf-8\" src=\"https://cdn.plot.ly/plotly-2.24.1.min.js\"></script>                <div id=\"014f6cf7-2bad-4463-90c5-dfb91b2205b4\" class=\"plotly-graph-div\" style=\"height:525px; width:100%;\"></div>            <script type=\"text/javascript\">                                    window.PLOTLYENV=window.PLOTLYENV || {};                                    if (document.getElementById(\"014f6cf7-2bad-4463-90c5-dfb91b2205b4\")) {                    Plotly.newPlot(                        \"014f6cf7-2bad-4463-90c5-dfb91b2205b4\",                        [{\"name\":\"Not Booked\",\"y\":[0.0172285368510592,0.012442076731427915,0.009802573628840839,0.009264701216407526,0.011952552401011078,0.018588326657772634,0.029247567864842935,0.0406214541592193,0.04955225143420053,0.05630738501844026,0.06209706783991346,0.06542704198879835,0.06372428297528053,0.06249442863898638,0.06108024724000441,0.057887762949353876,0.05645394014205271,0.056065644608357876,0.054937019068785724,0.05345333730190507,0.04909747728773303,0.04198577659862178,0.03462629198917607,0.025662255407808518],\"type\":\"bar\"},{\"name\":\"Booked\",\"y\":[0.02098723722048626,0.013849316545462894,0.010303532209820263,0.009772211570698106,0.01217877305670304,0.018181501491109413,0.027303201555930242,0.03675555551077101,0.04437268680829171,0.05054470082156767,0.056007327647199644,0.0589381562065405,0.05858850087399438,0.05785305867803797,0.05669137957814206,0.05538531830511163,0.056713979778722445,0.0588215564455844,0.060192539313912614,0.05950762368103718,0.055852293150224684,0.04964515525833973,0.04105808669005092,0.03049630760226123],\"type\":\"bar\"}],                        {\"xaxis\":{\"automargin\":true,\"tickangle\":45,\"title\":{\"text\":\"Search Hour\"}},\"yaxis\":{\"title\":{\"text\":\"Frequency\"}},\"template\":{\"data\":{\"histogram2dcontour\":[{\"type\":\"histogram2dcontour\",\"colorbar\":{\"outlinewidth\":0,\"ticks\":\"\"},\"colorscale\":[[0.0,\"#0d0887\"],[0.1111111111111111,\"#46039f\"],[0.2222222222222222,\"#7201a8\"],[0.3333333333333333,\"#9c179e\"],[0.4444444444444444,\"#bd3786\"],[0.5555555555555556,\"#d8576b\"],[0.6666666666666666,\"#ed7953\"],[0.7777777777777778,\"#fb9f3a\"],[0.8888888888888888,\"#fdca26\"],[1.0,\"#f0f921\"]]}],\"choropleth\":[{\"type\":\"choropleth\",\"colorbar\":{\"outlinewidth\":0,\"ticks\":\"\"}}],\"histogram2d\":[{\"type\":\"histogram2d\",\"colorbar\":{\"outlinewidth\":0,\"ticks\":\"\"},\"colorscale\":[[0.0,\"#0d0887\"],[0.1111111111111111,\"#46039f\"],[0.2222222222222222,\"#7201a8\"],[0.3333333333333333,\"#9c179e\"],[0.4444444444444444,\"#bd3786\"],[0.5555555555555556,\"#d8576b\"],[0.6666666666666666,\"#ed7953\"],[0.7777777777777778,\"#fb9f3a\"],[0.8888888888888888,\"#fdca26\"],[1.0,\"#f0f921\"]]}],\"heatmap\":[{\"type\":\"heatmap\",\"colorbar\":{\"outlinewidth\":0,\"ticks\":\"\"},\"colorscale\":[[0.0,\"#0d0887\"],[0.1111111111111111,\"#46039f\"],[0.2222222222222222,\"#7201a8\"],[0.3333333333333333,\"#9c179e\"],[0.4444444444444444,\"#bd3786\"],[0.5555555555555556,\"#d8576b\"],[0.6666666666666666,\"#ed7953\"],[0.7777777777777778,\"#fb9f3a\"],[0.8888888888888888,\"#fdca26\"],[1.0,\"#f0f921\"]]}],\"heatmapgl\":[{\"type\":\"heatmapgl\",\"colorbar\":{\"outlinewidth\":0,\"ticks\":\"\"},\"colorscale\":[[0.0,\"#0d0887\"],[0.1111111111111111,\"#46039f\"],[0.2222222222222222,\"#7201a8\"],[0.3333333333333333,\"#9c179e\"],[0.4444444444444444,\"#bd3786\"],[0.5555555555555556,\"#d8576b\"],[0.6666666666666666,\"#ed7953\"],[0.7777777777777778,\"#fb9f3a\"],[0.8888888888888888,\"#fdca26\"],[1.0,\"#f0f921\"]]}],\"contourcarpet\":[{\"type\":\"contourcarpet\",\"colorbar\":{\"outlinewidth\":0,\"ticks\":\"\"}}],\"contour\":[{\"type\":\"contour\",\"colorbar\":{\"outlinewidth\":0,\"ticks\":\"\"},\"colorscale\":[[0.0,\"#0d0887\"],[0.1111111111111111,\"#46039f\"],[0.2222222222222222,\"#7201a8\"],[0.3333333333333333,\"#9c179e\"],[0.4444444444444444,\"#bd3786\"],[0.5555555555555556,\"#d8576b\"],[0.6666666666666666,\"#ed7953\"],[0.7777777777777778,\"#fb9f3a\"],[0.8888888888888888,\"#fdca26\"],[1.0,\"#f0f921\"]]}],\"surface\":[{\"type\":\"surface\",\"colorbar\":{\"outlinewidth\":0,\"ticks\":\"\"},\"colorscale\":[[0.0,\"#0d0887\"],[0.1111111111111111,\"#46039f\"],[0.2222222222222222,\"#7201a8\"],[0.3333333333333333,\"#9c179e\"],[0.4444444444444444,\"#bd3786\"],[0.5555555555555556,\"#d8576b\"],[0.6666666666666666,\"#ed7953\"],[0.7777777777777778,\"#fb9f3a\"],[0.8888888888888888,\"#fdca26\"],[1.0,\"#f0f921\"]]}],\"mesh3d\":[{\"type\":\"mesh3d\",\"colorbar\":{\"outlinewidth\":0,\"ticks\":\"\"}}],\"scatter\":[{\"fillpattern\":{\"fillmode\":\"overlay\",\"size\":10,\"solidity\":0.2},\"type\":\"scatter\"}],\"parcoords\":[{\"type\":\"parcoords\",\"line\":{\"colorbar\":{\"outlinewidth\":0,\"ticks\":\"\"}}}],\"scatterpolargl\":[{\"type\":\"scatterpolargl\",\"marker\":{\"colorbar\":{\"outlinewidth\":0,\"ticks\":\"\"}}}],\"bar\":[{\"error_x\":{\"color\":\"#2a3f5f\"},\"error_y\":{\"color\":\"#2a3f5f\"},\"marker\":{\"line\":{\"color\":\"#E5ECF6\",\"width\":0.5},\"pattern\":{\"fillmode\":\"overlay\",\"size\":10,\"solidity\":0.2}},\"type\":\"bar\"}],\"scattergeo\":[{\"type\":\"scattergeo\",\"marker\":{\"colorbar\":{\"outlinewidth\":0,\"ticks\":\"\"}}}],\"scatterpolar\":[{\"type\":\"scatterpolar\",\"marker\":{\"colorbar\":{\"outlinewidth\":0,\"ticks\":\"\"}}}],\"histogram\":[{\"marker\":{\"pattern\":{\"fillmode\":\"overlay\",\"size\":10,\"solidity\":0.2}},\"type\":\"histogram\"}],\"scattergl\":[{\"type\":\"scattergl\",\"marker\":{\"colorbar\":{\"outlinewidth\":0,\"ticks\":\"\"}}}],\"scatter3d\":[{\"type\":\"scatter3d\",\"line\":{\"colorbar\":{\"outlinewidth\":0,\"ticks\":\"\"}},\"marker\":{\"colorbar\":{\"outlinewidth\":0,\"ticks\":\"\"}}}],\"scattermapbox\":[{\"type\":\"scattermapbox\",\"marker\":{\"colorbar\":{\"outlinewidth\":0,\"ticks\":\"\"}}}],\"scatterternary\":[{\"type\":\"scatterternary\",\"marker\":{\"colorbar\":{\"outlinewidth\":0,\"ticks\":\"\"}}}],\"scattercarpet\":[{\"type\":\"scattercarpet\",\"marker\":{\"colorbar\":{\"outlinewidth\":0,\"ticks\":\"\"}}}],\"carpet\":[{\"aaxis\":{\"endlinecolor\":\"#2a3f5f\",\"gridcolor\":\"white\",\"linecolor\":\"white\",\"minorgridcolor\":\"white\",\"startlinecolor\":\"#2a3f5f\"},\"baxis\":{\"endlinecolor\":\"#2a3f5f\",\"gridcolor\":\"white\",\"linecolor\":\"white\",\"minorgridcolor\":\"white\",\"startlinecolor\":\"#2a3f5f\"},\"type\":\"carpet\"}],\"table\":[{\"cells\":{\"fill\":{\"color\":\"#EBF0F8\"},\"line\":{\"color\":\"white\"}},\"header\":{\"fill\":{\"color\":\"#C8D4E3\"},\"line\":{\"color\":\"white\"}},\"type\":\"table\"}],\"barpolar\":[{\"marker\":{\"line\":{\"color\":\"#E5ECF6\",\"width\":0.5},\"pattern\":{\"fillmode\":\"overlay\",\"size\":10,\"solidity\":0.2}},\"type\":\"barpolar\"}],\"pie\":[{\"automargin\":true,\"type\":\"pie\"}]},\"layout\":{\"autotypenumbers\":\"strict\",\"colorway\":[\"#636efa\",\"#EF553B\",\"#00cc96\",\"#ab63fa\",\"#FFA15A\",\"#19d3f3\",\"#FF6692\",\"#B6E880\",\"#FF97FF\",\"#FECB52\"],\"font\":{\"color\":\"#2a3f5f\"},\"hovermode\":\"closest\",\"hoverlabel\":{\"align\":\"left\"},\"paper_bgcolor\":\"white\",\"plot_bgcolor\":\"#E5ECF6\",\"polar\":{\"bgcolor\":\"#E5ECF6\",\"angularaxis\":{\"gridcolor\":\"white\",\"linecolor\":\"white\",\"ticks\":\"\"},\"radialaxis\":{\"gridcolor\":\"white\",\"linecolor\":\"white\",\"ticks\":\"\"}},\"ternary\":{\"bgcolor\":\"#E5ECF6\",\"aaxis\":{\"gridcolor\":\"white\",\"linecolor\":\"white\",\"ticks\":\"\"},\"baxis\":{\"gridcolor\":\"white\",\"linecolor\":\"white\",\"ticks\":\"\"},\"caxis\":{\"gridcolor\":\"white\",\"linecolor\":\"white\",\"ticks\":\"\"}},\"coloraxis\":{\"colorbar\":{\"outlinewidth\":0,\"ticks\":\"\"}},\"colorscale\":{\"sequential\":[[0.0,\"#0d0887\"],[0.1111111111111111,\"#46039f\"],[0.2222222222222222,\"#7201a8\"],[0.3333333333333333,\"#9c179e\"],[0.4444444444444444,\"#bd3786\"],[0.5555555555555556,\"#d8576b\"],[0.6666666666666666,\"#ed7953\"],[0.7777777777777778,\"#fb9f3a\"],[0.8888888888888888,\"#fdca26\"],[1.0,\"#f0f921\"]],\"sequentialminus\":[[0.0,\"#0d0887\"],[0.1111111111111111,\"#46039f\"],[0.2222222222222222,\"#7201a8\"],[0.3333333333333333,\"#9c179e\"],[0.4444444444444444,\"#bd3786\"],[0.5555555555555556,\"#d8576b\"],[0.6666666666666666,\"#ed7953\"],[0.7777777777777778,\"#fb9f3a\"],[0.8888888888888888,\"#fdca26\"],[1.0,\"#f0f921\"]],\"diverging\":[[0,\"#8e0152\"],[0.1,\"#c51b7d\"],[0.2,\"#de77ae\"],[0.3,\"#f1b6da\"],[0.4,\"#fde0ef\"],[0.5,\"#f7f7f7\"],[0.6,\"#e6f5d0\"],[0.7,\"#b8e186\"],[0.8,\"#7fbc41\"],[0.9,\"#4d9221\"],[1,\"#276419\"]]},\"xaxis\":{\"gridcolor\":\"white\",\"linecolor\":\"white\",\"ticks\":\"\",\"title\":{\"standoff\":15},\"zerolinecolor\":\"white\",\"automargin\":true,\"zerolinewidth\":2},\"yaxis\":{\"gridcolor\":\"white\",\"linecolor\":\"white\",\"ticks\":\"\",\"title\":{\"standoff\":15},\"zerolinecolor\":\"white\",\"automargin\":true,\"zerolinewidth\":2},\"scene\":{\"xaxis\":{\"backgroundcolor\":\"#E5ECF6\",\"gridcolor\":\"white\",\"linecolor\":\"white\",\"showbackground\":true,\"ticks\":\"\",\"zerolinecolor\":\"white\",\"gridwidth\":2},\"yaxis\":{\"backgroundcolor\":\"#E5ECF6\",\"gridcolor\":\"white\",\"linecolor\":\"white\",\"showbackground\":true,\"ticks\":\"\",\"zerolinecolor\":\"white\",\"gridwidth\":2},\"zaxis\":{\"backgroundcolor\":\"#E5ECF6\",\"gridcolor\":\"white\",\"linecolor\":\"white\",\"showbackground\":true,\"ticks\":\"\",\"zerolinecolor\":\"white\",\"gridwidth\":2}},\"shapedefaults\":{\"line\":{\"color\":\"#2a3f5f\"}},\"annotationdefaults\":{\"arrowcolor\":\"#2a3f5f\",\"arrowhead\":0,\"arrowwidth\":1},\"geo\":{\"bgcolor\":\"white\",\"landcolor\":\"#E5ECF6\",\"subunitcolor\":\"white\",\"showland\":true,\"showlakes\":true,\"lakecolor\":\"white\"},\"title\":{\"x\":0.05},\"mapbox\":{\"style\":\"light\"}}}},                        {\"responsive\": true}                    ).then(function(){\n",
              "                            \n",
              "var gd = document.getElementById('014f6cf7-2bad-4463-90c5-dfb91b2205b4');\n",
              "var x = new MutationObserver(function (mutations, observer) {{\n",
              "        var display = window.getComputedStyle(gd).display;\n",
              "        if (!display || display === 'none') {{\n",
              "            console.log([gd, 'removed!']);\n",
              "            Plotly.purge(gd);\n",
              "            observer.disconnect();\n",
              "        }}\n",
              "}});\n",
              "\n",
              "// Listen for the removal of the full notebook cells\n",
              "var notebookContainer = gd.closest('#notebook-container');\n",
              "if (notebookContainer) {{\n",
              "    x.observe(notebookContainer, {childList: true});\n",
              "}}\n",
              "\n",
              "// Listen for the clearing of the current output cell\n",
              "var outputEl = gd.closest('.output');\n",
              "if (outputEl) {{\n",
              "    x.observe(outputEl, {childList: true});\n",
              "}}\n",
              "\n",
              "                        })                };                            </script>        </div>\n",
              "</body>\n",
              "</html>"
            ]
          },
          "metadata": {}
        }
      ],
      "source": [
        "import plotly.graph_objects as go\n",
        "\n",
        "trace_is_booked = go.Bar(y = is_booked.groupby(['search_date_hour'])['is_booking'].count() / len(is_booked) , name='Not Booked') # TODO\n",
        "trace_not_booked = go.Bar(y = not_booked.groupby(['search_date_hour'])['is_booking'].count() / len(not_booked) , name='Booked') # TODO\n",
        "\n",
        "# در ادامه‌ی این قسمت از کد تغییری ایجاد نکنید زیرا نمودار شما توسط سیستم داوری بررسی می‌شود و تغییر در این قسمت ممکن است باعث عدم داوری صحیح شود\n",
        "\n",
        "data = [trace_is_booked, trace_not_booked]\n",
        "\n",
        "layout = go.Layout(\n",
        "    xaxis=dict(title='Search Hour', tickangle=45, automargin=True),\n",
        "    yaxis=dict(title='Frequency')\n",
        ")\n",
        "\n",
        "fig = go.Figure(data=data, layout=layout)\n",
        "fig.show()\n",
        "fig.write_json('./search_hour.json')"
      ]
    },
    {
      "cell_type": "markdown",
      "id": "baeba698-b02f-4b0e-85da-2602e4231b8f",
      "metadata": {
        "id": "baeba698-b02f-4b0e-85da-2602e4231b8f"
      },
      "source": [
        "\n",
        "<p dir=rtl style=\"direction: rtl; text-align: justify; line-height:200%; font-family:vazir; font-size:medium\">\n",
        "<font face=\"vazir\">\n",
        "در این مرحله می‌توانید با توجه به زمان‌های مختلفی که جست‌وجو در آن انجام شده و رابطه‌ی بین آن با رزرو هتل، مقادیر این ستون را به دسته‌های کوچک‌تری افراز کنید (binning).\n",
        "          به‌طور مثال به نمونه‌هایی که در آن‌ها جست‌وجو بین ساعت ۵ تا ۱۵ انجام شده‌است، مقدار <code>1</code>\n",
        "          </font> دهید و به بقیه نمونه‌ها مقدار  <code>0</code> دهید. این عمل یک نوع مهندسی ویژگی به شمار می‌آید. توجه کنید این دسته‌بندی اختیاری بوده است و به‌طور مستقیم داوری نمی‌شود، اما ممکن است در عملکرد مدل شما تاثیر (مثبت یا منفی!) بگذارد، همچنین برای سایر ستون‌ها و ویژگی‌ها نیز با خلاقیت خودتان می‌توانید ویژگی‌های جدیدی خلق کنید.\n",
        "</p>\n",
        "\n"
      ]
    },
    {
      "cell_type": "markdown",
      "id": "e98bb936-d368-4029-94ef-c95a7228d6d6",
      "metadata": {
        "id": "e98bb936-d368-4029-94ef-c95a7228d6d6"
      },
      "source": [
        "<h3 align=right style=\"line-height:200%;font-family:vazir;color:#0099cc\">\n",
        "<font face=\"vazir\" color=\"#0099cc\">\n",
        "مصورسازی ۲\n",
        "</font>\n",
        "</h3>\n",
        "\n",
        "<p dir=rtl style=\"direction: rtl; text-align: justify; line-height:200%; font-family:vazir; font-size:medium\">\n",
        "<font face=\"vazir\">\n",
        "همانند نمودار قبل برای روز ورود به هتل  نیز نمودار را رسم کنید. دقت داشته باشید روز‌های هفته به‌صورت، دوشنبه، سه‌شنبه تا شنبه و به همین ترتیب باشد. به رعایت نیم‌فاصله در اسامی روزها توجه داشته باشید. کلمه‌ی سه‌شنبه و پنج‌شنبه دارای نیم‌فاصله است.\n",
        "</font>\n",
        "</p>\n",
        "\n",
        "<p dir=rtl style=\"direction: rtl; text-align: justify; line-height:200%; font-family:vazir; font-size:medium\">\n",
        "<font face=\"vazir\">\n",
        "خروجی نمودار شما باید به‌صورت زیر باشد.\n",
        "</font>\n",
        "</p>\n",
        "\n",
        "<center>\n",
        "<img src = 'https://quera.org/qbox/view/jqISJX07yD/checkIn_day.png'>\n",
        "</center>\n"
      ]
    },
    {
      "cell_type": "code",
      "source": [
        "day_counts_is = is_booked.groupby(['checkIn_date_dayofweek'])['is_booking'].count() / len(is_booked)\n",
        "day_counts_not = not_booked.groupby(['checkIn_date_dayofweek'])['is_booking'].count() / len(not_booked)"
      ],
      "metadata": {
        "id": "vMdFSyISK695"
      },
      "id": "vMdFSyISK695",
      "execution_count": 45,
      "outputs": []
    },
    {
      "cell_type": "code",
      "execution_count": 46,
      "id": "31c0e5d7-5c45-4263-8e46-ddb04ddef3ce",
      "metadata": {
        "id": "31c0e5d7-5c45-4263-8e46-ddb04ddef3ce",
        "colab": {
          "base_uri": "https://localhost:8080/",
          "height": 542
        },
        "outputId": "5e1843b0-31b5-453e-d3d6-b183be6415cf"
      },
      "outputs": [
        {
          "output_type": "display_data",
          "data": {
            "text/html": [
              "<html>\n",
              "<head><meta charset=\"utf-8\" /></head>\n",
              "<body>\n",
              "    <div>            <script src=\"https://cdnjs.cloudflare.com/ajax/libs/mathjax/2.7.5/MathJax.js?config=TeX-AMS-MML_SVG\"></script><script type=\"text/javascript\">if (window.MathJax && window.MathJax.Hub && window.MathJax.Hub.Config) {window.MathJax.Hub.Config({SVG: {font: \"STIX-Web\"}});}</script>                <script type=\"text/javascript\">window.PlotlyConfig = {MathJaxConfig: 'local'};</script>\n",
              "        <script charset=\"utf-8\" src=\"https://cdn.plot.ly/plotly-2.24.1.min.js\"></script>                <div id=\"225c9c9a-3df9-407a-8b08-eddffd7838f8\" class=\"plotly-graph-div\" style=\"height:525px; width:100%;\"></div>            <script type=\"text/javascript\">                                    window.PLOTLYENV=window.PLOTLYENV || {};                                    if (document.getElementById(\"225c9c9a-3df9-407a-8b08-eddffd7838f8\")) {                    Plotly.newPlot(                        \"225c9c9a-3df9-407a-8b08-eddffd7838f8\",                        [{\"name\":\"Booked\",\"y\":[0.13295118203506143,0.12222546221521846,0.12909844424937336,0.14494754988539993,0.18271646720564705,0.1585605567281644,0.12950033768113534],\"type\":\"bar\"},{\"name\":\"Not Booked\",\"y\":[0.1183309075304876,0.10949912341451316,0.1275431523479521,0.15283392839997345,0.1973995086399703,0.1699268775548483,0.12446650211225506],\"type\":\"bar\"}],                        {\"xaxis\":{\"automargin\":true,\"tickangle\":45,\"ticktext\":[\"\\u062f\\u0648\\u0634\\u0646\\u0628\\u0647\",\"\\u0633\\u0647\\u200c\\u0634\\u0646\\u0628\\u0647\",\"\\u0686\\u0647\\u0627\\u0631\\u0634\\u0646\\u0628\\u0647\",\"\\u067e\\u0646\\u062c\\u200c\\u0634\\u0646\\u0628\\u0647\",\"\\u062c\\u0645\\u0639\\u0647\",\"\\u0634\\u0646\\u0628\\u0647\",\"\\u0628\\u06a9\\u0634\\u0646\\u0628\\u0647\"],\"tickvals\":[0,1,2,3,4,5,6],\"title\":{\"text\":\"Day of Week\"}},\"yaxis\":{\"title\":{\"text\":\"Frequency\"}},\"template\":{\"data\":{\"histogram2dcontour\":[{\"type\":\"histogram2dcontour\",\"colorbar\":{\"outlinewidth\":0,\"ticks\":\"\"},\"colorscale\":[[0.0,\"#0d0887\"],[0.1111111111111111,\"#46039f\"],[0.2222222222222222,\"#7201a8\"],[0.3333333333333333,\"#9c179e\"],[0.4444444444444444,\"#bd3786\"],[0.5555555555555556,\"#d8576b\"],[0.6666666666666666,\"#ed7953\"],[0.7777777777777778,\"#fb9f3a\"],[0.8888888888888888,\"#fdca26\"],[1.0,\"#f0f921\"]]}],\"choropleth\":[{\"type\":\"choropleth\",\"colorbar\":{\"outlinewidth\":0,\"ticks\":\"\"}}],\"histogram2d\":[{\"type\":\"histogram2d\",\"colorbar\":{\"outlinewidth\":0,\"ticks\":\"\"},\"colorscale\":[[0.0,\"#0d0887\"],[0.1111111111111111,\"#46039f\"],[0.2222222222222222,\"#7201a8\"],[0.3333333333333333,\"#9c179e\"],[0.4444444444444444,\"#bd3786\"],[0.5555555555555556,\"#d8576b\"],[0.6666666666666666,\"#ed7953\"],[0.7777777777777778,\"#fb9f3a\"],[0.8888888888888888,\"#fdca26\"],[1.0,\"#f0f921\"]]}],\"heatmap\":[{\"type\":\"heatmap\",\"colorbar\":{\"outlinewidth\":0,\"ticks\":\"\"},\"colorscale\":[[0.0,\"#0d0887\"],[0.1111111111111111,\"#46039f\"],[0.2222222222222222,\"#7201a8\"],[0.3333333333333333,\"#9c179e\"],[0.4444444444444444,\"#bd3786\"],[0.5555555555555556,\"#d8576b\"],[0.6666666666666666,\"#ed7953\"],[0.7777777777777778,\"#fb9f3a\"],[0.8888888888888888,\"#fdca26\"],[1.0,\"#f0f921\"]]}],\"heatmapgl\":[{\"type\":\"heatmapgl\",\"colorbar\":{\"outlinewidth\":0,\"ticks\":\"\"},\"colorscale\":[[0.0,\"#0d0887\"],[0.1111111111111111,\"#46039f\"],[0.2222222222222222,\"#7201a8\"],[0.3333333333333333,\"#9c179e\"],[0.4444444444444444,\"#bd3786\"],[0.5555555555555556,\"#d8576b\"],[0.6666666666666666,\"#ed7953\"],[0.7777777777777778,\"#fb9f3a\"],[0.8888888888888888,\"#fdca26\"],[1.0,\"#f0f921\"]]}],\"contourcarpet\":[{\"type\":\"contourcarpet\",\"colorbar\":{\"outlinewidth\":0,\"ticks\":\"\"}}],\"contour\":[{\"type\":\"contour\",\"colorbar\":{\"outlinewidth\":0,\"ticks\":\"\"},\"colorscale\":[[0.0,\"#0d0887\"],[0.1111111111111111,\"#46039f\"],[0.2222222222222222,\"#7201a8\"],[0.3333333333333333,\"#9c179e\"],[0.4444444444444444,\"#bd3786\"],[0.5555555555555556,\"#d8576b\"],[0.6666666666666666,\"#ed7953\"],[0.7777777777777778,\"#fb9f3a\"],[0.8888888888888888,\"#fdca26\"],[1.0,\"#f0f921\"]]}],\"surface\":[{\"type\":\"surface\",\"colorbar\":{\"outlinewidth\":0,\"ticks\":\"\"},\"colorscale\":[[0.0,\"#0d0887\"],[0.1111111111111111,\"#46039f\"],[0.2222222222222222,\"#7201a8\"],[0.3333333333333333,\"#9c179e\"],[0.4444444444444444,\"#bd3786\"],[0.5555555555555556,\"#d8576b\"],[0.6666666666666666,\"#ed7953\"],[0.7777777777777778,\"#fb9f3a\"],[0.8888888888888888,\"#fdca26\"],[1.0,\"#f0f921\"]]}],\"mesh3d\":[{\"type\":\"mesh3d\",\"colorbar\":{\"outlinewidth\":0,\"ticks\":\"\"}}],\"scatter\":[{\"fillpattern\":{\"fillmode\":\"overlay\",\"size\":10,\"solidity\":0.2},\"type\":\"scatter\"}],\"parcoords\":[{\"type\":\"parcoords\",\"line\":{\"colorbar\":{\"outlinewidth\":0,\"ticks\":\"\"}}}],\"scatterpolargl\":[{\"type\":\"scatterpolargl\",\"marker\":{\"colorbar\":{\"outlinewidth\":0,\"ticks\":\"\"}}}],\"bar\":[{\"error_x\":{\"color\":\"#2a3f5f\"},\"error_y\":{\"color\":\"#2a3f5f\"},\"marker\":{\"line\":{\"color\":\"#E5ECF6\",\"width\":0.5},\"pattern\":{\"fillmode\":\"overlay\",\"size\":10,\"solidity\":0.2}},\"type\":\"bar\"}],\"scattergeo\":[{\"type\":\"scattergeo\",\"marker\":{\"colorbar\":{\"outlinewidth\":0,\"ticks\":\"\"}}}],\"scatterpolar\":[{\"type\":\"scatterpolar\",\"marker\":{\"colorbar\":{\"outlinewidth\":0,\"ticks\":\"\"}}}],\"histogram\":[{\"marker\":{\"pattern\":{\"fillmode\":\"overlay\",\"size\":10,\"solidity\":0.2}},\"type\":\"histogram\"}],\"scattergl\":[{\"type\":\"scattergl\",\"marker\":{\"colorbar\":{\"outlinewidth\":0,\"ticks\":\"\"}}}],\"scatter3d\":[{\"type\":\"scatter3d\",\"line\":{\"colorbar\":{\"outlinewidth\":0,\"ticks\":\"\"}},\"marker\":{\"colorbar\":{\"outlinewidth\":0,\"ticks\":\"\"}}}],\"scattermapbox\":[{\"type\":\"scattermapbox\",\"marker\":{\"colorbar\":{\"outlinewidth\":0,\"ticks\":\"\"}}}],\"scatterternary\":[{\"type\":\"scatterternary\",\"marker\":{\"colorbar\":{\"outlinewidth\":0,\"ticks\":\"\"}}}],\"scattercarpet\":[{\"type\":\"scattercarpet\",\"marker\":{\"colorbar\":{\"outlinewidth\":0,\"ticks\":\"\"}}}],\"carpet\":[{\"aaxis\":{\"endlinecolor\":\"#2a3f5f\",\"gridcolor\":\"white\",\"linecolor\":\"white\",\"minorgridcolor\":\"white\",\"startlinecolor\":\"#2a3f5f\"},\"baxis\":{\"endlinecolor\":\"#2a3f5f\",\"gridcolor\":\"white\",\"linecolor\":\"white\",\"minorgridcolor\":\"white\",\"startlinecolor\":\"#2a3f5f\"},\"type\":\"carpet\"}],\"table\":[{\"cells\":{\"fill\":{\"color\":\"#EBF0F8\"},\"line\":{\"color\":\"white\"}},\"header\":{\"fill\":{\"color\":\"#C8D4E3\"},\"line\":{\"color\":\"white\"}},\"type\":\"table\"}],\"barpolar\":[{\"marker\":{\"line\":{\"color\":\"#E5ECF6\",\"width\":0.5},\"pattern\":{\"fillmode\":\"overlay\",\"size\":10,\"solidity\":0.2}},\"type\":\"barpolar\"}],\"pie\":[{\"automargin\":true,\"type\":\"pie\"}]},\"layout\":{\"autotypenumbers\":\"strict\",\"colorway\":[\"#636efa\",\"#EF553B\",\"#00cc96\",\"#ab63fa\",\"#FFA15A\",\"#19d3f3\",\"#FF6692\",\"#B6E880\",\"#FF97FF\",\"#FECB52\"],\"font\":{\"color\":\"#2a3f5f\"},\"hovermode\":\"closest\",\"hoverlabel\":{\"align\":\"left\"},\"paper_bgcolor\":\"white\",\"plot_bgcolor\":\"#E5ECF6\",\"polar\":{\"bgcolor\":\"#E5ECF6\",\"angularaxis\":{\"gridcolor\":\"white\",\"linecolor\":\"white\",\"ticks\":\"\"},\"radialaxis\":{\"gridcolor\":\"white\",\"linecolor\":\"white\",\"ticks\":\"\"}},\"ternary\":{\"bgcolor\":\"#E5ECF6\",\"aaxis\":{\"gridcolor\":\"white\",\"linecolor\":\"white\",\"ticks\":\"\"},\"baxis\":{\"gridcolor\":\"white\",\"linecolor\":\"white\",\"ticks\":\"\"},\"caxis\":{\"gridcolor\":\"white\",\"linecolor\":\"white\",\"ticks\":\"\"}},\"coloraxis\":{\"colorbar\":{\"outlinewidth\":0,\"ticks\":\"\"}},\"colorscale\":{\"sequential\":[[0.0,\"#0d0887\"],[0.1111111111111111,\"#46039f\"],[0.2222222222222222,\"#7201a8\"],[0.3333333333333333,\"#9c179e\"],[0.4444444444444444,\"#bd3786\"],[0.5555555555555556,\"#d8576b\"],[0.6666666666666666,\"#ed7953\"],[0.7777777777777778,\"#fb9f3a\"],[0.8888888888888888,\"#fdca26\"],[1.0,\"#f0f921\"]],\"sequentialminus\":[[0.0,\"#0d0887\"],[0.1111111111111111,\"#46039f\"],[0.2222222222222222,\"#7201a8\"],[0.3333333333333333,\"#9c179e\"],[0.4444444444444444,\"#bd3786\"],[0.5555555555555556,\"#d8576b\"],[0.6666666666666666,\"#ed7953\"],[0.7777777777777778,\"#fb9f3a\"],[0.8888888888888888,\"#fdca26\"],[1.0,\"#f0f921\"]],\"diverging\":[[0,\"#8e0152\"],[0.1,\"#c51b7d\"],[0.2,\"#de77ae\"],[0.3,\"#f1b6da\"],[0.4,\"#fde0ef\"],[0.5,\"#f7f7f7\"],[0.6,\"#e6f5d0\"],[0.7,\"#b8e186\"],[0.8,\"#7fbc41\"],[0.9,\"#4d9221\"],[1,\"#276419\"]]},\"xaxis\":{\"gridcolor\":\"white\",\"linecolor\":\"white\",\"ticks\":\"\",\"title\":{\"standoff\":15},\"zerolinecolor\":\"white\",\"automargin\":true,\"zerolinewidth\":2},\"yaxis\":{\"gridcolor\":\"white\",\"linecolor\":\"white\",\"ticks\":\"\",\"title\":{\"standoff\":15},\"zerolinecolor\":\"white\",\"automargin\":true,\"zerolinewidth\":2},\"scene\":{\"xaxis\":{\"backgroundcolor\":\"#E5ECF6\",\"gridcolor\":\"white\",\"linecolor\":\"white\",\"showbackground\":true,\"ticks\":\"\",\"zerolinecolor\":\"white\",\"gridwidth\":2},\"yaxis\":{\"backgroundcolor\":\"#E5ECF6\",\"gridcolor\":\"white\",\"linecolor\":\"white\",\"showbackground\":true,\"ticks\":\"\",\"zerolinecolor\":\"white\",\"gridwidth\":2},\"zaxis\":{\"backgroundcolor\":\"#E5ECF6\",\"gridcolor\":\"white\",\"linecolor\":\"white\",\"showbackground\":true,\"ticks\":\"\",\"zerolinecolor\":\"white\",\"gridwidth\":2}},\"shapedefaults\":{\"line\":{\"color\":\"#2a3f5f\"}},\"annotationdefaults\":{\"arrowcolor\":\"#2a3f5f\",\"arrowhead\":0,\"arrowwidth\":1},\"geo\":{\"bgcolor\":\"white\",\"landcolor\":\"#E5ECF6\",\"subunitcolor\":\"white\",\"showland\":true,\"showlakes\":true,\"lakecolor\":\"white\"},\"title\":{\"x\":0.05},\"mapbox\":{\"style\":\"light\"}}}},                        {\"responsive\": true}                    ).then(function(){\n",
              "                            \n",
              "var gd = document.getElementById('225c9c9a-3df9-407a-8b08-eddffd7838f8');\n",
              "var x = new MutationObserver(function (mutations, observer) {{\n",
              "        var display = window.getComputedStyle(gd).display;\n",
              "        if (!display || display === 'none') {{\n",
              "            console.log([gd, 'removed!']);\n",
              "            Plotly.purge(gd);\n",
              "            observer.disconnect();\n",
              "        }}\n",
              "}});\n",
              "\n",
              "// Listen for the removal of the full notebook cells\n",
              "var notebookContainer = gd.closest('#notebook-container');\n",
              "if (notebookContainer) {{\n",
              "    x.observe(notebookContainer, {childList: true});\n",
              "}}\n",
              "\n",
              "// Listen for the clearing of the current output cell\n",
              "var outputEl = gd.closest('.output');\n",
              "if (outputEl) {{\n",
              "    x.observe(outputEl, {childList: true});\n",
              "}}\n",
              "\n",
              "                        })                };                            </script>        </div>\n",
              "</body>\n",
              "</html>"
            ]
          },
          "metadata": {}
        }
      ],
      "source": [
        "trace_not_booked = go.Bar(y = day_counts_not , name='Not Booked')\n",
        "trace_is_booked = go.Bar(y = day_counts_is , name='Booked')\n",
        "\n",
        "ticktext = [\"دوشنبه\",\"سه‌شنبه\",\"چهارشنبه\",\"پنج‌شنبه\",\"جمعه\",\"شنبه\",\"بکشنبه\"]\n",
        "\n",
        "# در ادامه‌ی این قسمت از کد تغییری ایجاد نکنید زیرا نمودار شما توسط سیستم داوری بررسی می‌شود و تغییر در این قسمت ممکن است باعث عدم داوری صحیح شود\n",
        "\n",
        "data = [trace_is_booked, trace_not_booked]\n",
        "\n",
        "layout = go.Layout(\n",
        "    xaxis=dict(title='Day of Week', tickangle=45, automargin=True,\n",
        "               tickvals = [0,1,2,3,4,5,6], ticktext= ticktext\n",
        " ),\n",
        "    yaxis=dict(title='Frequency'),\n",
        ")\n",
        "\n",
        "fig = go.Figure(data=data, layout=layout)\n",
        "fig.show()\n",
        "fig.write_json('./checkIn_day.json')"
      ]
    },
    {
      "cell_type": "markdown",
      "id": "0414f88d",
      "metadata": {
        "id": "0414f88d"
      },
      "source": [
        "<h3 align=right style=\"line-height:200%;font-family:vazir;color:#0099cc\">\n",
        "<font face=\"vazir\" color=\"#0099cc\">\n",
        "مصورسازی ۳\n",
        "</font>\n",
        "</h3>\n",
        "\n",
        "<p dir=rtl style=\"direction: rtl; text-align: justify; line-height:200%; font-family:vazir; font-size:medium\">\n",
        "<font face=\"vazir\">\n",
        "همانند نمودار قبل برای ماه ورود نیز نمودار را رسم کنید.\n",
        "</font>\n",
        "</p>\n",
        "\n",
        "<p dir=rtl style=\"direction: rtl; text-align: justify; line-height:200%; font-family:vazir; font-size:medium\">\n",
        "<font face=\"vazir\">\n",
        "خروجی نمودار شما باید مشابه با تصویر زیر باشد.\n",
        "</font>\n",
        "</p>\n",
        "\n",
        "<center>\n",
        "<img src = 'https://quera.org/qbox/view/vdWwvplc3K/checkIn_date_month.png'>\n",
        "</center>"
      ]
    },
    {
      "cell_type": "code",
      "source": [
        "month_counts_is = is_booked.groupby(['checkIn_date_month'])['is_booking'].count() / len(is_booked)\n",
        "month_counts_not = not_booked.groupby(['checkIn_date_month'])['is_booking'].count() / len(not_booked)"
      ],
      "metadata": {
        "id": "RcSpNiUfOnF0"
      },
      "id": "RcSpNiUfOnF0",
      "execution_count": 47,
      "outputs": []
    },
    {
      "cell_type": "code",
      "execution_count": 48,
      "id": "16e298c2-adcc-495c-9385-2beb32e46211",
      "metadata": {
        "id": "16e298c2-adcc-495c-9385-2beb32e46211",
        "colab": {
          "base_uri": "https://localhost:8080/",
          "height": 542
        },
        "outputId": "b984e0df-3abc-45a2-8388-92134050f1db"
      },
      "outputs": [
        {
          "output_type": "display_data",
          "data": {
            "text/html": [
              "<html>\n",
              "<head><meta charset=\"utf-8\" /></head>\n",
              "<body>\n",
              "    <div>            <script src=\"https://cdnjs.cloudflare.com/ajax/libs/mathjax/2.7.5/MathJax.js?config=TeX-AMS-MML_SVG\"></script><script type=\"text/javascript\">if (window.MathJax && window.MathJax.Hub && window.MathJax.Hub.Config) {window.MathJax.Hub.Config({SVG: {font: \"STIX-Web\"}});}</script>                <script type=\"text/javascript\">window.PlotlyConfig = {MathJaxConfig: 'local'};</script>\n",
              "        <script charset=\"utf-8\" src=\"https://cdn.plot.ly/plotly-2.24.1.min.js\"></script>                <div id=\"7acdeaae-0b43-4c11-b1d3-c47e4276db38\" class=\"plotly-graph-div\" style=\"height:525px; width:100%;\"></div>            <script type=\"text/javascript\">                                    window.PLOTLYENV=window.PLOTLYENV || {};                                    if (document.getElementById(\"7acdeaae-0b43-4c11-b1d3-c47e4276db38\")) {                    Plotly.newPlot(                        \"7acdeaae-0b43-4c11-b1d3-c47e4276db38\",                        [{\"name\":\"Booked\",\"y\":[0.05186540498317638,0.06473808182006355,0.07849613290887747,0.07822115319240874,0.08894234037956267,0.08699028656814738,0.09178581195315676,0.09913320954209834,0.08621822813344675,0.09571862624968461,0.09688653460589514,0.08100418966348225],\"type\":\"bar\"},{\"name\":\"Not Booked\",\"y\":[0.042386316312695224,0.05306599071434052,0.07440993683315913,0.0748646759008879,0.08423670557595891,0.08708303529618715,0.10055275484209297,0.11134355889245198,0.08491874220239098,0.09371122788041356,0.09401683441437626,0.09941022113504541],\"type\":\"bar\"}],                        {\"xaxis\":{\"automargin\":true,\"tickangle\":45,\"ticktext\":[\"Jan\",\"Feb\",\"Mar\",\"Apr\",\"May\",\"Jun\",\"Jul\",\"Aug\",\"Sep\",\"Oct\",\"Nov\",\"Dec\"],\"tickvals\":[0,1,2,3,4,5,6,7,8,9,10,11],\"title\":{\"text\":\"Month\"}},\"yaxis\":{\"title\":{\"text\":\"Frequency\"}},\"template\":{\"data\":{\"histogram2dcontour\":[{\"type\":\"histogram2dcontour\",\"colorbar\":{\"outlinewidth\":0,\"ticks\":\"\"},\"colorscale\":[[0.0,\"#0d0887\"],[0.1111111111111111,\"#46039f\"],[0.2222222222222222,\"#7201a8\"],[0.3333333333333333,\"#9c179e\"],[0.4444444444444444,\"#bd3786\"],[0.5555555555555556,\"#d8576b\"],[0.6666666666666666,\"#ed7953\"],[0.7777777777777778,\"#fb9f3a\"],[0.8888888888888888,\"#fdca26\"],[1.0,\"#f0f921\"]]}],\"choropleth\":[{\"type\":\"choropleth\",\"colorbar\":{\"outlinewidth\":0,\"ticks\":\"\"}}],\"histogram2d\":[{\"type\":\"histogram2d\",\"colorbar\":{\"outlinewidth\":0,\"ticks\":\"\"},\"colorscale\":[[0.0,\"#0d0887\"],[0.1111111111111111,\"#46039f\"],[0.2222222222222222,\"#7201a8\"],[0.3333333333333333,\"#9c179e\"],[0.4444444444444444,\"#bd3786\"],[0.5555555555555556,\"#d8576b\"],[0.6666666666666666,\"#ed7953\"],[0.7777777777777778,\"#fb9f3a\"],[0.8888888888888888,\"#fdca26\"],[1.0,\"#f0f921\"]]}],\"heatmap\":[{\"type\":\"heatmap\",\"colorbar\":{\"outlinewidth\":0,\"ticks\":\"\"},\"colorscale\":[[0.0,\"#0d0887\"],[0.1111111111111111,\"#46039f\"],[0.2222222222222222,\"#7201a8\"],[0.3333333333333333,\"#9c179e\"],[0.4444444444444444,\"#bd3786\"],[0.5555555555555556,\"#d8576b\"],[0.6666666666666666,\"#ed7953\"],[0.7777777777777778,\"#fb9f3a\"],[0.8888888888888888,\"#fdca26\"],[1.0,\"#f0f921\"]]}],\"heatmapgl\":[{\"type\":\"heatmapgl\",\"colorbar\":{\"outlinewidth\":0,\"ticks\":\"\"},\"colorscale\":[[0.0,\"#0d0887\"],[0.1111111111111111,\"#46039f\"],[0.2222222222222222,\"#7201a8\"],[0.3333333333333333,\"#9c179e\"],[0.4444444444444444,\"#bd3786\"],[0.5555555555555556,\"#d8576b\"],[0.6666666666666666,\"#ed7953\"],[0.7777777777777778,\"#fb9f3a\"],[0.8888888888888888,\"#fdca26\"],[1.0,\"#f0f921\"]]}],\"contourcarpet\":[{\"type\":\"contourcarpet\",\"colorbar\":{\"outlinewidth\":0,\"ticks\":\"\"}}],\"contour\":[{\"type\":\"contour\",\"colorbar\":{\"outlinewidth\":0,\"ticks\":\"\"},\"colorscale\":[[0.0,\"#0d0887\"],[0.1111111111111111,\"#46039f\"],[0.2222222222222222,\"#7201a8\"],[0.3333333333333333,\"#9c179e\"],[0.4444444444444444,\"#bd3786\"],[0.5555555555555556,\"#d8576b\"],[0.6666666666666666,\"#ed7953\"],[0.7777777777777778,\"#fb9f3a\"],[0.8888888888888888,\"#fdca26\"],[1.0,\"#f0f921\"]]}],\"surface\":[{\"type\":\"surface\",\"colorbar\":{\"outlinewidth\":0,\"ticks\":\"\"},\"colorscale\":[[0.0,\"#0d0887\"],[0.1111111111111111,\"#46039f\"],[0.2222222222222222,\"#7201a8\"],[0.3333333333333333,\"#9c179e\"],[0.4444444444444444,\"#bd3786\"],[0.5555555555555556,\"#d8576b\"],[0.6666666666666666,\"#ed7953\"],[0.7777777777777778,\"#fb9f3a\"],[0.8888888888888888,\"#fdca26\"],[1.0,\"#f0f921\"]]}],\"mesh3d\":[{\"type\":\"mesh3d\",\"colorbar\":{\"outlinewidth\":0,\"ticks\":\"\"}}],\"scatter\":[{\"fillpattern\":{\"fillmode\":\"overlay\",\"size\":10,\"solidity\":0.2},\"type\":\"scatter\"}],\"parcoords\":[{\"type\":\"parcoords\",\"line\":{\"colorbar\":{\"outlinewidth\":0,\"ticks\":\"\"}}}],\"scatterpolargl\":[{\"type\":\"scatterpolargl\",\"marker\":{\"colorbar\":{\"outlinewidth\":0,\"ticks\":\"\"}}}],\"bar\":[{\"error_x\":{\"color\":\"#2a3f5f\"},\"error_y\":{\"color\":\"#2a3f5f\"},\"marker\":{\"line\":{\"color\":\"#E5ECF6\",\"width\":0.5},\"pattern\":{\"fillmode\":\"overlay\",\"size\":10,\"solidity\":0.2}},\"type\":\"bar\"}],\"scattergeo\":[{\"type\":\"scattergeo\",\"marker\":{\"colorbar\":{\"outlinewidth\":0,\"ticks\":\"\"}}}],\"scatterpolar\":[{\"type\":\"scatterpolar\",\"marker\":{\"colorbar\":{\"outlinewidth\":0,\"ticks\":\"\"}}}],\"histogram\":[{\"marker\":{\"pattern\":{\"fillmode\":\"overlay\",\"size\":10,\"solidity\":0.2}},\"type\":\"histogram\"}],\"scattergl\":[{\"type\":\"scattergl\",\"marker\":{\"colorbar\":{\"outlinewidth\":0,\"ticks\":\"\"}}}],\"scatter3d\":[{\"type\":\"scatter3d\",\"line\":{\"colorbar\":{\"outlinewidth\":0,\"ticks\":\"\"}},\"marker\":{\"colorbar\":{\"outlinewidth\":0,\"ticks\":\"\"}}}],\"scattermapbox\":[{\"type\":\"scattermapbox\",\"marker\":{\"colorbar\":{\"outlinewidth\":0,\"ticks\":\"\"}}}],\"scatterternary\":[{\"type\":\"scatterternary\",\"marker\":{\"colorbar\":{\"outlinewidth\":0,\"ticks\":\"\"}}}],\"scattercarpet\":[{\"type\":\"scattercarpet\",\"marker\":{\"colorbar\":{\"outlinewidth\":0,\"ticks\":\"\"}}}],\"carpet\":[{\"aaxis\":{\"endlinecolor\":\"#2a3f5f\",\"gridcolor\":\"white\",\"linecolor\":\"white\",\"minorgridcolor\":\"white\",\"startlinecolor\":\"#2a3f5f\"},\"baxis\":{\"endlinecolor\":\"#2a3f5f\",\"gridcolor\":\"white\",\"linecolor\":\"white\",\"minorgridcolor\":\"white\",\"startlinecolor\":\"#2a3f5f\"},\"type\":\"carpet\"}],\"table\":[{\"cells\":{\"fill\":{\"color\":\"#EBF0F8\"},\"line\":{\"color\":\"white\"}},\"header\":{\"fill\":{\"color\":\"#C8D4E3\"},\"line\":{\"color\":\"white\"}},\"type\":\"table\"}],\"barpolar\":[{\"marker\":{\"line\":{\"color\":\"#E5ECF6\",\"width\":0.5},\"pattern\":{\"fillmode\":\"overlay\",\"size\":10,\"solidity\":0.2}},\"type\":\"barpolar\"}],\"pie\":[{\"automargin\":true,\"type\":\"pie\"}]},\"layout\":{\"autotypenumbers\":\"strict\",\"colorway\":[\"#636efa\",\"#EF553B\",\"#00cc96\",\"#ab63fa\",\"#FFA15A\",\"#19d3f3\",\"#FF6692\",\"#B6E880\",\"#FF97FF\",\"#FECB52\"],\"font\":{\"color\":\"#2a3f5f\"},\"hovermode\":\"closest\",\"hoverlabel\":{\"align\":\"left\"},\"paper_bgcolor\":\"white\",\"plot_bgcolor\":\"#E5ECF6\",\"polar\":{\"bgcolor\":\"#E5ECF6\",\"angularaxis\":{\"gridcolor\":\"white\",\"linecolor\":\"white\",\"ticks\":\"\"},\"radialaxis\":{\"gridcolor\":\"white\",\"linecolor\":\"white\",\"ticks\":\"\"}},\"ternary\":{\"bgcolor\":\"#E5ECF6\",\"aaxis\":{\"gridcolor\":\"white\",\"linecolor\":\"white\",\"ticks\":\"\"},\"baxis\":{\"gridcolor\":\"white\",\"linecolor\":\"white\",\"ticks\":\"\"},\"caxis\":{\"gridcolor\":\"white\",\"linecolor\":\"white\",\"ticks\":\"\"}},\"coloraxis\":{\"colorbar\":{\"outlinewidth\":0,\"ticks\":\"\"}},\"colorscale\":{\"sequential\":[[0.0,\"#0d0887\"],[0.1111111111111111,\"#46039f\"],[0.2222222222222222,\"#7201a8\"],[0.3333333333333333,\"#9c179e\"],[0.4444444444444444,\"#bd3786\"],[0.5555555555555556,\"#d8576b\"],[0.6666666666666666,\"#ed7953\"],[0.7777777777777778,\"#fb9f3a\"],[0.8888888888888888,\"#fdca26\"],[1.0,\"#f0f921\"]],\"sequentialminus\":[[0.0,\"#0d0887\"],[0.1111111111111111,\"#46039f\"],[0.2222222222222222,\"#7201a8\"],[0.3333333333333333,\"#9c179e\"],[0.4444444444444444,\"#bd3786\"],[0.5555555555555556,\"#d8576b\"],[0.6666666666666666,\"#ed7953\"],[0.7777777777777778,\"#fb9f3a\"],[0.8888888888888888,\"#fdca26\"],[1.0,\"#f0f921\"]],\"diverging\":[[0,\"#8e0152\"],[0.1,\"#c51b7d\"],[0.2,\"#de77ae\"],[0.3,\"#f1b6da\"],[0.4,\"#fde0ef\"],[0.5,\"#f7f7f7\"],[0.6,\"#e6f5d0\"],[0.7,\"#b8e186\"],[0.8,\"#7fbc41\"],[0.9,\"#4d9221\"],[1,\"#276419\"]]},\"xaxis\":{\"gridcolor\":\"white\",\"linecolor\":\"white\",\"ticks\":\"\",\"title\":{\"standoff\":15},\"zerolinecolor\":\"white\",\"automargin\":true,\"zerolinewidth\":2},\"yaxis\":{\"gridcolor\":\"white\",\"linecolor\":\"white\",\"ticks\":\"\",\"title\":{\"standoff\":15},\"zerolinecolor\":\"white\",\"automargin\":true,\"zerolinewidth\":2},\"scene\":{\"xaxis\":{\"backgroundcolor\":\"#E5ECF6\",\"gridcolor\":\"white\",\"linecolor\":\"white\",\"showbackground\":true,\"ticks\":\"\",\"zerolinecolor\":\"white\",\"gridwidth\":2},\"yaxis\":{\"backgroundcolor\":\"#E5ECF6\",\"gridcolor\":\"white\",\"linecolor\":\"white\",\"showbackground\":true,\"ticks\":\"\",\"zerolinecolor\":\"white\",\"gridwidth\":2},\"zaxis\":{\"backgroundcolor\":\"#E5ECF6\",\"gridcolor\":\"white\",\"linecolor\":\"white\",\"showbackground\":true,\"ticks\":\"\",\"zerolinecolor\":\"white\",\"gridwidth\":2}},\"shapedefaults\":{\"line\":{\"color\":\"#2a3f5f\"}},\"annotationdefaults\":{\"arrowcolor\":\"#2a3f5f\",\"arrowhead\":0,\"arrowwidth\":1},\"geo\":{\"bgcolor\":\"white\",\"landcolor\":\"#E5ECF6\",\"subunitcolor\":\"white\",\"showland\":true,\"showlakes\":true,\"lakecolor\":\"white\"},\"title\":{\"x\":0.05},\"mapbox\":{\"style\":\"light\"}}}},                        {\"responsive\": true}                    ).then(function(){\n",
              "                            \n",
              "var gd = document.getElementById('7acdeaae-0b43-4c11-b1d3-c47e4276db38');\n",
              "var x = new MutationObserver(function (mutations, observer) {{\n",
              "        var display = window.getComputedStyle(gd).display;\n",
              "        if (!display || display === 'none') {{\n",
              "            console.log([gd, 'removed!']);\n",
              "            Plotly.purge(gd);\n",
              "            observer.disconnect();\n",
              "        }}\n",
              "}});\n",
              "\n",
              "// Listen for the removal of the full notebook cells\n",
              "var notebookContainer = gd.closest('#notebook-container');\n",
              "if (notebookContainer) {{\n",
              "    x.observe(notebookContainer, {childList: true});\n",
              "}}\n",
              "\n",
              "// Listen for the clearing of the current output cell\n",
              "var outputEl = gd.closest('.output');\n",
              "if (outputEl) {{\n",
              "    x.observe(outputEl, {childList: true});\n",
              "}}\n",
              "\n",
              "                        })                };                            </script>        </div>\n",
              "</body>\n",
              "</html>"
            ]
          },
          "metadata": {}
        }
      ],
      "source": [
        "trace_not_booked = go.Bar(y = month_counts_not , name='Not Booked') # TODO\n",
        "trace_is_booked = go.Bar(y = month_counts_is , name='Booked') # TODO\n",
        "\n",
        "# در ادامه‌ی این قسمت از کد تغییری ایجاد نکنید زیرا نمودار شما توسط سیستم داوری بررسی می‌شود و تغییر در این قسمت ممکن است باعث عدم داوری صحیح شود\n",
        "\n",
        "data = [trace_is_booked, trace_not_booked]\n",
        "\n",
        "ticktext = ['Jan', 'Feb', 'Mar', 'Apr', 'May', 'Jun', 'Jul', 'Aug', 'Sep', 'Oct', 'Nov', 'Dec']\n",
        "\n",
        "layout = go.Layout(\n",
        "    xaxis=dict(title='Month', tickangle=45, automargin=True,\n",
        "             ticktext = ticktext ,tickvals = np.arange(0,12)),\n",
        "    yaxis=dict(title='Frequency')\n",
        ")\n",
        "\n",
        "fig = go.Figure(data=data, layout=layout)\n",
        "fig.show()\n",
        "fig.write_json('./checkIn_date_month.json')"
      ]
    },
    {
      "cell_type": "markdown",
      "id": "50a26b1b-448f-4a35-a324-5433de5b1ff4",
      "metadata": {
        "id": "50a26b1b-448f-4a35-a324-5433de5b1ff4"
      },
      "source": [
        "\n",
        "<p dir=rtl style=\"direction: rtl; text-align: justify; line-height:200%; font-family:vazir; font-size:medium\">\n",
        "<font face=\"vazir\">\n",
        "در صورت علاقه می‌توانید ماه‌های سال را به فصل نیز تبدیل کنید (مانند پیشنهادی که برای ساعت جست‌وجو داده شد).\n",
        "</p>\n"
      ]
    },
    {
      "cell_type": "code",
      "source": [
        "def check_condition(value):\n",
        "    # Your custom condition logic here\n",
        "    if value in [1,2,3]:\n",
        "        return 1\n",
        "    elif value in [4,5,6]:\n",
        "        return 2\n",
        "    elif value in [7,8,9]:\n",
        "        return 3\n",
        "    else:\n",
        "        return 4"
      ],
      "metadata": {
        "id": "U0Ir5aMnVBrP"
      },
      "id": "U0Ir5aMnVBrP",
      "execution_count": 49,
      "outputs": []
    },
    {
      "cell_type": "code",
      "source": [
        "is_booked['season'] =  is_booked['checkIn_date_month'].apply(check_condition)\n",
        "not_booked['season'] =  not_booked['checkIn_date_month'].apply(check_condition)"
      ],
      "metadata": {
        "colab": {
          "base_uri": "https://localhost:8080/"
        },
        "id": "EwucziNPSk-P",
        "outputId": "66dd7a3c-1948-405d-cf0d-6b8b9a5b7f0d"
      },
      "id": "EwucziNPSk-P",
      "execution_count": 50,
      "outputs": [
        {
          "output_type": "stream",
          "name": "stderr",
          "text": [
            "<ipython-input-50-f795ce5c7995>:1: SettingWithCopyWarning:\n",
            "\n",
            "\n",
            "A value is trying to be set on a copy of a slice from a DataFrame.\n",
            "Try using .loc[row_indexer,col_indexer] = value instead\n",
            "\n",
            "See the caveats in the documentation: https://pandas.pydata.org/pandas-docs/stable/user_guide/indexing.html#returning-a-view-versus-a-copy\n",
            "\n",
            "<ipython-input-50-f795ce5c7995>:2: SettingWithCopyWarning:\n",
            "\n",
            "\n",
            "A value is trying to be set on a copy of a slice from a DataFrame.\n",
            "Try using .loc[row_indexer,col_indexer] = value instead\n",
            "\n",
            "See the caveats in the documentation: https://pandas.pydata.org/pandas-docs/stable/user_guide/indexing.html#returning-a-view-versus-a-copy\n",
            "\n"
          ]
        }
      ]
    },
    {
      "cell_type": "code",
      "source": [
        "trace_not_booked = go.Bar(y = not_booked.groupby(['season'])['is_booking'].count() / len(not_booked) , name='Not Booked') # TODO\n",
        "trace_is_booked = go.Bar(y = is_booked.groupby(['season'])['is_booking'].count() / len(is_booked) , name='Booked') # TODO\n",
        "\n",
        "# در ادامه‌ی این قسمت از کد تغییری ایجاد نکنید زیرا نمودار شما توسط سیستم داوری بررسی می‌شود و تغییر در این قسمت ممکن است باعث عدم داوری صحیح شود\n",
        "\n",
        "data = [trace_is_booked, trace_not_booked]\n",
        "\n",
        "ticktext = ['بهار', 'تابستان', 'پاییز', 'زمستان']\n",
        "\n",
        "layout = go.Layout(\n",
        "    xaxis=dict(title='Month', tickangle=45, automargin=True,\n",
        "             ticktext = ticktext ,tickvals = np.arange(0,12)),\n",
        "    yaxis=dict(title='Frequency')\n",
        ")\n",
        "\n",
        "fig = go.Figure(data=data, layout=layout)\n",
        "fig.show()\n",
        "fig.write_json('./checkIn_date_month.json')"
      ],
      "metadata": {
        "colab": {
          "base_uri": "https://localhost:8080/",
          "height": 542
        },
        "id": "f6p9KkgKTZ0l",
        "outputId": "d0f66bb4-3443-4b45-99ce-b1ad5527b310"
      },
      "id": "f6p9KkgKTZ0l",
      "execution_count": 51,
      "outputs": [
        {
          "output_type": "display_data",
          "data": {
            "text/html": [
              "<html>\n",
              "<head><meta charset=\"utf-8\" /></head>\n",
              "<body>\n",
              "    <div>            <script src=\"https://cdnjs.cloudflare.com/ajax/libs/mathjax/2.7.5/MathJax.js?config=TeX-AMS-MML_SVG\"></script><script type=\"text/javascript\">if (window.MathJax && window.MathJax.Hub && window.MathJax.Hub.Config) {window.MathJax.Hub.Config({SVG: {font: \"STIX-Web\"}});}</script>                <script type=\"text/javascript\">window.PlotlyConfig = {MathJaxConfig: 'local'};</script>\n",
              "        <script charset=\"utf-8\" src=\"https://cdn.plot.ly/plotly-2.24.1.min.js\"></script>                <div id=\"3d6bfdf0-c0f1-411c-bd11-9ca0fcfa09cd\" class=\"plotly-graph-div\" style=\"height:525px; width:100%;\"></div>            <script type=\"text/javascript\">                                    window.PLOTLYENV=window.PLOTLYENV || {};                                    if (document.getElementById(\"3d6bfdf0-c0f1-411c-bd11-9ca0fcfa09cd\")) {                    Plotly.newPlot(                        \"3d6bfdf0-c0f1-411c-bd11-9ca0fcfa09cd\",                        [{\"name\":\"Booked\",\"y\":[0.1950996197121174,0.2541537801401188,0.27713724962870184,0.273609350519062],\"type\":\"bar\"},{\"name\":\"Not Booked\",\"y\":[0.16986224386019488,0.24618441677303396,0.2968150559369359,0.2871382834298352],\"type\":\"bar\"}],                        {\"xaxis\":{\"automargin\":true,\"tickangle\":45,\"ticktext\":[\"\\u0628\\u0647\\u0627\\u0631\",\"\\u062a\\u0627\\u0628\\u0633\\u062a\\u0627\\u0646\",\"\\u067e\\u0627\\u06cc\\u06cc\\u0632\",\"\\u0632\\u0645\\u0633\\u062a\\u0627\\u0646\"],\"tickvals\":[0,1,2,3,4,5,6,7,8,9,10,11],\"title\":{\"text\":\"Month\"}},\"yaxis\":{\"title\":{\"text\":\"Frequency\"}},\"template\":{\"data\":{\"histogram2dcontour\":[{\"type\":\"histogram2dcontour\",\"colorbar\":{\"outlinewidth\":0,\"ticks\":\"\"},\"colorscale\":[[0.0,\"#0d0887\"],[0.1111111111111111,\"#46039f\"],[0.2222222222222222,\"#7201a8\"],[0.3333333333333333,\"#9c179e\"],[0.4444444444444444,\"#bd3786\"],[0.5555555555555556,\"#d8576b\"],[0.6666666666666666,\"#ed7953\"],[0.7777777777777778,\"#fb9f3a\"],[0.8888888888888888,\"#fdca26\"],[1.0,\"#f0f921\"]]}],\"choropleth\":[{\"type\":\"choropleth\",\"colorbar\":{\"outlinewidth\":0,\"ticks\":\"\"}}],\"histogram2d\":[{\"type\":\"histogram2d\",\"colorbar\":{\"outlinewidth\":0,\"ticks\":\"\"},\"colorscale\":[[0.0,\"#0d0887\"],[0.1111111111111111,\"#46039f\"],[0.2222222222222222,\"#7201a8\"],[0.3333333333333333,\"#9c179e\"],[0.4444444444444444,\"#bd3786\"],[0.5555555555555556,\"#d8576b\"],[0.6666666666666666,\"#ed7953\"],[0.7777777777777778,\"#fb9f3a\"],[0.8888888888888888,\"#fdca26\"],[1.0,\"#f0f921\"]]}],\"heatmap\":[{\"type\":\"heatmap\",\"colorbar\":{\"outlinewidth\":0,\"ticks\":\"\"},\"colorscale\":[[0.0,\"#0d0887\"],[0.1111111111111111,\"#46039f\"],[0.2222222222222222,\"#7201a8\"],[0.3333333333333333,\"#9c179e\"],[0.4444444444444444,\"#bd3786\"],[0.5555555555555556,\"#d8576b\"],[0.6666666666666666,\"#ed7953\"],[0.7777777777777778,\"#fb9f3a\"],[0.8888888888888888,\"#fdca26\"],[1.0,\"#f0f921\"]]}],\"heatmapgl\":[{\"type\":\"heatmapgl\",\"colorbar\":{\"outlinewidth\":0,\"ticks\":\"\"},\"colorscale\":[[0.0,\"#0d0887\"],[0.1111111111111111,\"#46039f\"],[0.2222222222222222,\"#7201a8\"],[0.3333333333333333,\"#9c179e\"],[0.4444444444444444,\"#bd3786\"],[0.5555555555555556,\"#d8576b\"],[0.6666666666666666,\"#ed7953\"],[0.7777777777777778,\"#fb9f3a\"],[0.8888888888888888,\"#fdca26\"],[1.0,\"#f0f921\"]]}],\"contourcarpet\":[{\"type\":\"contourcarpet\",\"colorbar\":{\"outlinewidth\":0,\"ticks\":\"\"}}],\"contour\":[{\"type\":\"contour\",\"colorbar\":{\"outlinewidth\":0,\"ticks\":\"\"},\"colorscale\":[[0.0,\"#0d0887\"],[0.1111111111111111,\"#46039f\"],[0.2222222222222222,\"#7201a8\"],[0.3333333333333333,\"#9c179e\"],[0.4444444444444444,\"#bd3786\"],[0.5555555555555556,\"#d8576b\"],[0.6666666666666666,\"#ed7953\"],[0.7777777777777778,\"#fb9f3a\"],[0.8888888888888888,\"#fdca26\"],[1.0,\"#f0f921\"]]}],\"surface\":[{\"type\":\"surface\",\"colorbar\":{\"outlinewidth\":0,\"ticks\":\"\"},\"colorscale\":[[0.0,\"#0d0887\"],[0.1111111111111111,\"#46039f\"],[0.2222222222222222,\"#7201a8\"],[0.3333333333333333,\"#9c179e\"],[0.4444444444444444,\"#bd3786\"],[0.5555555555555556,\"#d8576b\"],[0.6666666666666666,\"#ed7953\"],[0.7777777777777778,\"#fb9f3a\"],[0.8888888888888888,\"#fdca26\"],[1.0,\"#f0f921\"]]}],\"mesh3d\":[{\"type\":\"mesh3d\",\"colorbar\":{\"outlinewidth\":0,\"ticks\":\"\"}}],\"scatter\":[{\"fillpattern\":{\"fillmode\":\"overlay\",\"size\":10,\"solidity\":0.2},\"type\":\"scatter\"}],\"parcoords\":[{\"type\":\"parcoords\",\"line\":{\"colorbar\":{\"outlinewidth\":0,\"ticks\":\"\"}}}],\"scatterpolargl\":[{\"type\":\"scatterpolargl\",\"marker\":{\"colorbar\":{\"outlinewidth\":0,\"ticks\":\"\"}}}],\"bar\":[{\"error_x\":{\"color\":\"#2a3f5f\"},\"error_y\":{\"color\":\"#2a3f5f\"},\"marker\":{\"line\":{\"color\":\"#E5ECF6\",\"width\":0.5},\"pattern\":{\"fillmode\":\"overlay\",\"size\":10,\"solidity\":0.2}},\"type\":\"bar\"}],\"scattergeo\":[{\"type\":\"scattergeo\",\"marker\":{\"colorbar\":{\"outlinewidth\":0,\"ticks\":\"\"}}}],\"scatterpolar\":[{\"type\":\"scatterpolar\",\"marker\":{\"colorbar\":{\"outlinewidth\":0,\"ticks\":\"\"}}}],\"histogram\":[{\"marker\":{\"pattern\":{\"fillmode\":\"overlay\",\"size\":10,\"solidity\":0.2}},\"type\":\"histogram\"}],\"scattergl\":[{\"type\":\"scattergl\",\"marker\":{\"colorbar\":{\"outlinewidth\":0,\"ticks\":\"\"}}}],\"scatter3d\":[{\"type\":\"scatter3d\",\"line\":{\"colorbar\":{\"outlinewidth\":0,\"ticks\":\"\"}},\"marker\":{\"colorbar\":{\"outlinewidth\":0,\"ticks\":\"\"}}}],\"scattermapbox\":[{\"type\":\"scattermapbox\",\"marker\":{\"colorbar\":{\"outlinewidth\":0,\"ticks\":\"\"}}}],\"scatterternary\":[{\"type\":\"scatterternary\",\"marker\":{\"colorbar\":{\"outlinewidth\":0,\"ticks\":\"\"}}}],\"scattercarpet\":[{\"type\":\"scattercarpet\",\"marker\":{\"colorbar\":{\"outlinewidth\":0,\"ticks\":\"\"}}}],\"carpet\":[{\"aaxis\":{\"endlinecolor\":\"#2a3f5f\",\"gridcolor\":\"white\",\"linecolor\":\"white\",\"minorgridcolor\":\"white\",\"startlinecolor\":\"#2a3f5f\"},\"baxis\":{\"endlinecolor\":\"#2a3f5f\",\"gridcolor\":\"white\",\"linecolor\":\"white\",\"minorgridcolor\":\"white\",\"startlinecolor\":\"#2a3f5f\"},\"type\":\"carpet\"}],\"table\":[{\"cells\":{\"fill\":{\"color\":\"#EBF0F8\"},\"line\":{\"color\":\"white\"}},\"header\":{\"fill\":{\"color\":\"#C8D4E3\"},\"line\":{\"color\":\"white\"}},\"type\":\"table\"}],\"barpolar\":[{\"marker\":{\"line\":{\"color\":\"#E5ECF6\",\"width\":0.5},\"pattern\":{\"fillmode\":\"overlay\",\"size\":10,\"solidity\":0.2}},\"type\":\"barpolar\"}],\"pie\":[{\"automargin\":true,\"type\":\"pie\"}]},\"layout\":{\"autotypenumbers\":\"strict\",\"colorway\":[\"#636efa\",\"#EF553B\",\"#00cc96\",\"#ab63fa\",\"#FFA15A\",\"#19d3f3\",\"#FF6692\",\"#B6E880\",\"#FF97FF\",\"#FECB52\"],\"font\":{\"color\":\"#2a3f5f\"},\"hovermode\":\"closest\",\"hoverlabel\":{\"align\":\"left\"},\"paper_bgcolor\":\"white\",\"plot_bgcolor\":\"#E5ECF6\",\"polar\":{\"bgcolor\":\"#E5ECF6\",\"angularaxis\":{\"gridcolor\":\"white\",\"linecolor\":\"white\",\"ticks\":\"\"},\"radialaxis\":{\"gridcolor\":\"white\",\"linecolor\":\"white\",\"ticks\":\"\"}},\"ternary\":{\"bgcolor\":\"#E5ECF6\",\"aaxis\":{\"gridcolor\":\"white\",\"linecolor\":\"white\",\"ticks\":\"\"},\"baxis\":{\"gridcolor\":\"white\",\"linecolor\":\"white\",\"ticks\":\"\"},\"caxis\":{\"gridcolor\":\"white\",\"linecolor\":\"white\",\"ticks\":\"\"}},\"coloraxis\":{\"colorbar\":{\"outlinewidth\":0,\"ticks\":\"\"}},\"colorscale\":{\"sequential\":[[0.0,\"#0d0887\"],[0.1111111111111111,\"#46039f\"],[0.2222222222222222,\"#7201a8\"],[0.3333333333333333,\"#9c179e\"],[0.4444444444444444,\"#bd3786\"],[0.5555555555555556,\"#d8576b\"],[0.6666666666666666,\"#ed7953\"],[0.7777777777777778,\"#fb9f3a\"],[0.8888888888888888,\"#fdca26\"],[1.0,\"#f0f921\"]],\"sequentialminus\":[[0.0,\"#0d0887\"],[0.1111111111111111,\"#46039f\"],[0.2222222222222222,\"#7201a8\"],[0.3333333333333333,\"#9c179e\"],[0.4444444444444444,\"#bd3786\"],[0.5555555555555556,\"#d8576b\"],[0.6666666666666666,\"#ed7953\"],[0.7777777777777778,\"#fb9f3a\"],[0.8888888888888888,\"#fdca26\"],[1.0,\"#f0f921\"]],\"diverging\":[[0,\"#8e0152\"],[0.1,\"#c51b7d\"],[0.2,\"#de77ae\"],[0.3,\"#f1b6da\"],[0.4,\"#fde0ef\"],[0.5,\"#f7f7f7\"],[0.6,\"#e6f5d0\"],[0.7,\"#b8e186\"],[0.8,\"#7fbc41\"],[0.9,\"#4d9221\"],[1,\"#276419\"]]},\"xaxis\":{\"gridcolor\":\"white\",\"linecolor\":\"white\",\"ticks\":\"\",\"title\":{\"standoff\":15},\"zerolinecolor\":\"white\",\"automargin\":true,\"zerolinewidth\":2},\"yaxis\":{\"gridcolor\":\"white\",\"linecolor\":\"white\",\"ticks\":\"\",\"title\":{\"standoff\":15},\"zerolinecolor\":\"white\",\"automargin\":true,\"zerolinewidth\":2},\"scene\":{\"xaxis\":{\"backgroundcolor\":\"#E5ECF6\",\"gridcolor\":\"white\",\"linecolor\":\"white\",\"showbackground\":true,\"ticks\":\"\",\"zerolinecolor\":\"white\",\"gridwidth\":2},\"yaxis\":{\"backgroundcolor\":\"#E5ECF6\",\"gridcolor\":\"white\",\"linecolor\":\"white\",\"showbackground\":true,\"ticks\":\"\",\"zerolinecolor\":\"white\",\"gridwidth\":2},\"zaxis\":{\"backgroundcolor\":\"#E5ECF6\",\"gridcolor\":\"white\",\"linecolor\":\"white\",\"showbackground\":true,\"ticks\":\"\",\"zerolinecolor\":\"white\",\"gridwidth\":2}},\"shapedefaults\":{\"line\":{\"color\":\"#2a3f5f\"}},\"annotationdefaults\":{\"arrowcolor\":\"#2a3f5f\",\"arrowhead\":0,\"arrowwidth\":1},\"geo\":{\"bgcolor\":\"white\",\"landcolor\":\"#E5ECF6\",\"subunitcolor\":\"white\",\"showland\":true,\"showlakes\":true,\"lakecolor\":\"white\"},\"title\":{\"x\":0.05},\"mapbox\":{\"style\":\"light\"}}}},                        {\"responsive\": true}                    ).then(function(){\n",
              "                            \n",
              "var gd = document.getElementById('3d6bfdf0-c0f1-411c-bd11-9ca0fcfa09cd');\n",
              "var x = new MutationObserver(function (mutations, observer) {{\n",
              "        var display = window.getComputedStyle(gd).display;\n",
              "        if (!display || display === 'none') {{\n",
              "            console.log([gd, 'removed!']);\n",
              "            Plotly.purge(gd);\n",
              "            observer.disconnect();\n",
              "        }}\n",
              "}});\n",
              "\n",
              "// Listen for the removal of the full notebook cells\n",
              "var notebookContainer = gd.closest('#notebook-container');\n",
              "if (notebookContainer) {{\n",
              "    x.observe(notebookContainer, {childList: true});\n",
              "}}\n",
              "\n",
              "// Listen for the clearing of the current output cell\n",
              "var outputEl = gd.closest('.output');\n",
              "if (outputEl) {{\n",
              "    x.observe(outputEl, {childList: true});\n",
              "}}\n",
              "\n",
              "                        })                };                            </script>        </div>\n",
              "</body>\n",
              "</html>"
            ]
          },
          "metadata": {}
        }
      ]
    },
    {
      "cell_type": "markdown",
      "id": "6a161fe9-a00a-40de-ad19-36cb14899c5f",
      "metadata": {
        "id": "6a161fe9-a00a-40de-ad19-36cb14899c5f"
      },
      "source": [
        "<h3 align=right style=\"line-height:200%;font-family:vazir;color:#0099cc\">\n",
        "<font face=\"vazir\" color=\"#0099cc\">\n",
        "مصورسازی ۴\n",
        "</font>\n",
        "</h3>\n",
        "\n",
        "<p dir=rtl style=\"direction: rtl; text-align: justify; line-height:200%; font-family:vazir; font-size:medium\">\n",
        "<font face=\"vazir\">\n",
        "نمودار خطی برای فاصله‌ی زمانی بین جست‌وجو و ورود را نیز رسم کنید.\n",
        "</font>\n",
        "</p>\n",
        "\n",
        "<p dir=rtl style=\"direction: rtl; text-align: justify; line-height:200%; font-family:vazir; font-size:medium\">\n",
        "<font face=\"vazir\">\n",
        "خروجی نمودار شما باید به صورت زیر باشد.\n",
        "</font>\n",
        "</p>\n",
        "<center>\n",
        "<img src = 'https://quera.org/qbox/view/mEwuo0YTeE/days_between.png'>\n",
        "</center>"
      ]
    },
    {
      "cell_type": "code",
      "source": [
        "day_between_is  =  is_booked.groupby(['days_between'])['is_booking'].count() / len(is_booked)\n",
        "day_between_not  = not_booked.groupby(['days_between'])['is_booking'].count() / len(not_booked)"
      ],
      "metadata": {
        "id": "h7byRY-xbvP2"
      },
      "id": "h7byRY-xbvP2",
      "execution_count": 52,
      "outputs": []
    },
    {
      "cell_type": "code",
      "execution_count": 53,
      "id": "a1cce9df-abe3-45ab-afa4-5ca3fb68a0c7",
      "metadata": {
        "id": "a1cce9df-abe3-45ab-afa4-5ca3fb68a0c7",
        "colab": {
          "base_uri": "https://localhost:8080/",
          "height": 542
        },
        "outputId": "d5cb7091-958d-4db2-9ef5-83c0e2966b9b"
      },
      "outputs": [
        {
          "output_type": "display_data",
          "data": {
            "text/html": [
              "<html>\n",
              "<head><meta charset=\"utf-8\" /></head>\n",
              "<body>\n",
              "    <div>            <script src=\"https://cdnjs.cloudflare.com/ajax/libs/mathjax/2.7.5/MathJax.js?config=TeX-AMS-MML_SVG\"></script><script type=\"text/javascript\">if (window.MathJax && window.MathJax.Hub && window.MathJax.Hub.Config) {window.MathJax.Hub.Config({SVG: {font: \"STIX-Web\"}});}</script>                <script type=\"text/javascript\">window.PlotlyConfig = {MathJaxConfig: 'local'};</script>\n",
              "        <script charset=\"utf-8\" src=\"https://cdn.plot.ly/plotly-2.24.1.min.js\"></script>                <div id=\"b766489e-f27b-4dca-bfd9-df62d851f901\" class=\"plotly-graph-div\" style=\"height:525px; width:100%;\"></div>            <script type=\"text/javascript\">                                    window.PLOTLYENV=window.PLOTLYENV || {};                                    if (document.getElementById(\"b766489e-f27b-4dca-bfd9-df62d851f901\")) {                    Plotly.newPlot(                        \"b766489e-f27b-4dca-bfd9-df62d851f901\",                        [{\"name\":\"Not Booked\",\"y\":[0.00020699022613304485,0.06565971713350265,0.07598052176645761,0.048325418853032404,0.040802759466781094,0.036138680429754017,0.03336017659136956,0.03054843344659879,0.02727587264510846,0.02297591510076798,0.020789675267085382,0.019422331072556875,0.018221183409960005,0.017500494812401887,0.016905209052574005,0.016163368169133677,0.014702349565698245,0.013785246884948185,0.013389396963438273,0.012871165959324153,0.012482870425629318,0.01244963111924299,0.01154159370387102,0.010668306472448392,0.0106184475128689,0.010039781406234183,0.00978444309808466,0.0095759419943886,0.009669616403295526,0.008755535477671496,0.008483577516328809,0.0083914139849849,0.008213130432549138,0.008013694594231168,0.007737204000199436,0.007289984241547018,0.007108678933985227,0.006552675990795734,0.006341153131973644,0.006398566479368211,0.005987607782228152,0.005892422495758211,0.005715649820885465,0.0055328336357606585,0.005345484817946808,0.005084102999545226,0.005177777408452151,0.004933015243243733,0.004958700161814987,0.004688253078035315,0.0046142200774475835,0.004467664953835136,0.004148869788038987,0.004327153340474748,0.004058217134258091,0.00407634766501427,0.0039025967452675538,0.0035989103551015535,0.003715247927453703,0.0035566057833371356,0.0035354534974549267,0.0034357355782959416,0.0033964527616575538,0.003340550291826001,0.003283136944431434,0.0031275165554408967,0.003023266003592867,0.003065570575357285,0.0029129719414927773,0.0029280807171229266,0.0028495150838461505,0.0027724603281323893,0.0026183508167048667,0.002535252550739046,0.0024793500809074933,0.002427980243764986,0.0025186328975458816,0.00244762165208418,0.0023509254880512247,0.002222500895194956,0.0021862398336825978,0.0021409135067921503,0.0020291085671290455,0.002100119812590747,0.0021182503433469263,0.0020668805062044188,0.0019958692607427173,0.0019868039953646276,0.0019218362601549858,0.0020502608530112544,0.0019263688928440306,0.0017722593814165082,0.001755639728223344,0.001737509197467165,0.0017208895442740006,0.0017631941160384185,0.001592464951417732,0.001630236890493105,0.0015682909104094932,0.0015954867065437618,0.0014912361546957319,0.0013537462964613738,0.0014308010521751349,0.0014595077258724185,0.0014353336848641797,0.0013371266432682094,0.0014187140316710154,0.001287267683688717,0.0012721589080585676,0.0012102129279749558,0.0012540283773023885,0.0012177673157900302,0.0011104950088159705,0.0012253217036051049,0.0010893427229337616,0.0011316472946981794,0.0010289076204131645,0.001121071151757075,0.0010289076204131645,0.0010107770896569854,0.0010379728857912542,0.0009986900691528662,0.0009684725178925675,0.0008868851294897615,0.0009745160281446273,0.000895950394867851,0.0009548746198254333,0.0009065265378089556,0.0008083194962129854,0.0007388191283142988,0.0008173847615910749,0.0008340044147842391,0.0007947215981458511,0.0008340044147842391,0.0007781019449526869,0.0007252212302471645,0.0007584605366334928,0.0007418408834403286,0.0007433517610033436,0.000735797373188269,0.0007781019449526869,0.00071464508730606,0.0007297538629362092,0.0006678078828525973,0.0006647861277265674,0.0006965145565498809,0.0006028401476429555,0.0006073727803320002,0.0005967966373908957,0.0006088836578950151,0.0006753622706676719,0.0005816878617607465,0.0005937748822648659,0.0005650682085675823,0.0005046331060469853,0.0005937748822648659,0.0005454268002483883,0.0005771552290717017,0.0005227636368031644,0.0005454268002483883,0.0004955678406688958,0.0005257853919291943,0.000530318024618239,0.0005393832899963285,0.0004623285342825673,0.0004880134528538211,0.00047592643234970166,0.0004426871259633733,0.0005121874938620599,0.00046837204453462707,0.0004910352079798509,0.0004185130849551345,0.00039736079907292553,0.0004351327381482987,0.00047290467722367185,0.0004094478195770449,0.00042908922789623895,0.00037016500293865685,0.00039131728882086585,0.0003716758805016718,0.0003550562273085076,0.00038678465613182106,0.00039131728882086585,0.0003731867580646867,0.00037620851319071654,0.0003535453497454927,0.00038678465613182106,0.0003429692068043882,0.0003520344721824777,0.00030519726772901506,0.00034145832924137326,0.00034145832924137326,0.0003278604311742389,0.0002976428799139404,0.0003021755126029852,0.00030670814529202997,0.0003218169209221792,0.00030972990041805984,0.00028253410428379116,0.0003021755126029852,0.0002613818184015822,0.00028102322672077625,0.00028404498184680607,0.00028253410428379116,0.0002160554915111344,0.00028404498184680607,0.00022512075688922397,0.00024325128764540307,0.0002326751447042986,0.00028102322672077625,0.00022209900176319413,0.0002553383081495225,0.00022512075688922397,0.00021907724663716425,0.00024174041008238816,0.00021303373638510456,0.00023720777739334338,0.000244762165208418,0.00021907724663716425,0.00018734881781385082,0.00022965338957826875,0.0001918814505028956,0.0001979249607549553,0.0001752617973097314,0.0001858379402508359,0.0001918814505028956,0.00020094671588098516,0.00016015302167958216,0.00018281618512480603,0.00017072916462068663,0.00016770740949465678,0.0001918814505028956,0.00017375091974671647,0.0001797944299987762,0.00014655512361244781,0.0001752617973097314,0.00015410951142752244,0.0001571312665535523,0.00012691371529325378,0.00014806600117546275,0.00013144634798229856,0.00013295722554531347,0.00014202249092340303,0.0001390007357973732,0.00013748985823435825,0.00014957687873847766,0.0001344681031083284,0.00010727230697405974,0.00011180493966310452,0.00011331581722611945,0.00011482669478913438,0.00011784844991516422,0.00011935932747817916,0.000122381082604209,0.00010425055184802989,0.00010576142941104481,9.518528646994033e-05,0.00010727230697405974,0.00014202249092340303,0.0001102940621000896,9.820704159597019e-05,8.76308986548657e-05,9.669616403295527e-05,0.00010878318453707467,0.0001102940621000896,0.00010122879672200003,9.367440890692541e-05,9.820704159597019e-05,8.612002109185078e-05,0.00010122879672200003,9.518528646994033e-05,7.252212302471644e-05,6.95003678986866e-05,0.00010727230697405974,9.065265378089556e-05,7.403300058773138e-05,7.252212302471644e-05,0.00010425055184802989,6.496773520964181e-05,8.76308986548657e-05,9.065265378089556e-05,8.612002109185078e-05,7.55438781507463e-05,6.043510252059704e-05,4.532632689044778e-05,6.496773520964181e-05,9.518528646994033e-05,7.101124546170152e-05,7.252212302471644e-05,6.798949033567167e-05,6.496773520964181e-05,6.496773520964181e-05,5.4391592268537336e-05,5.1369837142507485e-05,5.741334739456719e-05,5.1369837142507485e-05,6.345685764662689e-05,7.101124546170152e-05,7.856563327677616e-05,6.496773520964181e-05,5.4391592268537336e-05,6.194598008361197e-05,4.834808201647763e-05,6.95003678986866e-05,4.0793694201403e-05,5.4391592268537336e-05,5.892422495758211e-05,4.0793694201403e-05,4.834808201647763e-05,4.532632689044778e-05,3.928281663838808e-05,5.4391592268537336e-05,5.1369837142507485e-05,4.834808201647763e-05,5.1369837142507485e-05,4.381544932743285e-05,4.834808201647763e-05,6.043510252059704e-05,5.288071470552241e-05,4.0793694201403e-05,3.777193907537315e-05,2.8706673697283594e-05,3.626106151235822e-05,5.892422495758211e-05,5.741334739456719e-05,4.381544932743285e-05,3.626106151235822e-05,2.8706673697283594e-05,1.6619653193164184e-05,2.5684918571253742e-05,3.1728428823313446e-05,2.5684918571253742e-05,2.4174041008238817e-05,2.1152285882208965e-05,1.2087020504119408e-05,1.510877563014926e-05,1.510877563014926e-05,1.0576142941104482e-05,1.510877563014926e-05,2.1152285882208965e-05,1.6619653193164184e-05,1.0576142941104482e-05,1.2087020504119408e-05,9.065265378089555e-06,1.813053075617911e-05,1.813053075617911e-05,1.0576142941104482e-05,1.2087020504119408e-05,1.510877563014926e-06,1.6619653193164184e-05,1.3597898067134334e-05,1.0576142941104482e-05,1.0576142941104482e-05,9.065265378089555e-06,1.510877563014926e-05,1.2087020504119408e-05,4.5326326890447775e-06,6.043510252059704e-06,6.043510252059704e-06,6.043510252059704e-06,1.510877563014926e-05,6.043510252059704e-06,1.510877563014926e-05,1.2087020504119408e-05,9.065265378089555e-06,6.043510252059704e-06,1.6619653193164184e-05,4.5326326890447775e-06,3.021755126029852e-06,6.043510252059704e-06,9.065265378089555e-06,1.510877563014926e-06,1.510877563014926e-06,7.55438781507463e-06,7.55438781507463e-06,3.021755126029852e-06,9.065265378089555e-06,1.510877563014926e-06,1.510877563014926e-06,3.021755126029852e-06,3.021755126029852e-06,4.5326326890447775e-06,4.5326326890447775e-06,1.510877563014926e-06,3.021755126029852e-06,1.510877563014926e-06,1.510877563014926e-06,1.510877563014926e-06,3.021755126029852e-06,1.510877563014926e-06,1.510877563014926e-06,3.021755126029852e-06,1.510877563014926e-06,1.510877563014926e-06,3.021755126029852e-06,1.510877563014926e-06,1.510877563014926e-06,1.510877563014926e-06,3.021755126029852e-06,4.5326326890447775e-06,3.021755126029852e-06,1.510877563014926e-06,4.5326326890447775e-06,1.510877563014926e-06,1.510877563014926e-06,3.021755126029852e-06,1.510877563014926e-06,1.510877563014926e-06,1.510877563014926e-06,1.510877563014926e-06,3.021755126029852e-06,4.5326326890447775e-06,3.021755126029852e-06,1.510877563014926e-06,3.021755126029852e-06,1.510877563014926e-06,1.510877563014926e-06,1.510877563014926e-06,1.510877563014926e-06,1.510877563014926e-06,1.510877563014926e-06,3.021755126029852e-06,4.5326326890447775e-06,3.021755126029852e-06,1.510877563014926e-06,1.510877563014926e-06,1.510877563014926e-06,1.510877563014926e-06,3.021755126029852e-06,1.510877563014926e-06,1.510877563014926e-06,1.510877563014926e-06,1.510877563014926e-06,3.021755126029852e-06,1.510877563014926e-06,1.510877563014926e-06,1.510877563014926e-06,1.510877563014926e-06,1.510877563014926e-06,1.510877563014926e-06,1.510877563014926e-06],\"type\":\"scatter\"},{\"name\":\"Booked\",\"opacity\":0.5,\"y\":[1.4395032216801853e-07,1.4395032216801853e-07,1.4395032216801853e-07,1.4395032216801853e-07,2.8790064433603707e-07,1.4395032216801853e-07,1.4395032216801853e-07,1.4395032216801853e-07,1.4395032216801853e-07,1.4395032216801853e-07,2.8790064433603707e-07,1.4395032216801853e-07,2.8790064433603707e-07,4.318509665040556e-07,2.8790064433603707e-07,1.4395032216801853e-07,1.4395032216801853e-07,2.8790064433603707e-07,1.4395032216801853e-07,5.758012886720741e-07,1.4395032216801853e-07,1.4395032216801853e-07,4.318509665040556e-07,1.4395032216801853e-07,1.4395032216801853e-07,1.4395032216801853e-07,2.8790064433603707e-07,2.8790064433603707e-07,2.8790064433603707e-07,1.4395032216801853e-07,1.4395032216801853e-07,1.4395032216801853e-07,2.8790064433603707e-07,1.4395032216801853e-07,4.318509665040556e-07,1.4395032216801853e-07,1.4395032216801853e-07,1.4395032216801853e-07,2.8790064433603707e-07,1.4395032216801853e-07,2.8790064433603707e-07,1.4395032216801853e-07,2.8790064433603707e-07,2.8790064433603707e-07,5.758012886720741e-07,2.8790064433603707e-07,1.4395032216801853e-07,1.4395032216801853e-07,4.318509665040556e-07,1.4395032216801853e-07,1.4395032216801853e-07,2.8790064433603707e-07,1.4395032216801853e-07,1.4395032216801853e-07,2.8790064433603707e-07,1.4395032216801853e-07,1.4395032216801853e-07,1.4395032216801853e-07,4.318509665040556e-07,1.4395032216801853e-07,2.8790064433603707e-07,4.318509665040556e-07,1.4395032216801853e-07,4.318509665040556e-07,1.4395032216801853e-07,1.4395032216801853e-07,1.4395032216801853e-07,1.4395032216801853e-07,1.4395032216801853e-07,1.4395032216801853e-07,1.4395032216801853e-07,1.4395032216801853e-07,1.4395032216801853e-07,1.4395032216801853e-07,2.8790064433603707e-07,2.8790064433603707e-07,2.8790064433603707e-07,4.318509665040556e-07,1.4395032216801853e-07,1.4395032216801853e-07,1.4395032216801853e-07,5.758012886720741e-07,5.758012886720741e-07,1.4395032216801853e-07,2.8790064433603707e-07,4.318509665040556e-07,4.318509665040556e-07,2.8790064433603707e-07,2.8790064433603707e-07,1.4395032216801853e-07,1.4395032216801853e-07,1.4395032216801853e-07,5.758012886720741e-07,2.8790064433603707e-07,1.4395032216801853e-07,2.8790064433603707e-07,1.4395032216801853e-07,1.4395032216801853e-07,8.637019330081112e-07,2.8790064433603707e-07,1.4395032216801853e-07,4.318509665040556e-07,5.758012886720741e-07,1.4395032216801853e-07,1.4395032216801853e-07,1.4395032216801853e-07,2.8790064433603707e-07,2.8790064433603707e-07,4.318509665040556e-07,2.8790064433603707e-07,2.8790064433603707e-07,2.8790064433603707e-07,2.8790064433603707e-07,4.318509665040556e-07,1.4395032216801853e-07,1.4395032216801853e-07,2.8790064433603707e-07,1.4395032216801853e-07,1.4395032216801853e-07,4.318509665040556e-07,1.4395032216801853e-07,4.318509665040556e-07,1.4395032216801853e-07,1.4395032216801853e-07,2.8790064433603707e-07,1.4395032216801853e-07,2.8790064433603707e-07,1.4395032216801853e-07,1.4395032216801853e-07,4.318509665040556e-07,2.8790064433603707e-07,2.8790064433603707e-07,1.4395032216801853e-07,2.8790064433603707e-07,1.4395032216801853e-07,4.318509665040556e-07,1.4395032216801853e-07,4.318509665040556e-07,1.4395032216801853e-07,2.8790064433603707e-07,1.4395032216801853e-07,1.4395032216801853e-07,2.8790064433603707e-07,1.4395032216801853e-07,4.318509665040556e-07,2.8790064433603707e-07,2.8790064433603707e-07,2.8790064433603707e-07,4.318509665040556e-07,2.8790064433603707e-07,1.4395032216801853e-07,4.318509665040556e-07,8.637019330081112e-07,1.4395032216801853e-07,7.197516108400927e-07,8.637019330081112e-07,4.318509665040556e-07,1.4395032216801853e-07,5.758012886720741e-07,2.8790064433603707e-07,4.318509665040556e-07,2.8790064433603707e-07,4.318509665040556e-07,1.4395032216801853e-07,1.4395032216801853e-07,2.8790064433603707e-07,7.197516108400927e-07,1.4395032216801853e-07,1.4395032216801853e-07,2.8790064433603707e-07,7.197516108400927e-07,4.318509665040556e-07,5.758012886720741e-07,7.197516108400927e-07,1.4395032216801853e-07,4.318509665040556e-07,8.637019330081112e-07,2.8790064433603707e-07,4.318509665040556e-07,7.197516108400927e-07,1.4395032216801853e-07,7.197516108400927e-07,4.318509665040556e-07,4.318509665040556e-07,8.637019330081112e-07,5.758012886720741e-07,5.758012886720741e-07,2.8790064433603707e-07,8.637019330081112e-07,1.2955528995121668e-06,8.637019330081112e-07,1.0076522551761297e-06,1.1516025773441483e-06,1.871354188184241e-06,1.871354188184241e-06,1.5834535438482039e-06,1.871354188184241e-06,3.1669070876964077e-06,4.89431095371263e-06,0.0001328661473610811,0.028224771518449897,0.04199808229380808,0.030732674031261117,0.026606194095992696,0.02448379054594743,0.022867660278967087,0.021244620396522678,0.020250211570986006,0.018106647323582043,0.016912147550231824,0.01625357482631314,0.015767166687707404,0.015125580101804547,0.01490591191017615,0.014955574771324117,0.013516503400610436,0.013152740936491852,0.013025057000728821,0.012696562365541402,0.012480061081000702,0.01217287109349415,0.011901092885240931,0.011455566638130915,0.011113252772015367,0.011076257539218185,0.010759422880126377,0.010685864265498519,0.010746323400809088,0.010433519350737983,0.010058240860845958,0.010097539298797828,0.009870961491705367,0.00948272747281822,0.009266801989566193,0.008917146657020076,0.008415191883620195,0.008232662875111148,0.008053300773689797,0.007897546525104,0.007573370399581622,0.007470014068264985,0.00742466971678206,0.0071066834551129065,0.006874923436422397,0.00674464839486034,0.006617828161030316,0.006501948151685061,0.0063032967070931955,0.0062205252718465845,0.0060857877702973195,0.005836177911657975,0.005745201308047787,0.0056748096005076265,0.005609312203921178,0.0055677105608146205,0.005390219813581454,0.005169543969697881,0.005135427743344061,0.00506647553902558,0.005017676379810622,0.004874157908609108,0.004806933108156643,0.0047038646774843415,0.0045076603883693325,0.004373066837142235,0.004346148126896815,0.004278491475477847,0.004173119839650857,0.004107622443064409,0.004070915110911564,0.003938048963550483,0.0038037433129677217,0.0037788399072326544,0.003798417151047505,0.0036782186320372095,0.0036485648656705977,0.003638056492152332,0.003466179807483718,0.003340799076875374,0.003286817706062367,0.0032519817280977064,0.003241617304901609,0.003162732528353535,0.0030962274795119107,0.0030911892182360298,0.0030159031997421563,0.0029231991922659523,0.002859141298901184,0.0028382685021868213,0.002819842860949315,0.0028309270357562526,0.0026940302793744667,0.0026101072415505118,0.002586499388714957,0.0025710967042429787,0.0025205701411620046,0.002453633241353876,0.0024907724244732244,0.002392742255076804,0.00234509469843919,0.0023404882881298134,0.002259588207071387,0.0022502314361304656,0.0022823323579739337,0.002204599184003204,0.002107576666861959,0.0020570501037809846,0.002042942972208519,0.002019191169050796,0.0019767258240112303,0.001982915687864455,0.0019876660484959997,0.0019308056712396325,0.0017815291871513973,0.0018231308302579547,0.0017753393232981724,0.0017423746995216963,0.0017452537059650566,0.001747556911119745,0.0017095540260673881,0.0016493827914011562,0.0015990001786423498,0.0015473220129840312,0.0015743846735516186,0.0015087433266430022,0.001562292846489505,0.0015317753781898852,0.0014914692879828399,0.0014199259778653348,0.0013917117147204032,0.0014356165629816487,0.001376021129604089,0.0014337452087934644,0.0013604744948099432,0.001282741320839213,0.0013017427633653916,0.0012559665609159618,0.0012566863125268017,0.0012591334680036581,0.0012756877550529802,0.0012381167209671274,0.0011664294605274541,0.0011540497328210045,0.0011231004135548806,0.001119213754856344,0.0010771802607832826,0.0010905676407449083,0.001095461951698621,0.001033563313166373,0.0010348588660658853,0.0009961362294026881,0.00102435049254762,0.0009994470868125527,0.0009833246507297345,0.0009499281759867543,0.0009574135927394912,0.0009447459643887056,0.0009447459643887056,0.0009034322219264843,0.0009336617895817681,0.0009220018134861586,0.0009186909560762942,0.0008421093846829084,0.0008573681188327184,0.0008206607866798737,0.0008408138317833962,0.0008418214840385723,0.0008094326615507682,0.0008028109467310393,0.0008015153938315272,0.0007413441591652954,0.0007599137507249698,0.0007666794158668667,0.0007758922364856199,0.0007630806578126662,0.0007162968031080601,0.0007109706411878435,0.0006978711618705538,0.0006955679567158655,0.0007114024921543475,0.0006895220431848087,0.0007026215225020984,0.0006866430367414483,0.0006715282529138064,0.0006459050955678991,0.0006176908324229675,0.0006182666337116396,0.0006198500872554878,0.0006332374672171136,0.0005775286925380904,0.0006045913531056779,0.000590196320888876,0.0005687477228858412,0.0005756573383499061,0.0005786802951154345,0.0005758012886720741,0.0005382302545862212,0.0005313206391221564,0.0005265702784906117,0.0005010910714668725,0.0005139026501398262,0.000496772561801832,0.0005215320172147312,0.0004989318166343522,0.0004927419527811274,0.0004800743244303418,0.0004754679141209652,0.0004532995645070903,0.0004721570567111008,0.0004366013271356002,0.00045747412384996287,0.00044178353873364885,0.0004311312148932155,0.0004557467199839467,0.0004488371045198818,0.0004406319361563047,0.00041299347430004516,0.0004063717594803163,0.00038348365825560134,0.0003916888266191784,0.00036261086154123866,0.0003608834576752225,0.0003892416711423221,0.0003830518072890973,0.0003751345395698563,0.0003446170712702364,0.00033238129388595477,0.0003568528486545179,0.00033281314485245886,0.00033756350548400343,0.00033194944291945074,0.0003223047713341935,0.00032043341714600926,0.00032216082101202545,0.0003050307326740313,0.0003200015661795052,0.0003207213177903453,0.00030718998750655155,0.00028343818434882847,0.00027768017146210773,0.00028790064433603706,0.0002867490417586929,0.00026386094053397794,0.00028444583660400464,0.00028790064433603706,0.0002629972386009699,0.0002658762450443302,0.00024500344832996754,0.00025220096443836847,0.00027839992307294786,0.0002570952753920811,0.0002569513250699131,0.0002447155476856315,0.00022744150902546928,0.00022326694968259674,0.0002306084161131657,0.00023435112448953415,0.000240828888987095,0.0002307523664353337,0.0002369422302885585,0.00021966819162839627,0.00021247067551999536,0.00022398670129343684,0.00020426550715641828,0.00022182744646091657,0.00020728846392194667,0.0001996590968470417,0.00021621338389636382,0.00019663614008151332,0.00018152135625387137,0.00020153045103522594,0.0001802258033543592,0.00021391017874167553,0.00020714451359977865,0.00018440036269723174,0.00017461174078980648,0.00019145392848346463,0.00017446779046763846,0.0001779225981996709,0.00018684751817408805,0.00015820140406265235,0.0001772028465888308,0.00015287524214243568,0.00017000533048042987,0.0001701492808025979,0.00016323966533853302,0.0001662626221040614,0.0001592090563178285,0.0001499962356990753,0.00015863325502915641,0.0001453898253896987,0.00015014018602124333,0.0001544586956862839,0.00016021670857300463,0.00016050460921734067,0.0001772028465888308,0.00015834535438482037,0.00015489054665278793,0.00014956438473257125,0.00014150316669116222,0.00014323057055717843,0.00013934391185864192,0.000147549080222219,0.00014006366346948202,0.0001383362596034658,0.00013876811056996987,0.00014222291830200232,0.00016122436082818074,0.00015575424858579604,0.00013848020992563383,0.0001389120608921379,0.00015561029826362802,0.00015057203698774739,0.00015014018602124333,0.0001653989201710533,0.000186559617529752,0.00014942043441040323,0.00016640657242622943,0.00016338361566070104,0.0001671263240370695,0.00016381546662720507,0.0001715887840242781,0.00015719375180747624,0.00011458445644574275,8.262748492444264e-05,7.399046559436153e-05,6.175468821007995e-05,5.326161920216685e-05,5.311766887999884e-05,4.879915921495828e-05,4.102584181788528e-05,3.929843795186906e-05,3.166907087696408e-05,3.210092184346813e-05,3.238882248780417e-05,2.7206610889755502e-05,3.238882248780417e-05,3.238882248780417e-05,2.9653766366611815e-05,2.346390251338702e-05,2.461550509073117e-05,2.5767107668075318e-05,2.461550509073117e-05,3.080536894395597e-05,2.735056121192352e-05,2.9221915400107763e-05,2.5767107668075318e-05,2.6630809601083426e-05,3.2532772809972184e-05,2.2888101224714945e-05,2.1016747036530705e-05,1.9145392848346464e-05,2.7926362500595595e-05,2.5767107668075318e-05,2.6630809601083426e-05,2.0872796714362685e-05,2.2312299936042873e-05,1.7274038660162224e-05,1.8281690915338352e-05,1.8137740593170336e-05,2.0296995425690613e-05,1.5258734149809964e-05,1.6986138015826188e-05,9.356770940921204e-06,1.0940224484769408e-05,1.4251081894633833e-05,1.1803926417777519e-05,1.0364423196097334e-05,1.1803926417777519e-05,7.629367074904982e-06,1.1803926417777519e-05,1.0076522551761296e-05,1.079627416260139e-05,7.773317397073e-06,5.614062564552722e-06,7.485416752736964e-06,8.78096965224913e-06,6.1898638532247965e-06,7.341466430568945e-06,7.629367074904982e-06,6.9096154640648896e-06,7.91726771924102e-06,8.205168363577056e-06,4.606410309376593e-06,7.773317397073e-06,7.053565786232908e-06,8.205168363577056e-06,7.773317397073e-06,5.758012886720741e-06,4.606410309376593e-06,3.4548077320324448e-06,4.750360631544611e-06,5.038261275880648e-06,5.614062564552722e-06,8.349118685745074e-06,4.174559342872537e-06,6.045913531056778e-06,3.742708376368482e-06,4.174559342872537e-06,4.462459987208574e-06,5.182211598048667e-06,4.318509665040556e-06,4.030609020704519e-06,3.8866586985365e-06,4.606410309376593e-06,4.030609020704519e-06,4.750360631544611e-06,4.750360631544611e-06,5.614062564552722e-06,3.4548077320324448e-06,2.3032051546882965e-06,2.735056121192352e-06,2.3032051546882965e-06,2.447155476856315e-06,3.3108574098644263e-06,3.742708376368482e-06,3.742708376368482e-06,3.742708376368482e-06,2.159254832520278e-06,2.5911057990243336e-06,2.5911057990243336e-06,3.3108574098644263e-06,1.1516025773441483e-06,2.3032051546882965e-06,2.447155476856315e-06,2.3032051546882965e-06,2.5911057990243336e-06,1.7274038660162224e-06,3.1669070876964077e-06,1.7274038660162224e-06,2.0153045103522595e-06,1.2955528995121668e-06,1.4395032216801853e-06,2.159254832520278e-06,2.8790064433603707e-06,2.447155476856315e-06,1.871354188184241e-06,2.5911057990243336e-06,1.7274038660162224e-06,2.3032051546882965e-06,1.5834535438482039e-06,2.735056121192352e-06,1.4395032216801853e-06,1.7274038660162224e-06,1.5834535438482039e-06,5.758012886720741e-07,2.0153045103522595e-06,1.2955528995121668e-06,1.5834535438482039e-06,1.2955528995121668e-06,1.2955528995121668e-06,4.318509665040556e-07,1.0076522551761297e-06,1.2955528995121668e-06,8.637019330081112e-07,2.159254832520278e-06,1.7274038660162224e-06,8.637019330081112e-07,1.2955528995121668e-06,8.637019330081112e-07,4.318509665040556e-07,1.2955528995121668e-06,2.0153045103522595e-06,2.3032051546882965e-06,1.2955528995121668e-06,3.1669070876964077e-06,1.2955528995121668e-06,1.871354188184241e-06,4.318509665040556e-07,4.318509665040556e-07,1.871354188184241e-06,1.4395032216801853e-06,7.197516108400927e-07,1.2955528995121668e-06,1.1516025773441483e-06,7.197516108400927e-07,1.1516025773441483e-06,5.758012886720741e-07,1.0076522551761297e-06,5.758012886720741e-07,1.0076522551761297e-06,5.758012886720741e-07,5.758012886720741e-07,1.0076522551761297e-06,8.637019330081112e-07,2.8790064433603707e-07,1.1516025773441483e-06,7.197516108400927e-07,7.197516108400927e-07,8.637019330081112e-07,1.2955528995121668e-06,1.0076522551761297e-06,5.758012886720741e-07,1.4395032216801853e-06,1.4395032216801853e-06,1.0076522551761297e-06,1.871354188184241e-06,2.0153045103522595e-06,5.758012886720741e-07,1.4395032216801853e-07,1.4395032216801853e-07,1.4395032216801853e-07],\"type\":\"scatter\"}],                        {\"xaxis\":{\"automargin\":true,\"tickangle\":45,\"title\":{\"text\":\"Days between search and checking time\"}},\"yaxis\":{\"title\":{\"text\":\"Frequency\"}},\"template\":{\"data\":{\"histogram2dcontour\":[{\"type\":\"histogram2dcontour\",\"colorbar\":{\"outlinewidth\":0,\"ticks\":\"\"},\"colorscale\":[[0.0,\"#0d0887\"],[0.1111111111111111,\"#46039f\"],[0.2222222222222222,\"#7201a8\"],[0.3333333333333333,\"#9c179e\"],[0.4444444444444444,\"#bd3786\"],[0.5555555555555556,\"#d8576b\"],[0.6666666666666666,\"#ed7953\"],[0.7777777777777778,\"#fb9f3a\"],[0.8888888888888888,\"#fdca26\"],[1.0,\"#f0f921\"]]}],\"choropleth\":[{\"type\":\"choropleth\",\"colorbar\":{\"outlinewidth\":0,\"ticks\":\"\"}}],\"histogram2d\":[{\"type\":\"histogram2d\",\"colorbar\":{\"outlinewidth\":0,\"ticks\":\"\"},\"colorscale\":[[0.0,\"#0d0887\"],[0.1111111111111111,\"#46039f\"],[0.2222222222222222,\"#7201a8\"],[0.3333333333333333,\"#9c179e\"],[0.4444444444444444,\"#bd3786\"],[0.5555555555555556,\"#d8576b\"],[0.6666666666666666,\"#ed7953\"],[0.7777777777777778,\"#fb9f3a\"],[0.8888888888888888,\"#fdca26\"],[1.0,\"#f0f921\"]]}],\"heatmap\":[{\"type\":\"heatmap\",\"colorbar\":{\"outlinewidth\":0,\"ticks\":\"\"},\"colorscale\":[[0.0,\"#0d0887\"],[0.1111111111111111,\"#46039f\"],[0.2222222222222222,\"#7201a8\"],[0.3333333333333333,\"#9c179e\"],[0.4444444444444444,\"#bd3786\"],[0.5555555555555556,\"#d8576b\"],[0.6666666666666666,\"#ed7953\"],[0.7777777777777778,\"#fb9f3a\"],[0.8888888888888888,\"#fdca26\"],[1.0,\"#f0f921\"]]}],\"heatmapgl\":[{\"type\":\"heatmapgl\",\"colorbar\":{\"outlinewidth\":0,\"ticks\":\"\"},\"colorscale\":[[0.0,\"#0d0887\"],[0.1111111111111111,\"#46039f\"],[0.2222222222222222,\"#7201a8\"],[0.3333333333333333,\"#9c179e\"],[0.4444444444444444,\"#bd3786\"],[0.5555555555555556,\"#d8576b\"],[0.6666666666666666,\"#ed7953\"],[0.7777777777777778,\"#fb9f3a\"],[0.8888888888888888,\"#fdca26\"],[1.0,\"#f0f921\"]]}],\"contourcarpet\":[{\"type\":\"contourcarpet\",\"colorbar\":{\"outlinewidth\":0,\"ticks\":\"\"}}],\"contour\":[{\"type\":\"contour\",\"colorbar\":{\"outlinewidth\":0,\"ticks\":\"\"},\"colorscale\":[[0.0,\"#0d0887\"],[0.1111111111111111,\"#46039f\"],[0.2222222222222222,\"#7201a8\"],[0.3333333333333333,\"#9c179e\"],[0.4444444444444444,\"#bd3786\"],[0.5555555555555556,\"#d8576b\"],[0.6666666666666666,\"#ed7953\"],[0.7777777777777778,\"#fb9f3a\"],[0.8888888888888888,\"#fdca26\"],[1.0,\"#f0f921\"]]}],\"surface\":[{\"type\":\"surface\",\"colorbar\":{\"outlinewidth\":0,\"ticks\":\"\"},\"colorscale\":[[0.0,\"#0d0887\"],[0.1111111111111111,\"#46039f\"],[0.2222222222222222,\"#7201a8\"],[0.3333333333333333,\"#9c179e\"],[0.4444444444444444,\"#bd3786\"],[0.5555555555555556,\"#d8576b\"],[0.6666666666666666,\"#ed7953\"],[0.7777777777777778,\"#fb9f3a\"],[0.8888888888888888,\"#fdca26\"],[1.0,\"#f0f921\"]]}],\"mesh3d\":[{\"type\":\"mesh3d\",\"colorbar\":{\"outlinewidth\":0,\"ticks\":\"\"}}],\"scatter\":[{\"fillpattern\":{\"fillmode\":\"overlay\",\"size\":10,\"solidity\":0.2},\"type\":\"scatter\"}],\"parcoords\":[{\"type\":\"parcoords\",\"line\":{\"colorbar\":{\"outlinewidth\":0,\"ticks\":\"\"}}}],\"scatterpolargl\":[{\"type\":\"scatterpolargl\",\"marker\":{\"colorbar\":{\"outlinewidth\":0,\"ticks\":\"\"}}}],\"bar\":[{\"error_x\":{\"color\":\"#2a3f5f\"},\"error_y\":{\"color\":\"#2a3f5f\"},\"marker\":{\"line\":{\"color\":\"#E5ECF6\",\"width\":0.5},\"pattern\":{\"fillmode\":\"overlay\",\"size\":10,\"solidity\":0.2}},\"type\":\"bar\"}],\"scattergeo\":[{\"type\":\"scattergeo\",\"marker\":{\"colorbar\":{\"outlinewidth\":0,\"ticks\":\"\"}}}],\"scatterpolar\":[{\"type\":\"scatterpolar\",\"marker\":{\"colorbar\":{\"outlinewidth\":0,\"ticks\":\"\"}}}],\"histogram\":[{\"marker\":{\"pattern\":{\"fillmode\":\"overlay\",\"size\":10,\"solidity\":0.2}},\"type\":\"histogram\"}],\"scattergl\":[{\"type\":\"scattergl\",\"marker\":{\"colorbar\":{\"outlinewidth\":0,\"ticks\":\"\"}}}],\"scatter3d\":[{\"type\":\"scatter3d\",\"line\":{\"colorbar\":{\"outlinewidth\":0,\"ticks\":\"\"}},\"marker\":{\"colorbar\":{\"outlinewidth\":0,\"ticks\":\"\"}}}],\"scattermapbox\":[{\"type\":\"scattermapbox\",\"marker\":{\"colorbar\":{\"outlinewidth\":0,\"ticks\":\"\"}}}],\"scatterternary\":[{\"type\":\"scatterternary\",\"marker\":{\"colorbar\":{\"outlinewidth\":0,\"ticks\":\"\"}}}],\"scattercarpet\":[{\"type\":\"scattercarpet\",\"marker\":{\"colorbar\":{\"outlinewidth\":0,\"ticks\":\"\"}}}],\"carpet\":[{\"aaxis\":{\"endlinecolor\":\"#2a3f5f\",\"gridcolor\":\"white\",\"linecolor\":\"white\",\"minorgridcolor\":\"white\",\"startlinecolor\":\"#2a3f5f\"},\"baxis\":{\"endlinecolor\":\"#2a3f5f\",\"gridcolor\":\"white\",\"linecolor\":\"white\",\"minorgridcolor\":\"white\",\"startlinecolor\":\"#2a3f5f\"},\"type\":\"carpet\"}],\"table\":[{\"cells\":{\"fill\":{\"color\":\"#EBF0F8\"},\"line\":{\"color\":\"white\"}},\"header\":{\"fill\":{\"color\":\"#C8D4E3\"},\"line\":{\"color\":\"white\"}},\"type\":\"table\"}],\"barpolar\":[{\"marker\":{\"line\":{\"color\":\"#E5ECF6\",\"width\":0.5},\"pattern\":{\"fillmode\":\"overlay\",\"size\":10,\"solidity\":0.2}},\"type\":\"barpolar\"}],\"pie\":[{\"automargin\":true,\"type\":\"pie\"}]},\"layout\":{\"autotypenumbers\":\"strict\",\"colorway\":[\"#636efa\",\"#EF553B\",\"#00cc96\",\"#ab63fa\",\"#FFA15A\",\"#19d3f3\",\"#FF6692\",\"#B6E880\",\"#FF97FF\",\"#FECB52\"],\"font\":{\"color\":\"#2a3f5f\"},\"hovermode\":\"closest\",\"hoverlabel\":{\"align\":\"left\"},\"paper_bgcolor\":\"white\",\"plot_bgcolor\":\"#E5ECF6\",\"polar\":{\"bgcolor\":\"#E5ECF6\",\"angularaxis\":{\"gridcolor\":\"white\",\"linecolor\":\"white\",\"ticks\":\"\"},\"radialaxis\":{\"gridcolor\":\"white\",\"linecolor\":\"white\",\"ticks\":\"\"}},\"ternary\":{\"bgcolor\":\"#E5ECF6\",\"aaxis\":{\"gridcolor\":\"white\",\"linecolor\":\"white\",\"ticks\":\"\"},\"baxis\":{\"gridcolor\":\"white\",\"linecolor\":\"white\",\"ticks\":\"\"},\"caxis\":{\"gridcolor\":\"white\",\"linecolor\":\"white\",\"ticks\":\"\"}},\"coloraxis\":{\"colorbar\":{\"outlinewidth\":0,\"ticks\":\"\"}},\"colorscale\":{\"sequential\":[[0.0,\"#0d0887\"],[0.1111111111111111,\"#46039f\"],[0.2222222222222222,\"#7201a8\"],[0.3333333333333333,\"#9c179e\"],[0.4444444444444444,\"#bd3786\"],[0.5555555555555556,\"#d8576b\"],[0.6666666666666666,\"#ed7953\"],[0.7777777777777778,\"#fb9f3a\"],[0.8888888888888888,\"#fdca26\"],[1.0,\"#f0f921\"]],\"sequentialminus\":[[0.0,\"#0d0887\"],[0.1111111111111111,\"#46039f\"],[0.2222222222222222,\"#7201a8\"],[0.3333333333333333,\"#9c179e\"],[0.4444444444444444,\"#bd3786\"],[0.5555555555555556,\"#d8576b\"],[0.6666666666666666,\"#ed7953\"],[0.7777777777777778,\"#fb9f3a\"],[0.8888888888888888,\"#fdca26\"],[1.0,\"#f0f921\"]],\"diverging\":[[0,\"#8e0152\"],[0.1,\"#c51b7d\"],[0.2,\"#de77ae\"],[0.3,\"#f1b6da\"],[0.4,\"#fde0ef\"],[0.5,\"#f7f7f7\"],[0.6,\"#e6f5d0\"],[0.7,\"#b8e186\"],[0.8,\"#7fbc41\"],[0.9,\"#4d9221\"],[1,\"#276419\"]]},\"xaxis\":{\"gridcolor\":\"white\",\"linecolor\":\"white\",\"ticks\":\"\",\"title\":{\"standoff\":15},\"zerolinecolor\":\"white\",\"automargin\":true,\"zerolinewidth\":2},\"yaxis\":{\"gridcolor\":\"white\",\"linecolor\":\"white\",\"ticks\":\"\",\"title\":{\"standoff\":15},\"zerolinecolor\":\"white\",\"automargin\":true,\"zerolinewidth\":2},\"scene\":{\"xaxis\":{\"backgroundcolor\":\"#E5ECF6\",\"gridcolor\":\"white\",\"linecolor\":\"white\",\"showbackground\":true,\"ticks\":\"\",\"zerolinecolor\":\"white\",\"gridwidth\":2},\"yaxis\":{\"backgroundcolor\":\"#E5ECF6\",\"gridcolor\":\"white\",\"linecolor\":\"white\",\"showbackground\":true,\"ticks\":\"\",\"zerolinecolor\":\"white\",\"gridwidth\":2},\"zaxis\":{\"backgroundcolor\":\"#E5ECF6\",\"gridcolor\":\"white\",\"linecolor\":\"white\",\"showbackground\":true,\"ticks\":\"\",\"zerolinecolor\":\"white\",\"gridwidth\":2}},\"shapedefaults\":{\"line\":{\"color\":\"#2a3f5f\"}},\"annotationdefaults\":{\"arrowcolor\":\"#2a3f5f\",\"arrowhead\":0,\"arrowwidth\":1},\"geo\":{\"bgcolor\":\"white\",\"landcolor\":\"#E5ECF6\",\"subunitcolor\":\"white\",\"showland\":true,\"showlakes\":true,\"lakecolor\":\"white\"},\"title\":{\"x\":0.05},\"mapbox\":{\"style\":\"light\"}}}},                        {\"responsive\": true}                    ).then(function(){\n",
              "                            \n",
              "var gd = document.getElementById('b766489e-f27b-4dca-bfd9-df62d851f901');\n",
              "var x = new MutationObserver(function (mutations, observer) {{\n",
              "        var display = window.getComputedStyle(gd).display;\n",
              "        if (!display || display === 'none') {{\n",
              "            console.log([gd, 'removed!']);\n",
              "            Plotly.purge(gd);\n",
              "            observer.disconnect();\n",
              "        }}\n",
              "}});\n",
              "\n",
              "// Listen for the removal of the full notebook cells\n",
              "var notebookContainer = gd.closest('#notebook-container');\n",
              "if (notebookContainer) {{\n",
              "    x.observe(notebookContainer, {childList: true});\n",
              "}}\n",
              "\n",
              "// Listen for the clearing of the current output cell\n",
              "var outputEl = gd.closest('.output');\n",
              "if (outputEl) {{\n",
              "    x.observe(outputEl, {childList: true});\n",
              "}}\n",
              "\n",
              "                        })                };                            </script>        </div>\n",
              "</body>\n",
              "</html>"
            ]
          },
          "metadata": {}
        }
      ],
      "source": [
        "trace_is_booked = go.Scatter(y = day_between_is  , name='Not Booked')\n",
        "trace_not_booked = go.Scatter(y = day_between_not , name='Booked', opacity = 0.5)\n",
        "\n",
        "# در ادامه‌ی این قسمت از کد تغییری ایجاد نکنید زیرا نمودار شما توسط سیستم داوری بررسی می‌شود و تغییر در این قسمت ممکن است باعث عدم داوری صحیح شود\n",
        "\n",
        "data = [trace_is_booked, trace_not_booked]\n",
        "\n",
        "layout = go.Layout(\n",
        "    xaxis=dict(title='Days between search and checking time', tickangle=45, automargin=True),\n",
        "    yaxis=dict(title='Frequency')\n",
        ")\n",
        "\n",
        "fig = go.Figure(data=data, layout=layout)\n",
        "fig.show()\n",
        "fig.write_json('./days_between.json')"
      ]
    },
    {
      "cell_type": "markdown",
      "id": "22a296d0-690e-466a-9a8f-dc22d8a8fac1",
      "metadata": {
        "id": "22a296d0-690e-466a-9a8f-dc22d8a8fac1"
      },
      "source": [
        "<h3 align=right style=\"line-height:200%;font-family:vazir;color:#0099cc\">\n",
        "<font face=\"vazir\" color=\"#0099cc\">\n",
        "مصورسازی ۵\n",
        "</font>\n",
        "</h3>\n",
        "\n",
        "<p dir=rtl style=\"direction: rtl; text-align: justify; line-height:200%; font-family:vazir; font-size:medium\">\n",
        "<font face=\"vazir\">\n",
        "همچون نمودار بالا یک نمودار برای مدت اقامت نیز رسم کنید.\n",
        "</font>\n",
        "</p>\n",
        "\n",
        "<p dir=rtl style=\"direction: rtl; text-align: justify; line-height:200%; font-family:vazir; font-size:medium\">\n",
        "<font face=\"vazir\">\n",
        "خروجی نمودار شما باید به‌صورت زیر باشد.\n",
        "</font>\n",
        "</p>\n",
        "\n",
        "<center>\n",
        "<img src = 'https://quera.org/qbox/view/iOh4Yzgkf6/los.png'>\n",
        "</center>"
      ]
    },
    {
      "cell_type": "code",
      "source": [
        "day_duration_is  =  is_booked.groupby(['duration'])['is_booking'].count() / len(is_booked)\n",
        "day_duration_not  = not_booked.groupby(['duration'])['is_booking'].count() / len(not_booked)"
      ],
      "metadata": {
        "id": "jrx2jN8af_2K"
      },
      "id": "jrx2jN8af_2K",
      "execution_count": 54,
      "outputs": []
    },
    {
      "cell_type": "code",
      "execution_count": 55,
      "id": "3e655326-17f0-4f40-9f67-8c425cc73ffe",
      "metadata": {
        "id": "3e655326-17f0-4f40-9f67-8c425cc73ffe",
        "colab": {
          "base_uri": "https://localhost:8080/",
          "height": 542
        },
        "outputId": "67b1e187-d745-4af4-f651-4a217f683d60"
      },
      "outputs": [
        {
          "output_type": "display_data",
          "data": {
            "text/html": [
              "<html>\n",
              "<head><meta charset=\"utf-8\" /></head>\n",
              "<body>\n",
              "    <div>            <script src=\"https://cdnjs.cloudflare.com/ajax/libs/mathjax/2.7.5/MathJax.js?config=TeX-AMS-MML_SVG\"></script><script type=\"text/javascript\">if (window.MathJax && window.MathJax.Hub && window.MathJax.Hub.Config) {window.MathJax.Hub.Config({SVG: {font: \"STIX-Web\"}});}</script>                <script type=\"text/javascript\">window.PlotlyConfig = {MathJaxConfig: 'local'};</script>\n",
              "        <script charset=\"utf-8\" src=\"https://cdn.plot.ly/plotly-2.24.1.min.js\"></script>                <div id=\"a8ebfee6-af49-4e40-838f-840adf089926\" class=\"plotly-graph-div\" style=\"height:525px; width:100%;\"></div>            <script type=\"text/javascript\">                                    window.PLOTLYENV=window.PLOTLYENV || {};                                    if (document.getElementById(\"a8ebfee6-af49-4e40-838f-840adf089926\")) {                    Plotly.newPlot(                        \"a8ebfee6-af49-4e40-838f-840adf089926\",                        [{\"name\":\"Booked\",\"y\":[0.43093098764555415,0.22446050339418644,0.14472696176119976,0.08568337747613947,0.044226408024572915,0.023844669699501563,0.023492635227319085,0.007432006732470421,0.004302979299466509,0.003382854863590419,0.0017390200750301797,0.0012721589080585676,0.0010470381511693437,0.0015562038899053737,0.0004532632689044778,0.0002719579613426867,0.0002160554915111344,0.00014655512361244781,0.00012691371529325378,0.00014806600117546275,0.0001797944299987762,4.834808201647763e-05,3.021755126029852e-05,4.9858959579492555e-05,4.834808201647763e-05,3.626106151235822e-05,4.0793694201403e-05,0.00010273967428501497,1.510877563014926e-06,1.510877563014926e-06],\"type\":\"scatter\"},{\"name\":\"Not Booked\",\"opacity\":0.5,\"y\":[0.004578771847520333,0.25929829112254044,0.20371691247863596,0.1759753821917041,0.12360150462634743,0.07102163414996832,0.04835420876913694,0.056060589266401804,0.017280228524015447,0.010560771435534511,0.008098501174850555,0.003975188146669832,0.0027703239501235166,0.0031355259174637795,0.004954194287734526,0.0012952649988678306,0.0007819381500166766,0.0005249868249467635,0.00038132440342308107,0.0003876582175984739,0.00046395188834752373,0.0005808395499479548,0.00021160697358698724,0.00015244339117593162,0.0001561860995523001,0.000194188984604657,0.00019562848782633718,0.00013776045831479373,0.000342025965471212,8.23395842801066e-05,0.00010738694033734182,0.00010076522551761297,8.766574620032329e-05,6.765665141896871e-05,4.89431095371263e-05,4.635200373810196e-05,2.9221915400107763e-05,1.7130088337994204e-05,1.3387379961625723e-05,1.2091827062113557e-05,9.356770940921204e-06,7.485416752736964e-06,1.0940224484769408e-05,6.9096154640648896e-06,7.91726771924102e-06,5.758012886720741e-06,4.462459987208574e-06,3.8866586985365e-06,5.326161920216685e-06,5.038261275880648e-06,5.038261275880648e-06,4.89431095371263e-06,3.8866586985365e-06,3.5987580542004633e-06,2.5911057990243336e-06,3.4548077320324448e-06,5.758012886720741e-06,3.742708376368482e-06,4.030609020704519e-06,8.205168363577056e-06,2.274415090254693e-05,1.065232384043337e-05,2.8790064433603707e-06,1.871354188184241e-06,1.2955528995121668e-06,7.197516108400927e-07,4.318509665040556e-07,4.318509665040556e-07,1.4395032216801853e-07,2.8790064433603707e-07,4.318509665040556e-07,5.758012886720741e-07,1.4395032216801853e-07,1.4395032216801853e-07,2.8790064433603707e-07,1.4395032216801853e-07,2.8790064433603707e-07,7.197516108400927e-07,2.8790064433603707e-07,2.8790064433603707e-07,1.4395032216801853e-07,2.8790064433603707e-07,1.4395032216801853e-07,1.4395032216801853e-07,4.318509665040556e-07,4.318509665040556e-07,1.7274038660162224e-06,1.1516025773441483e-06,2.447155476856315e-06,6.3338141753928154e-06,7.197516108400927e-07,1.4395032216801853e-06,5.758012886720741e-07,1.4395032216801853e-07,1.4395032216801853e-07,4.318509665040556e-07,4.318509665040556e-07,1.4395032216801853e-07,1.4395032216801853e-07,1.4395032216801853e-07,2.8790064433603707e-07,1.4395032216801853e-07,1.4395032216801853e-07,4.318509665040556e-07,2.8790064433603707e-07,1.4395032216801853e-07,1.1516025773441483e-06,1.4395032216801853e-07,2.8790064433603707e-06,1.0076522551761297e-06,2.8790064433603707e-07,1.4395032216801853e-07,1.4395032216801853e-07,4.318509665040556e-07,1.4395032216801853e-07,2.8790064433603707e-07,1.4395032216801853e-07,1.4395032216801853e-07,1.4395032216801853e-07,2.8790064433603707e-07,1.4395032216801853e-07,4.318509665040556e-07,4.318509665040556e-07,1.4395032216801853e-07,2.3032051546882965e-06,8.637019330081112e-07,1.4395032216801853e-07,1.4395032216801853e-07,2.8790064433603707e-07,4.318509665040556e-07,2.8790064433603707e-07,1.4395032216801853e-07,1.4395032216801853e-07,1.4395032216801853e-07,1.4395032216801853e-07,1.4395032216801853e-07,1.4395032216801853e-07,8.637019330081112e-07,1.4395032216801853e-07,1.4395032216801853e-07,1.4395032216801853e-07,1.4395032216801853e-07,2.8790064433603707e-07,1.4395032216801853e-07,1.4395032216801853e-07,2.8790064433603707e-07,2.8790064433603707e-07,1.4395032216801853e-07,1.4395032216801853e-07,1.4395032216801853e-07,5.758012886720741e-07,1.1516025773441483e-06,1.4395032216801853e-07,1.4395032216801853e-07,1.4395032216801853e-07,1.4395032216801853e-07,1.4395032216801853e-07,2.8790064433603707e-07,4.318509665040556e-07,2.8790064433603707e-07,1.4395032216801853e-07,1.4395032216801853e-07,1.4395032216801853e-07,4.318509665040556e-07,1.4395032216801853e-07,1.4395032216801853e-07,1.4395032216801853e-07,1.4395032216801853e-07,1.0076522551761297e-06,1.4395032216801853e-07,1.4395032216801853e-07,1.4395032216801853e-07],\"type\":\"scatter\"}],                        {\"xaxis\":{\"automargin\":true,\"tickangle\":45,\"title\":{\"text\":\"Length of Stay\"}},\"yaxis\":{\"title\":{\"text\":\"Frequency\"}},\"template\":{\"data\":{\"histogram2dcontour\":[{\"type\":\"histogram2dcontour\",\"colorbar\":{\"outlinewidth\":0,\"ticks\":\"\"},\"colorscale\":[[0.0,\"#0d0887\"],[0.1111111111111111,\"#46039f\"],[0.2222222222222222,\"#7201a8\"],[0.3333333333333333,\"#9c179e\"],[0.4444444444444444,\"#bd3786\"],[0.5555555555555556,\"#d8576b\"],[0.6666666666666666,\"#ed7953\"],[0.7777777777777778,\"#fb9f3a\"],[0.8888888888888888,\"#fdca26\"],[1.0,\"#f0f921\"]]}],\"choropleth\":[{\"type\":\"choropleth\",\"colorbar\":{\"outlinewidth\":0,\"ticks\":\"\"}}],\"histogram2d\":[{\"type\":\"histogram2d\",\"colorbar\":{\"outlinewidth\":0,\"ticks\":\"\"},\"colorscale\":[[0.0,\"#0d0887\"],[0.1111111111111111,\"#46039f\"],[0.2222222222222222,\"#7201a8\"],[0.3333333333333333,\"#9c179e\"],[0.4444444444444444,\"#bd3786\"],[0.5555555555555556,\"#d8576b\"],[0.6666666666666666,\"#ed7953\"],[0.7777777777777778,\"#fb9f3a\"],[0.8888888888888888,\"#fdca26\"],[1.0,\"#f0f921\"]]}],\"heatmap\":[{\"type\":\"heatmap\",\"colorbar\":{\"outlinewidth\":0,\"ticks\":\"\"},\"colorscale\":[[0.0,\"#0d0887\"],[0.1111111111111111,\"#46039f\"],[0.2222222222222222,\"#7201a8\"],[0.3333333333333333,\"#9c179e\"],[0.4444444444444444,\"#bd3786\"],[0.5555555555555556,\"#d8576b\"],[0.6666666666666666,\"#ed7953\"],[0.7777777777777778,\"#fb9f3a\"],[0.8888888888888888,\"#fdca26\"],[1.0,\"#f0f921\"]]}],\"heatmapgl\":[{\"type\":\"heatmapgl\",\"colorbar\":{\"outlinewidth\":0,\"ticks\":\"\"},\"colorscale\":[[0.0,\"#0d0887\"],[0.1111111111111111,\"#46039f\"],[0.2222222222222222,\"#7201a8\"],[0.3333333333333333,\"#9c179e\"],[0.4444444444444444,\"#bd3786\"],[0.5555555555555556,\"#d8576b\"],[0.6666666666666666,\"#ed7953\"],[0.7777777777777778,\"#fb9f3a\"],[0.8888888888888888,\"#fdca26\"],[1.0,\"#f0f921\"]]}],\"contourcarpet\":[{\"type\":\"contourcarpet\",\"colorbar\":{\"outlinewidth\":0,\"ticks\":\"\"}}],\"contour\":[{\"type\":\"contour\",\"colorbar\":{\"outlinewidth\":0,\"ticks\":\"\"},\"colorscale\":[[0.0,\"#0d0887\"],[0.1111111111111111,\"#46039f\"],[0.2222222222222222,\"#7201a8\"],[0.3333333333333333,\"#9c179e\"],[0.4444444444444444,\"#bd3786\"],[0.5555555555555556,\"#d8576b\"],[0.6666666666666666,\"#ed7953\"],[0.7777777777777778,\"#fb9f3a\"],[0.8888888888888888,\"#fdca26\"],[1.0,\"#f0f921\"]]}],\"surface\":[{\"type\":\"surface\",\"colorbar\":{\"outlinewidth\":0,\"ticks\":\"\"},\"colorscale\":[[0.0,\"#0d0887\"],[0.1111111111111111,\"#46039f\"],[0.2222222222222222,\"#7201a8\"],[0.3333333333333333,\"#9c179e\"],[0.4444444444444444,\"#bd3786\"],[0.5555555555555556,\"#d8576b\"],[0.6666666666666666,\"#ed7953\"],[0.7777777777777778,\"#fb9f3a\"],[0.8888888888888888,\"#fdca26\"],[1.0,\"#f0f921\"]]}],\"mesh3d\":[{\"type\":\"mesh3d\",\"colorbar\":{\"outlinewidth\":0,\"ticks\":\"\"}}],\"scatter\":[{\"fillpattern\":{\"fillmode\":\"overlay\",\"size\":10,\"solidity\":0.2},\"type\":\"scatter\"}],\"parcoords\":[{\"type\":\"parcoords\",\"line\":{\"colorbar\":{\"outlinewidth\":0,\"ticks\":\"\"}}}],\"scatterpolargl\":[{\"type\":\"scatterpolargl\",\"marker\":{\"colorbar\":{\"outlinewidth\":0,\"ticks\":\"\"}}}],\"bar\":[{\"error_x\":{\"color\":\"#2a3f5f\"},\"error_y\":{\"color\":\"#2a3f5f\"},\"marker\":{\"line\":{\"color\":\"#E5ECF6\",\"width\":0.5},\"pattern\":{\"fillmode\":\"overlay\",\"size\":10,\"solidity\":0.2}},\"type\":\"bar\"}],\"scattergeo\":[{\"type\":\"scattergeo\",\"marker\":{\"colorbar\":{\"outlinewidth\":0,\"ticks\":\"\"}}}],\"scatterpolar\":[{\"type\":\"scatterpolar\",\"marker\":{\"colorbar\":{\"outlinewidth\":0,\"ticks\":\"\"}}}],\"histogram\":[{\"marker\":{\"pattern\":{\"fillmode\":\"overlay\",\"size\":10,\"solidity\":0.2}},\"type\":\"histogram\"}],\"scattergl\":[{\"type\":\"scattergl\",\"marker\":{\"colorbar\":{\"outlinewidth\":0,\"ticks\":\"\"}}}],\"scatter3d\":[{\"type\":\"scatter3d\",\"line\":{\"colorbar\":{\"outlinewidth\":0,\"ticks\":\"\"}},\"marker\":{\"colorbar\":{\"outlinewidth\":0,\"ticks\":\"\"}}}],\"scattermapbox\":[{\"type\":\"scattermapbox\",\"marker\":{\"colorbar\":{\"outlinewidth\":0,\"ticks\":\"\"}}}],\"scatterternary\":[{\"type\":\"scatterternary\",\"marker\":{\"colorbar\":{\"outlinewidth\":0,\"ticks\":\"\"}}}],\"scattercarpet\":[{\"type\":\"scattercarpet\",\"marker\":{\"colorbar\":{\"outlinewidth\":0,\"ticks\":\"\"}}}],\"carpet\":[{\"aaxis\":{\"endlinecolor\":\"#2a3f5f\",\"gridcolor\":\"white\",\"linecolor\":\"white\",\"minorgridcolor\":\"white\",\"startlinecolor\":\"#2a3f5f\"},\"baxis\":{\"endlinecolor\":\"#2a3f5f\",\"gridcolor\":\"white\",\"linecolor\":\"white\",\"minorgridcolor\":\"white\",\"startlinecolor\":\"#2a3f5f\"},\"type\":\"carpet\"}],\"table\":[{\"cells\":{\"fill\":{\"color\":\"#EBF0F8\"},\"line\":{\"color\":\"white\"}},\"header\":{\"fill\":{\"color\":\"#C8D4E3\"},\"line\":{\"color\":\"white\"}},\"type\":\"table\"}],\"barpolar\":[{\"marker\":{\"line\":{\"color\":\"#E5ECF6\",\"width\":0.5},\"pattern\":{\"fillmode\":\"overlay\",\"size\":10,\"solidity\":0.2}},\"type\":\"barpolar\"}],\"pie\":[{\"automargin\":true,\"type\":\"pie\"}]},\"layout\":{\"autotypenumbers\":\"strict\",\"colorway\":[\"#636efa\",\"#EF553B\",\"#00cc96\",\"#ab63fa\",\"#FFA15A\",\"#19d3f3\",\"#FF6692\",\"#B6E880\",\"#FF97FF\",\"#FECB52\"],\"font\":{\"color\":\"#2a3f5f\"},\"hovermode\":\"closest\",\"hoverlabel\":{\"align\":\"left\"},\"paper_bgcolor\":\"white\",\"plot_bgcolor\":\"#E5ECF6\",\"polar\":{\"bgcolor\":\"#E5ECF6\",\"angularaxis\":{\"gridcolor\":\"white\",\"linecolor\":\"white\",\"ticks\":\"\"},\"radialaxis\":{\"gridcolor\":\"white\",\"linecolor\":\"white\",\"ticks\":\"\"}},\"ternary\":{\"bgcolor\":\"#E5ECF6\",\"aaxis\":{\"gridcolor\":\"white\",\"linecolor\":\"white\",\"ticks\":\"\"},\"baxis\":{\"gridcolor\":\"white\",\"linecolor\":\"white\",\"ticks\":\"\"},\"caxis\":{\"gridcolor\":\"white\",\"linecolor\":\"white\",\"ticks\":\"\"}},\"coloraxis\":{\"colorbar\":{\"outlinewidth\":0,\"ticks\":\"\"}},\"colorscale\":{\"sequential\":[[0.0,\"#0d0887\"],[0.1111111111111111,\"#46039f\"],[0.2222222222222222,\"#7201a8\"],[0.3333333333333333,\"#9c179e\"],[0.4444444444444444,\"#bd3786\"],[0.5555555555555556,\"#d8576b\"],[0.6666666666666666,\"#ed7953\"],[0.7777777777777778,\"#fb9f3a\"],[0.8888888888888888,\"#fdca26\"],[1.0,\"#f0f921\"]],\"sequentialminus\":[[0.0,\"#0d0887\"],[0.1111111111111111,\"#46039f\"],[0.2222222222222222,\"#7201a8\"],[0.3333333333333333,\"#9c179e\"],[0.4444444444444444,\"#bd3786\"],[0.5555555555555556,\"#d8576b\"],[0.6666666666666666,\"#ed7953\"],[0.7777777777777778,\"#fb9f3a\"],[0.8888888888888888,\"#fdca26\"],[1.0,\"#f0f921\"]],\"diverging\":[[0,\"#8e0152\"],[0.1,\"#c51b7d\"],[0.2,\"#de77ae\"],[0.3,\"#f1b6da\"],[0.4,\"#fde0ef\"],[0.5,\"#f7f7f7\"],[0.6,\"#e6f5d0\"],[0.7,\"#b8e186\"],[0.8,\"#7fbc41\"],[0.9,\"#4d9221\"],[1,\"#276419\"]]},\"xaxis\":{\"gridcolor\":\"white\",\"linecolor\":\"white\",\"ticks\":\"\",\"title\":{\"standoff\":15},\"zerolinecolor\":\"white\",\"automargin\":true,\"zerolinewidth\":2},\"yaxis\":{\"gridcolor\":\"white\",\"linecolor\":\"white\",\"ticks\":\"\",\"title\":{\"standoff\":15},\"zerolinecolor\":\"white\",\"automargin\":true,\"zerolinewidth\":2},\"scene\":{\"xaxis\":{\"backgroundcolor\":\"#E5ECF6\",\"gridcolor\":\"white\",\"linecolor\":\"white\",\"showbackground\":true,\"ticks\":\"\",\"zerolinecolor\":\"white\",\"gridwidth\":2},\"yaxis\":{\"backgroundcolor\":\"#E5ECF6\",\"gridcolor\":\"white\",\"linecolor\":\"white\",\"showbackground\":true,\"ticks\":\"\",\"zerolinecolor\":\"white\",\"gridwidth\":2},\"zaxis\":{\"backgroundcolor\":\"#E5ECF6\",\"gridcolor\":\"white\",\"linecolor\":\"white\",\"showbackground\":true,\"ticks\":\"\",\"zerolinecolor\":\"white\",\"gridwidth\":2}},\"shapedefaults\":{\"line\":{\"color\":\"#2a3f5f\"}},\"annotationdefaults\":{\"arrowcolor\":\"#2a3f5f\",\"arrowhead\":0,\"arrowwidth\":1},\"geo\":{\"bgcolor\":\"white\",\"landcolor\":\"#E5ECF6\",\"subunitcolor\":\"white\",\"showland\":true,\"showlakes\":true,\"lakecolor\":\"white\"},\"title\":{\"x\":0.05},\"mapbox\":{\"style\":\"light\"}}}},                        {\"responsive\": true}                    ).then(function(){\n",
              "                            \n",
              "var gd = document.getElementById('a8ebfee6-af49-4e40-838f-840adf089926');\n",
              "var x = new MutationObserver(function (mutations, observer) {{\n",
              "        var display = window.getComputedStyle(gd).display;\n",
              "        if (!display || display === 'none') {{\n",
              "            console.log([gd, 'removed!']);\n",
              "            Plotly.purge(gd);\n",
              "            observer.disconnect();\n",
              "        }}\n",
              "}});\n",
              "\n",
              "// Listen for the removal of the full notebook cells\n",
              "var notebookContainer = gd.closest('#notebook-container');\n",
              "if (notebookContainer) {{\n",
              "    x.observe(notebookContainer, {childList: true});\n",
              "}}\n",
              "\n",
              "// Listen for the clearing of the current output cell\n",
              "var outputEl = gd.closest('.output');\n",
              "if (outputEl) {{\n",
              "    x.observe(outputEl, {childList: true});\n",
              "}}\n",
              "\n",
              "                        })                };                            </script>        </div>\n",
              "</body>\n",
              "</html>"
            ]
          },
          "metadata": {}
        }
      ],
      "source": [
        "trace_not_booked = go.Scatter(y = day_duration_not , name='Not Booked', opacity = 0.5) # TODO\n",
        "trace_is_booked = go.Scatter(y = day_duration_is  , name='Booked') # TODO\n",
        "\n",
        "# در ادامه‌ی این قسمت از کد تغییری ایجاد نکنید زیرا نمودار شما توسط سیستم داوری بررسی می‌شود و تغییر در این قسمت ممکن است باعث عدم داوری صحیح شود\n",
        "\n",
        "data = [trace_is_booked, trace_not_booked]\n",
        "\n",
        "layout = go.Layout(\n",
        "    xaxis=dict(title='Length of Stay', tickangle=45, automargin=True),\n",
        "    yaxis=dict(title='Frequency')\n",
        ")\n",
        "\n",
        "fig = go.Figure(data=data, layout=layout)\n",
        "fig.show()\n",
        "fig.write_json('./los.json')"
      ]
    },
    {
      "cell_type": "markdown",
      "id": "5ab0c8e4-408a-4af0-8a3d-6099075f885a",
      "metadata": {
        "id": "5ab0c8e4-408a-4af0-8a3d-6099075f885a"
      },
      "source": [
        "<h3 align=right style=\"line-height:200%;font-family:vazir;color:#0099cc\">\n",
        "<font face=\"vazir\" color=\"#0099cc\">\n",
        "خارجی یا داخلی\n",
        "</font>\n",
        "</h3>\n",
        "\n",
        "<p dir=rtl style=\"direction: rtl; text-align: justify; line-height:200%; font-family:vazir; font-size:medium\">\n",
        "<font face=\"vazir\" size=3>\n",
        "تا اینجا داده‌های زمانی را مورد بررسی قرار دادیم و سعی کردیم کمی در آن‌‌ها اکتشاف کنیم.\n",
        "حال با توجه به داده‌های دیگر می‌توانیم اکتشافات دیگری انجام دهیم. <br>ستونی با نام <code>is_abroad</code> ایجاد کنید و در آن جست‌وجو‌ها برای هتل‌های خارج از کشور کاربر را مشخص کنید.\n",
        "به‌طور مثال اگر کاربر در کشوری با شناسه‌ی <code>x</code> است و در جست‌وجوی خود هتلی در کشوری غیر از <code>x</code> را جست‌وجو ستون <code>is_abroad</code> را برای این نمونه برابر <code>1</code> قرار دهید.\n",
        "</font>\n",
        "</p>\n"
      ]
    },
    {
      "cell_type": "code",
      "source": [
        "train['is_abroad'] = np.where(train['user_location_country'] == train['hotel_country'], 1, 0)\n",
        "test['is_abroad'] = np.where(test['user_location_country'] == test['hotel_country'], 1, 0)"
      ],
      "metadata": {
        "id": "AMsAe5h4jeSk"
      },
      "id": "AMsAe5h4jeSk",
      "execution_count": 15,
      "outputs": []
    },
    {
      "cell_type": "markdown",
      "id": "b8590bb9-2d0a-4c0d-80fa-ea2c2433e6f0",
      "metadata": {
        "id": "b8590bb9-2d0a-4c0d-80fa-ea2c2433e6f0"
      },
      "source": [
        "<h3 align=right style=\"line-height:200%;font-family:vazir;color:#0099cc\">\n",
        "<font face=\"vazir\" color=\"#0099cc\">\n",
        "🤓 بیشتر\n",
        "</font>\n",
        "</h3>\n",
        "\n",
        "\n",
        "<p dir=rtl style=\"direction: rtl; text-align: justify; line-height:200%; font-family:vazir; font-size:medium\">\n",
        "<font face=\"vazir\" size=3>\n",
        "از آن‌جا که این مجموعه‌داده شامل ویژگی‌های متعدد و متنوعی است، می‌توانید به غیر از موارد خواسته‌شده، از جنبه‌های مختلفی به تحلیل داده‌ها بپردازید. برای مثال می‌توانید توزیع‌های سایر ویژگی‌ها را بررسی کنید، ارتباط ویژگی‌ها با هم و با متغیر هدف را بررسی کنید. همچنین با توجه به بینش‌هایی که از داده‌ها به‌دست می‌آورید، می‌توانید به پیش‌پردازش داده‌ها بپردازید تا ورودی‌های باکیفیت‌تری را برای مدل خود آماده کنید. این بخش به‌صورت جداگانه مورد داوری قرار نمی‌گیرد و دست شما باز است تا از هر تکنیکی که برای بهبود عملکرد مدل خود لازم می‌دانید استفاده کنید.\n",
        "در انجام مراحل پیش‌پردازش و مهندسی ویژگی، می‌توانید موارد زیر را انجام دهید. همچنین توجه داشته باشید در نهایت مجموعه‌داده آموزش و آزمون باید ساختاری مشابه یکدیگر داشته باشند.\n",
        "\n",
        "<ul dir=rtl>\n",
        "<li dir=rtl>\n",
        " مدیریت ویژگی‌های دسته‌ای ترتیبی و اسمی (توجه داشته باشید با این‌که داده‌های مجموعه‌داده‌ی اولیه از نوع عدد هستند اما الزاماً اعداد آن‌ها بار معنایی از نظر ریاضی ندارند و با برخی از آن‌ها باید همچون ویژگی‌های دسته‌ای برخورد کنید و شاید برای بهبود مدل نیاز به مدیریت این داده‌ها داشته باشید.)\n",
        "    </li>\n",
        "    <li dir=rtl>\n",
        "        در بعضی موارد حذف بعضی ستون‌ها به بهبود مدل کمک می‌کند، به‌طور مثال در مرحله‌ی قبل ستونی برای خارجی بودن هتل ایجاد کردیم، حال ممکن است دیگر نیازی به کشور کاربر و یا هتل با توجه به ستون جدید نداشته باشیم.\n",
        "    </li>\n",
        "       <li dir=rtl>\n",
        "           با بررسی توزیع مجموعه‌داده متوجه می‌شوید که این مجموعه‌داده متوازن نیست، بنابراین نحوه‌ی مدیریت این چالش نیز می‌تواند در مدل شما تاثیر بگذارد.\n",
        "    </li>\n",
        "</ul>\n",
        "</font>\n",
        "</p>\n",
        "\n",
        "<p dir=rtl style=\"direction: rtl; text-align: justify; line-height:200%; font-family:vazir; font-size:medium\">\n",
        "<font face=\"vazir\" size=3>\n",
        "توجه داشته باشید که کدنویسی سلول‌های زیر کاملاً اختیاری است.\n",
        "</font>\n",
        "</p>"
      ]
    },
    {
      "cell_type": "code",
      "execution_count": 16,
      "id": "b4428d7c-a728-46bb-8918-2747f85c7751",
      "metadata": {
        "id": "b4428d7c-a728-46bb-8918-2747f85c7751"
      },
      "outputs": [],
      "source": [
        "train.drop(columns=['user_location_country', 'user_location_region', 'user_location_city', 'hotel_continent', 'hotel_country'], inplace=True)\n",
        "test.drop(columns=['user_location_country', 'user_location_region', 'user_location_city', 'hotel_continent', 'hotel_country'], inplace=True)"
      ]
    },
    {
      "cell_type": "code",
      "source": [
        "train.drop(columns=['search_date', 'checkIn_date', 'checkOut_date'], inplace=True)\n",
        "test.drop(columns=['search_date', 'checkIn_date', 'checkOut_date'], inplace=True)"
      ],
      "metadata": {
        "id": "doxB932kucRj"
      },
      "id": "doxB932kucRj",
      "execution_count": 17,
      "outputs": []
    },
    {
      "cell_type": "code",
      "source": [
        "is_booked.groupby(['channel'])['is_booking'].count()"
      ],
      "metadata": {
        "colab": {
          "base_uri": "https://localhost:8080/"
        },
        "id": "iRNh1sshuzY9",
        "outputId": "d1511c9d-fdbe-43ea-fa48-6c94b0db88b8"
      },
      "id": "iRNh1sshuzY9",
      "execution_count": 37,
      "outputs": [
        {
          "output_type": "execute_result",
          "data": {
            "text/plain": [
              "channel\n",
              "0      73217\n",
              "1      59213\n",
              "2      35895\n",
              "3      18315\n",
              "4      24418\n",
              "5      42196\n",
              "6        609\n",
              "7       2653\n",
              "8       2123\n",
              "9     403088\n",
              "10       140\n",
              "Name: is_booking, dtype: int64"
            ]
          },
          "metadata": {},
          "execution_count": 37
        }
      ]
    },
    {
      "cell_type": "code",
      "source": [
        "trace_is_booked = go.Scatter(y = is_booked.groupby(['channel'])['is_booking'].count() / len(is_booked)  , name='Not Booked')\n",
        "trace_not_booked = go.Scatter(y = not_booked.groupby(['channel'])['is_booking'].count() / len(not_booked) , name='Booked', opacity = 0.5)\n",
        "\n",
        "# در ادامه‌ی این قسمت از کد تغییری ایجاد نکنید زیرا نمودار شما توسط سیستم داوری بررسی می‌شود و تغییر در این قسمت ممکن است باعث عدم داوری صحیح شود\n",
        "\n",
        "data = [trace_is_booked, trace_not_booked]\n",
        "\n",
        "layout = go.Layout(\n",
        "    xaxis=dict(title='Days between search and checking time',  tickvals = [0,1,2,3,4,5,6,7,8,9,10],\n",
        "             ticktext = [1,2,3,4,5,6,7,8,9,10, 11] ),\n",
        "    yaxis=dict(title='Frequency')\n",
        ")\n",
        "\n",
        "fig = go.Figure(data=data, layout=layout)\n",
        "fig.show()"
      ],
      "metadata": {
        "colab": {
          "base_uri": "https://localhost:8080/",
          "height": 542
        },
        "id": "cOw73sqbuxmk",
        "outputId": "c7c55eaf-7525-4b06-d857-f518d60e7c51"
      },
      "id": "cOw73sqbuxmk",
      "execution_count": null,
      "outputs": [
        {
          "output_type": "display_data",
          "data": {
            "text/html": [
              "<html>\n",
              "<head><meta charset=\"utf-8\" /></head>\n",
              "<body>\n",
              "    <div>            <script src=\"https://cdnjs.cloudflare.com/ajax/libs/mathjax/2.7.5/MathJax.js?config=TeX-AMS-MML_SVG\"></script><script type=\"text/javascript\">if (window.MathJax && window.MathJax.Hub && window.MathJax.Hub.Config) {window.MathJax.Hub.Config({SVG: {font: \"STIX-Web\"}});}</script>                <script type=\"text/javascript\">window.PlotlyConfig = {MathJaxConfig: 'local'};</script>\n",
              "        <script charset=\"utf-8\" src=\"https://cdn.plot.ly/plotly-2.24.1.min.js\"></script>                <div id=\"d6e6052f-bd5a-4e92-9e18-78845f522442\" class=\"plotly-graph-div\" style=\"height:525px; width:100%;\"></div>            <script type=\"text/javascript\">                                    window.PLOTLYENV=window.PLOTLYENV || {};                                    if (document.getElementById(\"d6e6052f-bd5a-4e92-9e18-78845f522442\")) {                    Plotly.newPlot(                        \"d6e6052f-bd5a-4e92-9e18-78845f522442\",                        [{\"name\":\"Not Booked\",\"y\":[0.11062192253126384,0.08946359313880281,0.05423295012442077,0.02767172256661837,0.036892608333698465,0.06375298964897781,0.0009201244358760899,0.004008358174678599,0.003207593066280688,0.6090166151205605,0.00021152285882208963],\"type\":\"scatter\"},{\"name\":\"Booked\",\"opacity\":0.5,\"y\":[0.12306269857047254,0.10502241234540995,0.06762987665904546,0.0433883545053068,0.02151625465445373,0.05235113341445414,0.0013655127560858237,0.008422245449406429,0.0032151304456226938,0.5737858402113997,0.00024054098834275895],\"type\":\"scatter\"}],                        {\"xaxis\":{\"ticktext\":[1,2,3,4,5,6,7,8,9,10,11],\"tickvals\":[0,1,2,3,4,5,6,7,8,9,10],\"title\":{\"text\":\"Days between search and checking time\"}},\"yaxis\":{\"title\":{\"text\":\"Frequency\"}},\"template\":{\"data\":{\"histogram2dcontour\":[{\"type\":\"histogram2dcontour\",\"colorbar\":{\"outlinewidth\":0,\"ticks\":\"\"},\"colorscale\":[[0.0,\"#0d0887\"],[0.1111111111111111,\"#46039f\"],[0.2222222222222222,\"#7201a8\"],[0.3333333333333333,\"#9c179e\"],[0.4444444444444444,\"#bd3786\"],[0.5555555555555556,\"#d8576b\"],[0.6666666666666666,\"#ed7953\"],[0.7777777777777778,\"#fb9f3a\"],[0.8888888888888888,\"#fdca26\"],[1.0,\"#f0f921\"]]}],\"choropleth\":[{\"type\":\"choropleth\",\"colorbar\":{\"outlinewidth\":0,\"ticks\":\"\"}}],\"histogram2d\":[{\"type\":\"histogram2d\",\"colorbar\":{\"outlinewidth\":0,\"ticks\":\"\"},\"colorscale\":[[0.0,\"#0d0887\"],[0.1111111111111111,\"#46039f\"],[0.2222222222222222,\"#7201a8\"],[0.3333333333333333,\"#9c179e\"],[0.4444444444444444,\"#bd3786\"],[0.5555555555555556,\"#d8576b\"],[0.6666666666666666,\"#ed7953\"],[0.7777777777777778,\"#fb9f3a\"],[0.8888888888888888,\"#fdca26\"],[1.0,\"#f0f921\"]]}],\"heatmap\":[{\"type\":\"heatmap\",\"colorbar\":{\"outlinewidth\":0,\"ticks\":\"\"},\"colorscale\":[[0.0,\"#0d0887\"],[0.1111111111111111,\"#46039f\"],[0.2222222222222222,\"#7201a8\"],[0.3333333333333333,\"#9c179e\"],[0.4444444444444444,\"#bd3786\"],[0.5555555555555556,\"#d8576b\"],[0.6666666666666666,\"#ed7953\"],[0.7777777777777778,\"#fb9f3a\"],[0.8888888888888888,\"#fdca26\"],[1.0,\"#f0f921\"]]}],\"heatmapgl\":[{\"type\":\"heatmapgl\",\"colorbar\":{\"outlinewidth\":0,\"ticks\":\"\"},\"colorscale\":[[0.0,\"#0d0887\"],[0.1111111111111111,\"#46039f\"],[0.2222222222222222,\"#7201a8\"],[0.3333333333333333,\"#9c179e\"],[0.4444444444444444,\"#bd3786\"],[0.5555555555555556,\"#d8576b\"],[0.6666666666666666,\"#ed7953\"],[0.7777777777777778,\"#fb9f3a\"],[0.8888888888888888,\"#fdca26\"],[1.0,\"#f0f921\"]]}],\"contourcarpet\":[{\"type\":\"contourcarpet\",\"colorbar\":{\"outlinewidth\":0,\"ticks\":\"\"}}],\"contour\":[{\"type\":\"contour\",\"colorbar\":{\"outlinewidth\":0,\"ticks\":\"\"},\"colorscale\":[[0.0,\"#0d0887\"],[0.1111111111111111,\"#46039f\"],[0.2222222222222222,\"#7201a8\"],[0.3333333333333333,\"#9c179e\"],[0.4444444444444444,\"#bd3786\"],[0.5555555555555556,\"#d8576b\"],[0.6666666666666666,\"#ed7953\"],[0.7777777777777778,\"#fb9f3a\"],[0.8888888888888888,\"#fdca26\"],[1.0,\"#f0f921\"]]}],\"surface\":[{\"type\":\"surface\",\"colorbar\":{\"outlinewidth\":0,\"ticks\":\"\"},\"colorscale\":[[0.0,\"#0d0887\"],[0.1111111111111111,\"#46039f\"],[0.2222222222222222,\"#7201a8\"],[0.3333333333333333,\"#9c179e\"],[0.4444444444444444,\"#bd3786\"],[0.5555555555555556,\"#d8576b\"],[0.6666666666666666,\"#ed7953\"],[0.7777777777777778,\"#fb9f3a\"],[0.8888888888888888,\"#fdca26\"],[1.0,\"#f0f921\"]]}],\"mesh3d\":[{\"type\":\"mesh3d\",\"colorbar\":{\"outlinewidth\":0,\"ticks\":\"\"}}],\"scatter\":[{\"fillpattern\":{\"fillmode\":\"overlay\",\"size\":10,\"solidity\":0.2},\"type\":\"scatter\"}],\"parcoords\":[{\"type\":\"parcoords\",\"line\":{\"colorbar\":{\"outlinewidth\":0,\"ticks\":\"\"}}}],\"scatterpolargl\":[{\"type\":\"scatterpolargl\",\"marker\":{\"colorbar\":{\"outlinewidth\":0,\"ticks\":\"\"}}}],\"bar\":[{\"error_x\":{\"color\":\"#2a3f5f\"},\"error_y\":{\"color\":\"#2a3f5f\"},\"marker\":{\"line\":{\"color\":\"#E5ECF6\",\"width\":0.5},\"pattern\":{\"fillmode\":\"overlay\",\"size\":10,\"solidity\":0.2}},\"type\":\"bar\"}],\"scattergeo\":[{\"type\":\"scattergeo\",\"marker\":{\"colorbar\":{\"outlinewidth\":0,\"ticks\":\"\"}}}],\"scatterpolar\":[{\"type\":\"scatterpolar\",\"marker\":{\"colorbar\":{\"outlinewidth\":0,\"ticks\":\"\"}}}],\"histogram\":[{\"marker\":{\"pattern\":{\"fillmode\":\"overlay\",\"size\":10,\"solidity\":0.2}},\"type\":\"histogram\"}],\"scattergl\":[{\"type\":\"scattergl\",\"marker\":{\"colorbar\":{\"outlinewidth\":0,\"ticks\":\"\"}}}],\"scatter3d\":[{\"type\":\"scatter3d\",\"line\":{\"colorbar\":{\"outlinewidth\":0,\"ticks\":\"\"}},\"marker\":{\"colorbar\":{\"outlinewidth\":0,\"ticks\":\"\"}}}],\"scattermapbox\":[{\"type\":\"scattermapbox\",\"marker\":{\"colorbar\":{\"outlinewidth\":0,\"ticks\":\"\"}}}],\"scatterternary\":[{\"type\":\"scatterternary\",\"marker\":{\"colorbar\":{\"outlinewidth\":0,\"ticks\":\"\"}}}],\"scattercarpet\":[{\"type\":\"scattercarpet\",\"marker\":{\"colorbar\":{\"outlinewidth\":0,\"ticks\":\"\"}}}],\"carpet\":[{\"aaxis\":{\"endlinecolor\":\"#2a3f5f\",\"gridcolor\":\"white\",\"linecolor\":\"white\",\"minorgridcolor\":\"white\",\"startlinecolor\":\"#2a3f5f\"},\"baxis\":{\"endlinecolor\":\"#2a3f5f\",\"gridcolor\":\"white\",\"linecolor\":\"white\",\"minorgridcolor\":\"white\",\"startlinecolor\":\"#2a3f5f\"},\"type\":\"carpet\"}],\"table\":[{\"cells\":{\"fill\":{\"color\":\"#EBF0F8\"},\"line\":{\"color\":\"white\"}},\"header\":{\"fill\":{\"color\":\"#C8D4E3\"},\"line\":{\"color\":\"white\"}},\"type\":\"table\"}],\"barpolar\":[{\"marker\":{\"line\":{\"color\":\"#E5ECF6\",\"width\":0.5},\"pattern\":{\"fillmode\":\"overlay\",\"size\":10,\"solidity\":0.2}},\"type\":\"barpolar\"}],\"pie\":[{\"automargin\":true,\"type\":\"pie\"}]},\"layout\":{\"autotypenumbers\":\"strict\",\"colorway\":[\"#636efa\",\"#EF553B\",\"#00cc96\",\"#ab63fa\",\"#FFA15A\",\"#19d3f3\",\"#FF6692\",\"#B6E880\",\"#FF97FF\",\"#FECB52\"],\"font\":{\"color\":\"#2a3f5f\"},\"hovermode\":\"closest\",\"hoverlabel\":{\"align\":\"left\"},\"paper_bgcolor\":\"white\",\"plot_bgcolor\":\"#E5ECF6\",\"polar\":{\"bgcolor\":\"#E5ECF6\",\"angularaxis\":{\"gridcolor\":\"white\",\"linecolor\":\"white\",\"ticks\":\"\"},\"radialaxis\":{\"gridcolor\":\"white\",\"linecolor\":\"white\",\"ticks\":\"\"}},\"ternary\":{\"bgcolor\":\"#E5ECF6\",\"aaxis\":{\"gridcolor\":\"white\",\"linecolor\":\"white\",\"ticks\":\"\"},\"baxis\":{\"gridcolor\":\"white\",\"linecolor\":\"white\",\"ticks\":\"\"},\"caxis\":{\"gridcolor\":\"white\",\"linecolor\":\"white\",\"ticks\":\"\"}},\"coloraxis\":{\"colorbar\":{\"outlinewidth\":0,\"ticks\":\"\"}},\"colorscale\":{\"sequential\":[[0.0,\"#0d0887\"],[0.1111111111111111,\"#46039f\"],[0.2222222222222222,\"#7201a8\"],[0.3333333333333333,\"#9c179e\"],[0.4444444444444444,\"#bd3786\"],[0.5555555555555556,\"#d8576b\"],[0.6666666666666666,\"#ed7953\"],[0.7777777777777778,\"#fb9f3a\"],[0.8888888888888888,\"#fdca26\"],[1.0,\"#f0f921\"]],\"sequentialminus\":[[0.0,\"#0d0887\"],[0.1111111111111111,\"#46039f\"],[0.2222222222222222,\"#7201a8\"],[0.3333333333333333,\"#9c179e\"],[0.4444444444444444,\"#bd3786\"],[0.5555555555555556,\"#d8576b\"],[0.6666666666666666,\"#ed7953\"],[0.7777777777777778,\"#fb9f3a\"],[0.8888888888888888,\"#fdca26\"],[1.0,\"#f0f921\"]],\"diverging\":[[0,\"#8e0152\"],[0.1,\"#c51b7d\"],[0.2,\"#de77ae\"],[0.3,\"#f1b6da\"],[0.4,\"#fde0ef\"],[0.5,\"#f7f7f7\"],[0.6,\"#e6f5d0\"],[0.7,\"#b8e186\"],[0.8,\"#7fbc41\"],[0.9,\"#4d9221\"],[1,\"#276419\"]]},\"xaxis\":{\"gridcolor\":\"white\",\"linecolor\":\"white\",\"ticks\":\"\",\"title\":{\"standoff\":15},\"zerolinecolor\":\"white\",\"automargin\":true,\"zerolinewidth\":2},\"yaxis\":{\"gridcolor\":\"white\",\"linecolor\":\"white\",\"ticks\":\"\",\"title\":{\"standoff\":15},\"zerolinecolor\":\"white\",\"automargin\":true,\"zerolinewidth\":2},\"scene\":{\"xaxis\":{\"backgroundcolor\":\"#E5ECF6\",\"gridcolor\":\"white\",\"linecolor\":\"white\",\"showbackground\":true,\"ticks\":\"\",\"zerolinecolor\":\"white\",\"gridwidth\":2},\"yaxis\":{\"backgroundcolor\":\"#E5ECF6\",\"gridcolor\":\"white\",\"linecolor\":\"white\",\"showbackground\":true,\"ticks\":\"\",\"zerolinecolor\":\"white\",\"gridwidth\":2},\"zaxis\":{\"backgroundcolor\":\"#E5ECF6\",\"gridcolor\":\"white\",\"linecolor\":\"white\",\"showbackground\":true,\"ticks\":\"\",\"zerolinecolor\":\"white\",\"gridwidth\":2}},\"shapedefaults\":{\"line\":{\"color\":\"#2a3f5f\"}},\"annotationdefaults\":{\"arrowcolor\":\"#2a3f5f\",\"arrowhead\":0,\"arrowwidth\":1},\"geo\":{\"bgcolor\":\"white\",\"landcolor\":\"#E5ECF6\",\"subunitcolor\":\"white\",\"showland\":true,\"showlakes\":true,\"lakecolor\":\"white\"},\"title\":{\"x\":0.05},\"mapbox\":{\"style\":\"light\"}}}},                        {\"responsive\": true}                    ).then(function(){\n",
              "                            \n",
              "var gd = document.getElementById('d6e6052f-bd5a-4e92-9e18-78845f522442');\n",
              "var x = new MutationObserver(function (mutations, observer) {{\n",
              "        var display = window.getComputedStyle(gd).display;\n",
              "        if (!display || display === 'none') {{\n",
              "            console.log([gd, 'removed!']);\n",
              "            Plotly.purge(gd);\n",
              "            observer.disconnect();\n",
              "        }}\n",
              "}});\n",
              "\n",
              "// Listen for the removal of the full notebook cells\n",
              "var notebookContainer = gd.closest('#notebook-container');\n",
              "if (notebookContainer) {{\n",
              "    x.observe(notebookContainer, {childList: true});\n",
              "}}\n",
              "\n",
              "// Listen for the clearing of the current output cell\n",
              "var outputEl = gd.closest('.output');\n",
              "if (outputEl) {{\n",
              "    x.observe(outputEl, {childList: true});\n",
              "}}\n",
              "\n",
              "                        })                };                            </script>        </div>\n",
              "</body>\n",
              "</html>"
            ]
          },
          "metadata": {}
        }
      ]
    },
    {
      "cell_type": "code",
      "execution_count": null,
      "id": "06a6e679-bc0e-49d4-acf5-d9085d2df66c",
      "metadata": {
        "id": "06a6e679-bc0e-49d4-acf5-d9085d2df66c",
        "colab": {
          "base_uri": "https://localhost:8080/"
        },
        "outputId": "e82ba5c9-c461-4779-dc92-0ea3b91824e1"
      },
      "outputs": [
        {
          "output_type": "execute_result",
          "data": {
            "text/plain": [
              "hotel_category\n",
              "0      4291\n",
              "1      9075\n",
              "2      9890\n",
              "3      3159\n",
              "4      7980\n",
              "      ...  \n",
              "95    12527\n",
              "96     3754\n",
              "97     6461\n",
              "98    10470\n",
              "99     8685\n",
              "Name: is_booking, Length: 100, dtype: int64"
            ]
          },
          "metadata": {},
          "execution_count": 39
        }
      ],
      "source": [
        "is_booked.groupby(['hotel_category'])['is_booking'].count()"
      ]
    },
    {
      "cell_type": "code",
      "source": [
        "is_booked.groupby(['is_mobile'])['is_booking'].count()\n",
        "not_booked.groupby(['is_mobile'])['is_booking'].count()"
      ],
      "metadata": {
        "colab": {
          "base_uri": "https://localhost:8080/"
        },
        "id": "7OJeIz1VzoFg",
        "outputId": "d3ba8bf2-b7a5-4264-9fd8-da4dd6ccd6d5"
      },
      "id": "7OJeIz1VzoFg",
      "execution_count": null,
      "outputs": [
        {
          "output_type": "execute_result",
          "data": {
            "text/plain": [
              "is_mobile\n",
              "0    6011811\n",
              "1     935030\n",
              "Name: is_booking, dtype: int64"
            ]
          },
          "metadata": {},
          "execution_count": 40
        }
      ]
    },
    {
      "cell_type": "code",
      "source": [
        "trace_is_booked = go.Bar(y = is_booked.groupby(['is_mobile'])['is_booking'].count() / len(is_booked), name = 'Booked')\n",
        "trace_not_booked = go.Bar(y = not_booked.groupby(['is_mobile'])['is_booking'].count() / len(not_booked), name = 'NOT Booked')\n",
        "\n",
        "data = [trace_is_booked, trace_not_booked]\n",
        "\n",
        "layout = go.Layout(barmode='group',\n",
        "    xaxis=dict(title='is_mobile',  tickvals = [0,1],\n",
        "             ticktext = ['No', 'Yes']),\n",
        "    yaxis=dict(title='count')\n",
        ")\n",
        "\n",
        "fig = go.Figure(data=data, layout=layout)\n",
        "\n",
        "fig.show()"
      ],
      "metadata": {
        "colab": {
          "base_uri": "https://localhost:8080/",
          "height": 542
        },
        "id": "5Ws1j99n3VUh",
        "outputId": "a8f98b17-7790-4db7-a529-5737065f35d7"
      },
      "id": "5Ws1j99n3VUh",
      "execution_count": null,
      "outputs": [
        {
          "output_type": "display_data",
          "data": {
            "text/html": [
              "<html>\n",
              "<head><meta charset=\"utf-8\" /></head>\n",
              "<body>\n",
              "    <div>            <script src=\"https://cdnjs.cloudflare.com/ajax/libs/mathjax/2.7.5/MathJax.js?config=TeX-AMS-MML_SVG\"></script><script type=\"text/javascript\">if (window.MathJax && window.MathJax.Hub && window.MathJax.Hub.Config) {window.MathJax.Hub.Config({SVG: {font: \"STIX-Web\"}});}</script>                <script type=\"text/javascript\">window.PlotlyConfig = {MathJaxConfig: 'local'};</script>\n",
              "        <script charset=\"utf-8\" src=\"https://cdn.plot.ly/plotly-2.24.1.min.js\"></script>                <div id=\"a07df68b-339c-46b4-8131-45b0ebfa3d07\" class=\"plotly-graph-div\" style=\"height:525px; width:100%;\"></div>            <script type=\"text/javascript\">                                    window.PLOTLYENV=window.PLOTLYENV || {};                                    if (document.getElementById(\"a07df68b-339c-46b4-8131-45b0ebfa3d07\")) {                    Plotly.newPlot(                        \"a07df68b-339c-46b4-8131-45b0ebfa3d07\",                        [{\"name\":\"Booked\",\"y\":[0.9026375389617551,0.09736246103824485],\"type\":\"bar\"},{\"name\":\"NOT Booked\",\"y\":[0.8654021302632376,0.13459786973676235],\"type\":\"bar\"}],                        {\"barmode\":\"group\",\"xaxis\":{\"ticktext\":[\"No\",\"Yes\"],\"tickvals\":[0,1],\"title\":{\"text\":\"is_mobile\"}},\"yaxis\":{\"title\":{\"text\":\"count\"}},\"template\":{\"data\":{\"histogram2dcontour\":[{\"type\":\"histogram2dcontour\",\"colorbar\":{\"outlinewidth\":0,\"ticks\":\"\"},\"colorscale\":[[0.0,\"#0d0887\"],[0.1111111111111111,\"#46039f\"],[0.2222222222222222,\"#7201a8\"],[0.3333333333333333,\"#9c179e\"],[0.4444444444444444,\"#bd3786\"],[0.5555555555555556,\"#d8576b\"],[0.6666666666666666,\"#ed7953\"],[0.7777777777777778,\"#fb9f3a\"],[0.8888888888888888,\"#fdca26\"],[1.0,\"#f0f921\"]]}],\"choropleth\":[{\"type\":\"choropleth\",\"colorbar\":{\"outlinewidth\":0,\"ticks\":\"\"}}],\"histogram2d\":[{\"type\":\"histogram2d\",\"colorbar\":{\"outlinewidth\":0,\"ticks\":\"\"},\"colorscale\":[[0.0,\"#0d0887\"],[0.1111111111111111,\"#46039f\"],[0.2222222222222222,\"#7201a8\"],[0.3333333333333333,\"#9c179e\"],[0.4444444444444444,\"#bd3786\"],[0.5555555555555556,\"#d8576b\"],[0.6666666666666666,\"#ed7953\"],[0.7777777777777778,\"#fb9f3a\"],[0.8888888888888888,\"#fdca26\"],[1.0,\"#f0f921\"]]}],\"heatmap\":[{\"type\":\"heatmap\",\"colorbar\":{\"outlinewidth\":0,\"ticks\":\"\"},\"colorscale\":[[0.0,\"#0d0887\"],[0.1111111111111111,\"#46039f\"],[0.2222222222222222,\"#7201a8\"],[0.3333333333333333,\"#9c179e\"],[0.4444444444444444,\"#bd3786\"],[0.5555555555555556,\"#d8576b\"],[0.6666666666666666,\"#ed7953\"],[0.7777777777777778,\"#fb9f3a\"],[0.8888888888888888,\"#fdca26\"],[1.0,\"#f0f921\"]]}],\"heatmapgl\":[{\"type\":\"heatmapgl\",\"colorbar\":{\"outlinewidth\":0,\"ticks\":\"\"},\"colorscale\":[[0.0,\"#0d0887\"],[0.1111111111111111,\"#46039f\"],[0.2222222222222222,\"#7201a8\"],[0.3333333333333333,\"#9c179e\"],[0.4444444444444444,\"#bd3786\"],[0.5555555555555556,\"#d8576b\"],[0.6666666666666666,\"#ed7953\"],[0.7777777777777778,\"#fb9f3a\"],[0.8888888888888888,\"#fdca26\"],[1.0,\"#f0f921\"]]}],\"contourcarpet\":[{\"type\":\"contourcarpet\",\"colorbar\":{\"outlinewidth\":0,\"ticks\":\"\"}}],\"contour\":[{\"type\":\"contour\",\"colorbar\":{\"outlinewidth\":0,\"ticks\":\"\"},\"colorscale\":[[0.0,\"#0d0887\"],[0.1111111111111111,\"#46039f\"],[0.2222222222222222,\"#7201a8\"],[0.3333333333333333,\"#9c179e\"],[0.4444444444444444,\"#bd3786\"],[0.5555555555555556,\"#d8576b\"],[0.6666666666666666,\"#ed7953\"],[0.7777777777777778,\"#fb9f3a\"],[0.8888888888888888,\"#fdca26\"],[1.0,\"#f0f921\"]]}],\"surface\":[{\"type\":\"surface\",\"colorbar\":{\"outlinewidth\":0,\"ticks\":\"\"},\"colorscale\":[[0.0,\"#0d0887\"],[0.1111111111111111,\"#46039f\"],[0.2222222222222222,\"#7201a8\"],[0.3333333333333333,\"#9c179e\"],[0.4444444444444444,\"#bd3786\"],[0.5555555555555556,\"#d8576b\"],[0.6666666666666666,\"#ed7953\"],[0.7777777777777778,\"#fb9f3a\"],[0.8888888888888888,\"#fdca26\"],[1.0,\"#f0f921\"]]}],\"mesh3d\":[{\"type\":\"mesh3d\",\"colorbar\":{\"outlinewidth\":0,\"ticks\":\"\"}}],\"scatter\":[{\"fillpattern\":{\"fillmode\":\"overlay\",\"size\":10,\"solidity\":0.2},\"type\":\"scatter\"}],\"parcoords\":[{\"type\":\"parcoords\",\"line\":{\"colorbar\":{\"outlinewidth\":0,\"ticks\":\"\"}}}],\"scatterpolargl\":[{\"type\":\"scatterpolargl\",\"marker\":{\"colorbar\":{\"outlinewidth\":0,\"ticks\":\"\"}}}],\"bar\":[{\"error_x\":{\"color\":\"#2a3f5f\"},\"error_y\":{\"color\":\"#2a3f5f\"},\"marker\":{\"line\":{\"color\":\"#E5ECF6\",\"width\":0.5},\"pattern\":{\"fillmode\":\"overlay\",\"size\":10,\"solidity\":0.2}},\"type\":\"bar\"}],\"scattergeo\":[{\"type\":\"scattergeo\",\"marker\":{\"colorbar\":{\"outlinewidth\":0,\"ticks\":\"\"}}}],\"scatterpolar\":[{\"type\":\"scatterpolar\",\"marker\":{\"colorbar\":{\"outlinewidth\":0,\"ticks\":\"\"}}}],\"histogram\":[{\"marker\":{\"pattern\":{\"fillmode\":\"overlay\",\"size\":10,\"solidity\":0.2}},\"type\":\"histogram\"}],\"scattergl\":[{\"type\":\"scattergl\",\"marker\":{\"colorbar\":{\"outlinewidth\":0,\"ticks\":\"\"}}}],\"scatter3d\":[{\"type\":\"scatter3d\",\"line\":{\"colorbar\":{\"outlinewidth\":0,\"ticks\":\"\"}},\"marker\":{\"colorbar\":{\"outlinewidth\":0,\"ticks\":\"\"}}}],\"scattermapbox\":[{\"type\":\"scattermapbox\",\"marker\":{\"colorbar\":{\"outlinewidth\":0,\"ticks\":\"\"}}}],\"scatterternary\":[{\"type\":\"scatterternary\",\"marker\":{\"colorbar\":{\"outlinewidth\":0,\"ticks\":\"\"}}}],\"scattercarpet\":[{\"type\":\"scattercarpet\",\"marker\":{\"colorbar\":{\"outlinewidth\":0,\"ticks\":\"\"}}}],\"carpet\":[{\"aaxis\":{\"endlinecolor\":\"#2a3f5f\",\"gridcolor\":\"white\",\"linecolor\":\"white\",\"minorgridcolor\":\"white\",\"startlinecolor\":\"#2a3f5f\"},\"baxis\":{\"endlinecolor\":\"#2a3f5f\",\"gridcolor\":\"white\",\"linecolor\":\"white\",\"minorgridcolor\":\"white\",\"startlinecolor\":\"#2a3f5f\"},\"type\":\"carpet\"}],\"table\":[{\"cells\":{\"fill\":{\"color\":\"#EBF0F8\"},\"line\":{\"color\":\"white\"}},\"header\":{\"fill\":{\"color\":\"#C8D4E3\"},\"line\":{\"color\":\"white\"}},\"type\":\"table\"}],\"barpolar\":[{\"marker\":{\"line\":{\"color\":\"#E5ECF6\",\"width\":0.5},\"pattern\":{\"fillmode\":\"overlay\",\"size\":10,\"solidity\":0.2}},\"type\":\"barpolar\"}],\"pie\":[{\"automargin\":true,\"type\":\"pie\"}]},\"layout\":{\"autotypenumbers\":\"strict\",\"colorway\":[\"#636efa\",\"#EF553B\",\"#00cc96\",\"#ab63fa\",\"#FFA15A\",\"#19d3f3\",\"#FF6692\",\"#B6E880\",\"#FF97FF\",\"#FECB52\"],\"font\":{\"color\":\"#2a3f5f\"},\"hovermode\":\"closest\",\"hoverlabel\":{\"align\":\"left\"},\"paper_bgcolor\":\"white\",\"plot_bgcolor\":\"#E5ECF6\",\"polar\":{\"bgcolor\":\"#E5ECF6\",\"angularaxis\":{\"gridcolor\":\"white\",\"linecolor\":\"white\",\"ticks\":\"\"},\"radialaxis\":{\"gridcolor\":\"white\",\"linecolor\":\"white\",\"ticks\":\"\"}},\"ternary\":{\"bgcolor\":\"#E5ECF6\",\"aaxis\":{\"gridcolor\":\"white\",\"linecolor\":\"white\",\"ticks\":\"\"},\"baxis\":{\"gridcolor\":\"white\",\"linecolor\":\"white\",\"ticks\":\"\"},\"caxis\":{\"gridcolor\":\"white\",\"linecolor\":\"white\",\"ticks\":\"\"}},\"coloraxis\":{\"colorbar\":{\"outlinewidth\":0,\"ticks\":\"\"}},\"colorscale\":{\"sequential\":[[0.0,\"#0d0887\"],[0.1111111111111111,\"#46039f\"],[0.2222222222222222,\"#7201a8\"],[0.3333333333333333,\"#9c179e\"],[0.4444444444444444,\"#bd3786\"],[0.5555555555555556,\"#d8576b\"],[0.6666666666666666,\"#ed7953\"],[0.7777777777777778,\"#fb9f3a\"],[0.8888888888888888,\"#fdca26\"],[1.0,\"#f0f921\"]],\"sequentialminus\":[[0.0,\"#0d0887\"],[0.1111111111111111,\"#46039f\"],[0.2222222222222222,\"#7201a8\"],[0.3333333333333333,\"#9c179e\"],[0.4444444444444444,\"#bd3786\"],[0.5555555555555556,\"#d8576b\"],[0.6666666666666666,\"#ed7953\"],[0.7777777777777778,\"#fb9f3a\"],[0.8888888888888888,\"#fdca26\"],[1.0,\"#f0f921\"]],\"diverging\":[[0,\"#8e0152\"],[0.1,\"#c51b7d\"],[0.2,\"#de77ae\"],[0.3,\"#f1b6da\"],[0.4,\"#fde0ef\"],[0.5,\"#f7f7f7\"],[0.6,\"#e6f5d0\"],[0.7,\"#b8e186\"],[0.8,\"#7fbc41\"],[0.9,\"#4d9221\"],[1,\"#276419\"]]},\"xaxis\":{\"gridcolor\":\"white\",\"linecolor\":\"white\",\"ticks\":\"\",\"title\":{\"standoff\":15},\"zerolinecolor\":\"white\",\"automargin\":true,\"zerolinewidth\":2},\"yaxis\":{\"gridcolor\":\"white\",\"linecolor\":\"white\",\"ticks\":\"\",\"title\":{\"standoff\":15},\"zerolinecolor\":\"white\",\"automargin\":true,\"zerolinewidth\":2},\"scene\":{\"xaxis\":{\"backgroundcolor\":\"#E5ECF6\",\"gridcolor\":\"white\",\"linecolor\":\"white\",\"showbackground\":true,\"ticks\":\"\",\"zerolinecolor\":\"white\",\"gridwidth\":2},\"yaxis\":{\"backgroundcolor\":\"#E5ECF6\",\"gridcolor\":\"white\",\"linecolor\":\"white\",\"showbackground\":true,\"ticks\":\"\",\"zerolinecolor\":\"white\",\"gridwidth\":2},\"zaxis\":{\"backgroundcolor\":\"#E5ECF6\",\"gridcolor\":\"white\",\"linecolor\":\"white\",\"showbackground\":true,\"ticks\":\"\",\"zerolinecolor\":\"white\",\"gridwidth\":2}},\"shapedefaults\":{\"line\":{\"color\":\"#2a3f5f\"}},\"annotationdefaults\":{\"arrowcolor\":\"#2a3f5f\",\"arrowhead\":0,\"arrowwidth\":1},\"geo\":{\"bgcolor\":\"white\",\"landcolor\":\"#E5ECF6\",\"subunitcolor\":\"white\",\"showland\":true,\"showlakes\":true,\"lakecolor\":\"white\"},\"title\":{\"x\":0.05},\"mapbox\":{\"style\":\"light\"}}}},                        {\"responsive\": true}                    ).then(function(){\n",
              "                            \n",
              "var gd = document.getElementById('a07df68b-339c-46b4-8131-45b0ebfa3d07');\n",
              "var x = new MutationObserver(function (mutations, observer) {{\n",
              "        var display = window.getComputedStyle(gd).display;\n",
              "        if (!display || display === 'none') {{\n",
              "            console.log([gd, 'removed!']);\n",
              "            Plotly.purge(gd);\n",
              "            observer.disconnect();\n",
              "        }}\n",
              "}});\n",
              "\n",
              "// Listen for the removal of the full notebook cells\n",
              "var notebookContainer = gd.closest('#notebook-container');\n",
              "if (notebookContainer) {{\n",
              "    x.observe(notebookContainer, {childList: true});\n",
              "}}\n",
              "\n",
              "// Listen for the clearing of the current output cell\n",
              "var outputEl = gd.closest('.output');\n",
              "if (outputEl) {{\n",
              "    x.observe(outputEl, {childList: true});\n",
              "}}\n",
              "\n",
              "                        })                };                            </script>        </div>\n",
              "</body>\n",
              "</html>"
            ]
          },
          "metadata": {}
        }
      ]
    },
    {
      "cell_type": "code",
      "source": [
        "trace_is_booked = go.Pie(labels =['is_mobile','Not_mobile'], values = is_booked.groupby(['is_mobile'])['is_booking'].count() / len(is_booked))\n",
        "\n",
        "data = [trace_is_booked]\n",
        "\n",
        "fig = go.Figure(data=data)\n",
        "\n",
        "fig.show()"
      ],
      "metadata": {
        "colab": {
          "base_uri": "https://localhost:8080/",
          "height": 542
        },
        "id": "WKjfeRNc87b2",
        "outputId": "2882f202-f18d-402e-c753-8e41795c463d"
      },
      "id": "WKjfeRNc87b2",
      "execution_count": null,
      "outputs": [
        {
          "output_type": "display_data",
          "data": {
            "text/html": [
              "<html>\n",
              "<head><meta charset=\"utf-8\" /></head>\n",
              "<body>\n",
              "    <div>            <script src=\"https://cdnjs.cloudflare.com/ajax/libs/mathjax/2.7.5/MathJax.js?config=TeX-AMS-MML_SVG\"></script><script type=\"text/javascript\">if (window.MathJax && window.MathJax.Hub && window.MathJax.Hub.Config) {window.MathJax.Hub.Config({SVG: {font: \"STIX-Web\"}});}</script>                <script type=\"text/javascript\">window.PlotlyConfig = {MathJaxConfig: 'local'};</script>\n",
              "        <script charset=\"utf-8\" src=\"https://cdn.plot.ly/plotly-2.24.1.min.js\"></script>                <div id=\"606dbb83-e76c-4d89-a5b3-c1f1bf572a8c\" class=\"plotly-graph-div\" style=\"height:525px; width:100%;\"></div>            <script type=\"text/javascript\">                                    window.PLOTLYENV=window.PLOTLYENV || {};                                    if (document.getElementById(\"606dbb83-e76c-4d89-a5b3-c1f1bf572a8c\")) {                    Plotly.newPlot(                        \"606dbb83-e76c-4d89-a5b3-c1f1bf572a8c\",                        [{\"labels\":[\"is_mobile\",\"Not_mobile\"],\"values\":[0.9026375389617551,0.09736246103824485],\"type\":\"pie\"}],                        {\"template\":{\"data\":{\"histogram2dcontour\":[{\"type\":\"histogram2dcontour\",\"colorbar\":{\"outlinewidth\":0,\"ticks\":\"\"},\"colorscale\":[[0.0,\"#0d0887\"],[0.1111111111111111,\"#46039f\"],[0.2222222222222222,\"#7201a8\"],[0.3333333333333333,\"#9c179e\"],[0.4444444444444444,\"#bd3786\"],[0.5555555555555556,\"#d8576b\"],[0.6666666666666666,\"#ed7953\"],[0.7777777777777778,\"#fb9f3a\"],[0.8888888888888888,\"#fdca26\"],[1.0,\"#f0f921\"]]}],\"choropleth\":[{\"type\":\"choropleth\",\"colorbar\":{\"outlinewidth\":0,\"ticks\":\"\"}}],\"histogram2d\":[{\"type\":\"histogram2d\",\"colorbar\":{\"outlinewidth\":0,\"ticks\":\"\"},\"colorscale\":[[0.0,\"#0d0887\"],[0.1111111111111111,\"#46039f\"],[0.2222222222222222,\"#7201a8\"],[0.3333333333333333,\"#9c179e\"],[0.4444444444444444,\"#bd3786\"],[0.5555555555555556,\"#d8576b\"],[0.6666666666666666,\"#ed7953\"],[0.7777777777777778,\"#fb9f3a\"],[0.8888888888888888,\"#fdca26\"],[1.0,\"#f0f921\"]]}],\"heatmap\":[{\"type\":\"heatmap\",\"colorbar\":{\"outlinewidth\":0,\"ticks\":\"\"},\"colorscale\":[[0.0,\"#0d0887\"],[0.1111111111111111,\"#46039f\"],[0.2222222222222222,\"#7201a8\"],[0.3333333333333333,\"#9c179e\"],[0.4444444444444444,\"#bd3786\"],[0.5555555555555556,\"#d8576b\"],[0.6666666666666666,\"#ed7953\"],[0.7777777777777778,\"#fb9f3a\"],[0.8888888888888888,\"#fdca26\"],[1.0,\"#f0f921\"]]}],\"heatmapgl\":[{\"type\":\"heatmapgl\",\"colorbar\":{\"outlinewidth\":0,\"ticks\":\"\"},\"colorscale\":[[0.0,\"#0d0887\"],[0.1111111111111111,\"#46039f\"],[0.2222222222222222,\"#7201a8\"],[0.3333333333333333,\"#9c179e\"],[0.4444444444444444,\"#bd3786\"],[0.5555555555555556,\"#d8576b\"],[0.6666666666666666,\"#ed7953\"],[0.7777777777777778,\"#fb9f3a\"],[0.8888888888888888,\"#fdca26\"],[1.0,\"#f0f921\"]]}],\"contourcarpet\":[{\"type\":\"contourcarpet\",\"colorbar\":{\"outlinewidth\":0,\"ticks\":\"\"}}],\"contour\":[{\"type\":\"contour\",\"colorbar\":{\"outlinewidth\":0,\"ticks\":\"\"},\"colorscale\":[[0.0,\"#0d0887\"],[0.1111111111111111,\"#46039f\"],[0.2222222222222222,\"#7201a8\"],[0.3333333333333333,\"#9c179e\"],[0.4444444444444444,\"#bd3786\"],[0.5555555555555556,\"#d8576b\"],[0.6666666666666666,\"#ed7953\"],[0.7777777777777778,\"#fb9f3a\"],[0.8888888888888888,\"#fdca26\"],[1.0,\"#f0f921\"]]}],\"surface\":[{\"type\":\"surface\",\"colorbar\":{\"outlinewidth\":0,\"ticks\":\"\"},\"colorscale\":[[0.0,\"#0d0887\"],[0.1111111111111111,\"#46039f\"],[0.2222222222222222,\"#7201a8\"],[0.3333333333333333,\"#9c179e\"],[0.4444444444444444,\"#bd3786\"],[0.5555555555555556,\"#d8576b\"],[0.6666666666666666,\"#ed7953\"],[0.7777777777777778,\"#fb9f3a\"],[0.8888888888888888,\"#fdca26\"],[1.0,\"#f0f921\"]]}],\"mesh3d\":[{\"type\":\"mesh3d\",\"colorbar\":{\"outlinewidth\":0,\"ticks\":\"\"}}],\"scatter\":[{\"fillpattern\":{\"fillmode\":\"overlay\",\"size\":10,\"solidity\":0.2},\"type\":\"scatter\"}],\"parcoords\":[{\"type\":\"parcoords\",\"line\":{\"colorbar\":{\"outlinewidth\":0,\"ticks\":\"\"}}}],\"scatterpolargl\":[{\"type\":\"scatterpolargl\",\"marker\":{\"colorbar\":{\"outlinewidth\":0,\"ticks\":\"\"}}}],\"bar\":[{\"error_x\":{\"color\":\"#2a3f5f\"},\"error_y\":{\"color\":\"#2a3f5f\"},\"marker\":{\"line\":{\"color\":\"#E5ECF6\",\"width\":0.5},\"pattern\":{\"fillmode\":\"overlay\",\"size\":10,\"solidity\":0.2}},\"type\":\"bar\"}],\"scattergeo\":[{\"type\":\"scattergeo\",\"marker\":{\"colorbar\":{\"outlinewidth\":0,\"ticks\":\"\"}}}],\"scatterpolar\":[{\"type\":\"scatterpolar\",\"marker\":{\"colorbar\":{\"outlinewidth\":0,\"ticks\":\"\"}}}],\"histogram\":[{\"marker\":{\"pattern\":{\"fillmode\":\"overlay\",\"size\":10,\"solidity\":0.2}},\"type\":\"histogram\"}],\"scattergl\":[{\"type\":\"scattergl\",\"marker\":{\"colorbar\":{\"outlinewidth\":0,\"ticks\":\"\"}}}],\"scatter3d\":[{\"type\":\"scatter3d\",\"line\":{\"colorbar\":{\"outlinewidth\":0,\"ticks\":\"\"}},\"marker\":{\"colorbar\":{\"outlinewidth\":0,\"ticks\":\"\"}}}],\"scattermapbox\":[{\"type\":\"scattermapbox\",\"marker\":{\"colorbar\":{\"outlinewidth\":0,\"ticks\":\"\"}}}],\"scatterternary\":[{\"type\":\"scatterternary\",\"marker\":{\"colorbar\":{\"outlinewidth\":0,\"ticks\":\"\"}}}],\"scattercarpet\":[{\"type\":\"scattercarpet\",\"marker\":{\"colorbar\":{\"outlinewidth\":0,\"ticks\":\"\"}}}],\"carpet\":[{\"aaxis\":{\"endlinecolor\":\"#2a3f5f\",\"gridcolor\":\"white\",\"linecolor\":\"white\",\"minorgridcolor\":\"white\",\"startlinecolor\":\"#2a3f5f\"},\"baxis\":{\"endlinecolor\":\"#2a3f5f\",\"gridcolor\":\"white\",\"linecolor\":\"white\",\"minorgridcolor\":\"white\",\"startlinecolor\":\"#2a3f5f\"},\"type\":\"carpet\"}],\"table\":[{\"cells\":{\"fill\":{\"color\":\"#EBF0F8\"},\"line\":{\"color\":\"white\"}},\"header\":{\"fill\":{\"color\":\"#C8D4E3\"},\"line\":{\"color\":\"white\"}},\"type\":\"table\"}],\"barpolar\":[{\"marker\":{\"line\":{\"color\":\"#E5ECF6\",\"width\":0.5},\"pattern\":{\"fillmode\":\"overlay\",\"size\":10,\"solidity\":0.2}},\"type\":\"barpolar\"}],\"pie\":[{\"automargin\":true,\"type\":\"pie\"}]},\"layout\":{\"autotypenumbers\":\"strict\",\"colorway\":[\"#636efa\",\"#EF553B\",\"#00cc96\",\"#ab63fa\",\"#FFA15A\",\"#19d3f3\",\"#FF6692\",\"#B6E880\",\"#FF97FF\",\"#FECB52\"],\"font\":{\"color\":\"#2a3f5f\"},\"hovermode\":\"closest\",\"hoverlabel\":{\"align\":\"left\"},\"paper_bgcolor\":\"white\",\"plot_bgcolor\":\"#E5ECF6\",\"polar\":{\"bgcolor\":\"#E5ECF6\",\"angularaxis\":{\"gridcolor\":\"white\",\"linecolor\":\"white\",\"ticks\":\"\"},\"radialaxis\":{\"gridcolor\":\"white\",\"linecolor\":\"white\",\"ticks\":\"\"}},\"ternary\":{\"bgcolor\":\"#E5ECF6\",\"aaxis\":{\"gridcolor\":\"white\",\"linecolor\":\"white\",\"ticks\":\"\"},\"baxis\":{\"gridcolor\":\"white\",\"linecolor\":\"white\",\"ticks\":\"\"},\"caxis\":{\"gridcolor\":\"white\",\"linecolor\":\"white\",\"ticks\":\"\"}},\"coloraxis\":{\"colorbar\":{\"outlinewidth\":0,\"ticks\":\"\"}},\"colorscale\":{\"sequential\":[[0.0,\"#0d0887\"],[0.1111111111111111,\"#46039f\"],[0.2222222222222222,\"#7201a8\"],[0.3333333333333333,\"#9c179e\"],[0.4444444444444444,\"#bd3786\"],[0.5555555555555556,\"#d8576b\"],[0.6666666666666666,\"#ed7953\"],[0.7777777777777778,\"#fb9f3a\"],[0.8888888888888888,\"#fdca26\"],[1.0,\"#f0f921\"]],\"sequentialminus\":[[0.0,\"#0d0887\"],[0.1111111111111111,\"#46039f\"],[0.2222222222222222,\"#7201a8\"],[0.3333333333333333,\"#9c179e\"],[0.4444444444444444,\"#bd3786\"],[0.5555555555555556,\"#d8576b\"],[0.6666666666666666,\"#ed7953\"],[0.7777777777777778,\"#fb9f3a\"],[0.8888888888888888,\"#fdca26\"],[1.0,\"#f0f921\"]],\"diverging\":[[0,\"#8e0152\"],[0.1,\"#c51b7d\"],[0.2,\"#de77ae\"],[0.3,\"#f1b6da\"],[0.4,\"#fde0ef\"],[0.5,\"#f7f7f7\"],[0.6,\"#e6f5d0\"],[0.7,\"#b8e186\"],[0.8,\"#7fbc41\"],[0.9,\"#4d9221\"],[1,\"#276419\"]]},\"xaxis\":{\"gridcolor\":\"white\",\"linecolor\":\"white\",\"ticks\":\"\",\"title\":{\"standoff\":15},\"zerolinecolor\":\"white\",\"automargin\":true,\"zerolinewidth\":2},\"yaxis\":{\"gridcolor\":\"white\",\"linecolor\":\"white\",\"ticks\":\"\",\"title\":{\"standoff\":15},\"zerolinecolor\":\"white\",\"automargin\":true,\"zerolinewidth\":2},\"scene\":{\"xaxis\":{\"backgroundcolor\":\"#E5ECF6\",\"gridcolor\":\"white\",\"linecolor\":\"white\",\"showbackground\":true,\"ticks\":\"\",\"zerolinecolor\":\"white\",\"gridwidth\":2},\"yaxis\":{\"backgroundcolor\":\"#E5ECF6\",\"gridcolor\":\"white\",\"linecolor\":\"white\",\"showbackground\":true,\"ticks\":\"\",\"zerolinecolor\":\"white\",\"gridwidth\":2},\"zaxis\":{\"backgroundcolor\":\"#E5ECF6\",\"gridcolor\":\"white\",\"linecolor\":\"white\",\"showbackground\":true,\"ticks\":\"\",\"zerolinecolor\":\"white\",\"gridwidth\":2}},\"shapedefaults\":{\"line\":{\"color\":\"#2a3f5f\"}},\"annotationdefaults\":{\"arrowcolor\":\"#2a3f5f\",\"arrowhead\":0,\"arrowwidth\":1},\"geo\":{\"bgcolor\":\"white\",\"landcolor\":\"#E5ECF6\",\"subunitcolor\":\"white\",\"showland\":true,\"showlakes\":true,\"lakecolor\":\"white\"},\"title\":{\"x\":0.05},\"mapbox\":{\"style\":\"light\"}}}},                        {\"responsive\": true}                    ).then(function(){\n",
              "                            \n",
              "var gd = document.getElementById('606dbb83-e76c-4d89-a5b3-c1f1bf572a8c');\n",
              "var x = new MutationObserver(function (mutations, observer) {{\n",
              "        var display = window.getComputedStyle(gd).display;\n",
              "        if (!display || display === 'none') {{\n",
              "            console.log([gd, 'removed!']);\n",
              "            Plotly.purge(gd);\n",
              "            observer.disconnect();\n",
              "        }}\n",
              "}});\n",
              "\n",
              "// Listen for the removal of the full notebook cells\n",
              "var notebookContainer = gd.closest('#notebook-container');\n",
              "if (notebookContainer) {{\n",
              "    x.observe(notebookContainer, {childList: true});\n",
              "}}\n",
              "\n",
              "// Listen for the clearing of the current output cell\n",
              "var outputEl = gd.closest('.output');\n",
              "if (outputEl) {{\n",
              "    x.observe(outputEl, {childList: true});\n",
              "}}\n",
              "\n",
              "                        })                };                            </script>        </div>\n",
              "</body>\n",
              "</html>"
            ]
          },
          "metadata": {}
        }
      ]
    },
    {
      "cell_type": "code",
      "execution_count": 19,
      "id": "3e8987ac-64cf-4fac-b8ea-6673382a6dcf",
      "metadata": {
        "id": "3e8987ac-64cf-4fac-b8ea-6673382a6dcf"
      },
      "outputs": [],
      "source": [
        "dummy_columns = ['n_children', 'n_rooms', 'destination_type']\n",
        "\n",
        "train = pd.get_dummies(train, columns = dummy_columns, dtype=int)\n",
        "test = pd.get_dummies(test, columns = dummy_columns, dtype=int)"
      ]
    },
    {
      "cell_type": "code",
      "source": [
        "for i in train.columns:\n",
        "  if i not in test.columns:\n",
        "    print(i)"
      ],
      "metadata": {
        "id": "Rxkr-AoRC6iK",
        "outputId": "c80f1794-789c-4e96-e107-c9b1d3669493",
        "colab": {
          "base_uri": "https://localhost:8080/"
        }
      },
      "id": "Rxkr-AoRC6iK",
      "execution_count": 27,
      "outputs": [
        {
          "output_type": "stream",
          "name": "stdout",
          "text": [
            "is_booking\n",
            "destination_type_0\n"
          ]
        }
      ]
    },
    {
      "cell_type": "code",
      "source": [
        "dummy_columns = ['n_adults', 'search_count']\n",
        "\n",
        "train = pd.get_dummies(train, columns = dummy_columns, dtype=int)\n",
        "test = pd.get_dummies(test, columns = dummy_columns, dtype=int)"
      ],
      "metadata": {
        "id": "T_lLmNvS_LGK"
      },
      "id": "T_lLmNvS_LGK",
      "execution_count": null,
      "outputs": []
    },
    {
      "cell_type": "code",
      "source": [
        "#test['channel_10'] = 0\n",
        "test['destination_type_0'] = 0"
      ],
      "metadata": {
        "id": "i1zaKyB2AW06"
      },
      "id": "i1zaKyB2AW06",
      "execution_count": 20,
      "outputs": []
    },
    {
      "cell_type": "code",
      "source": [
        "train.shape"
      ],
      "metadata": {
        "id": "0gcIsX9iBlT1",
        "outputId": "1eb88d8b-35dd-4a60-f4a9-b0962e2f76bf",
        "colab": {
          "base_uri": "https://localhost:8080/"
        }
      },
      "id": "0gcIsX9iBlT1",
      "execution_count": 41,
      "outputs": [
        {
          "output_type": "execute_result",
          "data": {
            "text/plain": [
              "(7608708, 45)"
            ]
          },
          "metadata": {},
          "execution_count": 41
        }
      ]
    },
    {
      "cell_type": "code",
      "source": [
        "test.shape"
      ],
      "metadata": {
        "id": "pzdT1XSUBoFj",
        "outputId": "ac6d43da-6a71-482c-e80b-c145a268330f",
        "colab": {
          "base_uri": "https://localhost:8080/"
        }
      },
      "id": "pzdT1XSUBoFj",
      "execution_count": 42,
      "outputs": [
        {
          "output_type": "execute_result",
          "data": {
            "text/plain": [
              "(325821, 45)"
            ]
          },
          "metadata": {},
          "execution_count": 42
        }
      ]
    },
    {
      "cell_type": "code",
      "source": [
        "for column in train.columns:\n",
        "  mean = train[column].mean()\n",
        "  std = train[column].std()\n",
        "  if column != 'is_booking':\n",
        "      train[column] = (train[column]- mean)/std\n",
        "      test[column]=  (test[column] - mean)/std\n",
        "\n",
        "test.head()"
      ],
      "metadata": {
        "colab": {
          "base_uri": "https://localhost:8080/",
          "height": 256
        },
        "id": "1HctS6sB8xrM",
        "outputId": "b2772d85-4002-458f-97ee-cee595ffec0a"
      },
      "id": "1HctS6sB8xrM",
      "execution_count": 18,
      "outputs": [
        {
          "output_type": "execute_result",
          "data": {
            "text/plain": [
              "      destination_distance  is_mobile  is_package   channel  search_count  \\\n",
              "0  0             -0.405571  -0.388874   -0.564091  0.806705     -0.414987   \n",
              "1  1              3.047688  -0.388874   -0.564091 -1.617266     -0.414987   \n",
              "2  2             -0.624047  -0.388874    1.772764  0.806705     -0.414987   \n",
              "3  3              0.399848  -0.388874   -0.564091  0.806705     -0.414987   \n",
              "4  4              0.401400  -0.388874   -0.564091  0.806705     -0.414987   \n",
              "\n",
              "   n_adults  n_children   n_rooms  destination  ...  hotel_market  \\\n",
              "0  2.216061   -0.480786 -0.246051    -1.228194  ...      1.000207   \n",
              "1 -1.121734   -0.480786 -0.246051    -0.516692  ...      0.795520   \n",
              "2 -1.121734   -0.480786 -0.246051    -0.566447  ...     -1.141138   \n",
              "3 -0.009136   -0.480786  1.967806    -0.564064  ...      1.242289   \n",
              "4 -0.009136   -0.480786 -0.246051     4.101610  ...      2.883725   \n",
              "\n",
              "   hotel_category  duration  days_between  search_date_hour  \\\n",
              "0       -0.370850 -0.778692     -0.632595         -0.277550   \n",
              "1        0.250071 -0.778692     -0.650075         -0.101858   \n",
              "2        0.698513 -0.778692     -0.545193          0.425220   \n",
              "3       -0.991770 -0.778692     -0.789918         -0.277550   \n",
              "4        0.112088  0.240977     -0.597634         -0.453243   \n",
              "\n",
              "   search_date_dayofweek  checkIn_date_dayofweek  search_date_month  \\\n",
              "0              -1.500006                0.947868           1.718661   \n",
              "1              -1.500006                0.420978           1.718661   \n",
              "2              -1.500006               -0.105912           1.718661   \n",
              "3              -1.500006               -0.105912           1.718661   \n",
              "4              -1.500006               -1.686582           1.718661   \n",
              "\n",
              "   checkIn_date_month  is_abroad  \n",
              "0             1.51101  -0.035778  \n",
              "1             1.51101  -0.035778  \n",
              "2             1.51101  -0.035778  \n",
              "3             1.51101  -0.035778  \n",
              "4             1.51101  -0.035778  \n",
              "\n",
              "[5 rows x 21 columns]"
            ],
            "text/html": [
              "\n",
              "  <div id=\"df-ce1edb2e-4ad6-4af0-b3d5-08ee80cd5269\" class=\"colab-df-container\">\n",
              "    <div>\n",
              "<style scoped>\n",
              "    .dataframe tbody tr th:only-of-type {\n",
              "        vertical-align: middle;\n",
              "    }\n",
              "\n",
              "    .dataframe tbody tr th {\n",
              "        vertical-align: top;\n",
              "    }\n",
              "\n",
              "    .dataframe thead th {\n",
              "        text-align: right;\n",
              "    }\n",
              "</style>\n",
              "<table border=\"1\" class=\"dataframe\">\n",
              "  <thead>\n",
              "    <tr style=\"text-align: right;\">\n",
              "      <th></th>\n",
              "      <th></th>\n",
              "      <th>destination_distance</th>\n",
              "      <th>is_mobile</th>\n",
              "      <th>is_package</th>\n",
              "      <th>channel</th>\n",
              "      <th>search_count</th>\n",
              "      <th>n_adults</th>\n",
              "      <th>n_children</th>\n",
              "      <th>n_rooms</th>\n",
              "      <th>destination</th>\n",
              "      <th>...</th>\n",
              "      <th>hotel_market</th>\n",
              "      <th>hotel_category</th>\n",
              "      <th>duration</th>\n",
              "      <th>days_between</th>\n",
              "      <th>search_date_hour</th>\n",
              "      <th>search_date_dayofweek</th>\n",
              "      <th>checkIn_date_dayofweek</th>\n",
              "      <th>search_date_month</th>\n",
              "      <th>checkIn_date_month</th>\n",
              "      <th>is_abroad</th>\n",
              "    </tr>\n",
              "  </thead>\n",
              "  <tbody>\n",
              "    <tr>\n",
              "      <th>0</th>\n",
              "      <td>0</td>\n",
              "      <td>-0.405571</td>\n",
              "      <td>-0.388874</td>\n",
              "      <td>-0.564091</td>\n",
              "      <td>0.806705</td>\n",
              "      <td>-0.414987</td>\n",
              "      <td>2.216061</td>\n",
              "      <td>-0.480786</td>\n",
              "      <td>-0.246051</td>\n",
              "      <td>-1.228194</td>\n",
              "      <td>...</td>\n",
              "      <td>1.000207</td>\n",
              "      <td>-0.370850</td>\n",
              "      <td>-0.778692</td>\n",
              "      <td>-0.632595</td>\n",
              "      <td>-0.277550</td>\n",
              "      <td>-1.500006</td>\n",
              "      <td>0.947868</td>\n",
              "      <td>1.718661</td>\n",
              "      <td>1.51101</td>\n",
              "      <td>-0.035778</td>\n",
              "    </tr>\n",
              "    <tr>\n",
              "      <th>1</th>\n",
              "      <td>1</td>\n",
              "      <td>3.047688</td>\n",
              "      <td>-0.388874</td>\n",
              "      <td>-0.564091</td>\n",
              "      <td>-1.617266</td>\n",
              "      <td>-0.414987</td>\n",
              "      <td>-1.121734</td>\n",
              "      <td>-0.480786</td>\n",
              "      <td>-0.246051</td>\n",
              "      <td>-0.516692</td>\n",
              "      <td>...</td>\n",
              "      <td>0.795520</td>\n",
              "      <td>0.250071</td>\n",
              "      <td>-0.778692</td>\n",
              "      <td>-0.650075</td>\n",
              "      <td>-0.101858</td>\n",
              "      <td>-1.500006</td>\n",
              "      <td>0.420978</td>\n",
              "      <td>1.718661</td>\n",
              "      <td>1.51101</td>\n",
              "      <td>-0.035778</td>\n",
              "    </tr>\n",
              "    <tr>\n",
              "      <th>2</th>\n",
              "      <td>2</td>\n",
              "      <td>-0.624047</td>\n",
              "      <td>-0.388874</td>\n",
              "      <td>1.772764</td>\n",
              "      <td>0.806705</td>\n",
              "      <td>-0.414987</td>\n",
              "      <td>-1.121734</td>\n",
              "      <td>-0.480786</td>\n",
              "      <td>-0.246051</td>\n",
              "      <td>-0.566447</td>\n",
              "      <td>...</td>\n",
              "      <td>-1.141138</td>\n",
              "      <td>0.698513</td>\n",
              "      <td>-0.778692</td>\n",
              "      <td>-0.545193</td>\n",
              "      <td>0.425220</td>\n",
              "      <td>-1.500006</td>\n",
              "      <td>-0.105912</td>\n",
              "      <td>1.718661</td>\n",
              "      <td>1.51101</td>\n",
              "      <td>-0.035778</td>\n",
              "    </tr>\n",
              "    <tr>\n",
              "      <th>3</th>\n",
              "      <td>3</td>\n",
              "      <td>0.399848</td>\n",
              "      <td>-0.388874</td>\n",
              "      <td>-0.564091</td>\n",
              "      <td>0.806705</td>\n",
              "      <td>-0.414987</td>\n",
              "      <td>-0.009136</td>\n",
              "      <td>-0.480786</td>\n",
              "      <td>1.967806</td>\n",
              "      <td>-0.564064</td>\n",
              "      <td>...</td>\n",
              "      <td>1.242289</td>\n",
              "      <td>-0.991770</td>\n",
              "      <td>-0.778692</td>\n",
              "      <td>-0.789918</td>\n",
              "      <td>-0.277550</td>\n",
              "      <td>-1.500006</td>\n",
              "      <td>-0.105912</td>\n",
              "      <td>1.718661</td>\n",
              "      <td>1.51101</td>\n",
              "      <td>-0.035778</td>\n",
              "    </tr>\n",
              "    <tr>\n",
              "      <th>4</th>\n",
              "      <td>4</td>\n",
              "      <td>0.401400</td>\n",
              "      <td>-0.388874</td>\n",
              "      <td>-0.564091</td>\n",
              "      <td>0.806705</td>\n",
              "      <td>-0.414987</td>\n",
              "      <td>-0.009136</td>\n",
              "      <td>-0.480786</td>\n",
              "      <td>-0.246051</td>\n",
              "      <td>4.101610</td>\n",
              "      <td>...</td>\n",
              "      <td>2.883725</td>\n",
              "      <td>0.112088</td>\n",
              "      <td>0.240977</td>\n",
              "      <td>-0.597634</td>\n",
              "      <td>-0.453243</td>\n",
              "      <td>-1.500006</td>\n",
              "      <td>-1.686582</td>\n",
              "      <td>1.718661</td>\n",
              "      <td>1.51101</td>\n",
              "      <td>-0.035778</td>\n",
              "    </tr>\n",
              "  </tbody>\n",
              "</table>\n",
              "<p>5 rows × 21 columns</p>\n",
              "</div>\n",
              "    <div class=\"colab-df-buttons\">\n",
              "\n",
              "  <div class=\"colab-df-container\">\n",
              "    <button class=\"colab-df-convert\" onclick=\"convertToInteractive('df-ce1edb2e-4ad6-4af0-b3d5-08ee80cd5269')\"\n",
              "            title=\"Convert this dataframe to an interactive table.\"\n",
              "            style=\"display:none;\">\n",
              "\n",
              "  <svg xmlns=\"http://www.w3.org/2000/svg\" height=\"24px\" viewBox=\"0 -960 960 960\">\n",
              "    <path d=\"M120-120v-720h720v720H120Zm60-500h600v-160H180v160Zm220 220h160v-160H400v160Zm0 220h160v-160H400v160ZM180-400h160v-160H180v160Zm440 0h160v-160H620v160ZM180-180h160v-160H180v160Zm440 0h160v-160H620v160Z\"/>\n",
              "  </svg>\n",
              "    </button>\n",
              "\n",
              "  <style>\n",
              "    .colab-df-container {\n",
              "      display:flex;\n",
              "      gap: 12px;\n",
              "    }\n",
              "\n",
              "    .colab-df-convert {\n",
              "      background-color: #E8F0FE;\n",
              "      border: none;\n",
              "      border-radius: 50%;\n",
              "      cursor: pointer;\n",
              "      display: none;\n",
              "      fill: #1967D2;\n",
              "      height: 32px;\n",
              "      padding: 0 0 0 0;\n",
              "      width: 32px;\n",
              "    }\n",
              "\n",
              "    .colab-df-convert:hover {\n",
              "      background-color: #E2EBFA;\n",
              "      box-shadow: 0px 1px 2px rgba(60, 64, 67, 0.3), 0px 1px 3px 1px rgba(60, 64, 67, 0.15);\n",
              "      fill: #174EA6;\n",
              "    }\n",
              "\n",
              "    .colab-df-buttons div {\n",
              "      margin-bottom: 4px;\n",
              "    }\n",
              "\n",
              "    [theme=dark] .colab-df-convert {\n",
              "      background-color: #3B4455;\n",
              "      fill: #D2E3FC;\n",
              "    }\n",
              "\n",
              "    [theme=dark] .colab-df-convert:hover {\n",
              "      background-color: #434B5C;\n",
              "      box-shadow: 0px 1px 3px 1px rgba(0, 0, 0, 0.15);\n",
              "      filter: drop-shadow(0px 1px 2px rgba(0, 0, 0, 0.3));\n",
              "      fill: #FFFFFF;\n",
              "    }\n",
              "  </style>\n",
              "\n",
              "    <script>\n",
              "      const buttonEl =\n",
              "        document.querySelector('#df-ce1edb2e-4ad6-4af0-b3d5-08ee80cd5269 button.colab-df-convert');\n",
              "      buttonEl.style.display =\n",
              "        google.colab.kernel.accessAllowed ? 'block' : 'none';\n",
              "\n",
              "      async function convertToInteractive(key) {\n",
              "        const element = document.querySelector('#df-ce1edb2e-4ad6-4af0-b3d5-08ee80cd5269');\n",
              "        const dataTable =\n",
              "          await google.colab.kernel.invokeFunction('convertToInteractive',\n",
              "                                                    [key], {});\n",
              "        if (!dataTable) return;\n",
              "\n",
              "        const docLinkHtml = 'Like what you see? Visit the ' +\n",
              "          '<a target=\"_blank\" href=https://colab.research.google.com/notebooks/data_table.ipynb>data table notebook</a>'\n",
              "          + ' to learn more about interactive tables.';\n",
              "        element.innerHTML = '';\n",
              "        dataTable['output_type'] = 'display_data';\n",
              "        await google.colab.output.renderOutput(dataTable, element);\n",
              "        const docLink = document.createElement('div');\n",
              "        docLink.innerHTML = docLinkHtml;\n",
              "        element.appendChild(docLink);\n",
              "      }\n",
              "    </script>\n",
              "  </div>\n",
              "\n",
              "\n",
              "<div id=\"df-7fb8c8c3-1c93-4eab-8cb4-532fa513253d\">\n",
              "  <button class=\"colab-df-quickchart\" onclick=\"quickchart('df-7fb8c8c3-1c93-4eab-8cb4-532fa513253d')\"\n",
              "            title=\"Suggest charts\"\n",
              "            style=\"display:none;\">\n",
              "\n",
              "<svg xmlns=\"http://www.w3.org/2000/svg\" height=\"24px\"viewBox=\"0 0 24 24\"\n",
              "     width=\"24px\">\n",
              "    <g>\n",
              "        <path d=\"M19 3H5c-1.1 0-2 .9-2 2v14c0 1.1.9 2 2 2h14c1.1 0 2-.9 2-2V5c0-1.1-.9-2-2-2zM9 17H7v-7h2v7zm4 0h-2V7h2v10zm4 0h-2v-4h2v4z\"/>\n",
              "    </g>\n",
              "</svg>\n",
              "  </button>\n",
              "\n",
              "<style>\n",
              "  .colab-df-quickchart {\n",
              "      --bg-color: #E8F0FE;\n",
              "      --fill-color: #1967D2;\n",
              "      --hover-bg-color: #E2EBFA;\n",
              "      --hover-fill-color: #174EA6;\n",
              "      --disabled-fill-color: #AAA;\n",
              "      --disabled-bg-color: #DDD;\n",
              "  }\n",
              "\n",
              "  [theme=dark] .colab-df-quickchart {\n",
              "      --bg-color: #3B4455;\n",
              "      --fill-color: #D2E3FC;\n",
              "      --hover-bg-color: #434B5C;\n",
              "      --hover-fill-color: #FFFFFF;\n",
              "      --disabled-bg-color: #3B4455;\n",
              "      --disabled-fill-color: #666;\n",
              "  }\n",
              "\n",
              "  .colab-df-quickchart {\n",
              "    background-color: var(--bg-color);\n",
              "    border: none;\n",
              "    border-radius: 50%;\n",
              "    cursor: pointer;\n",
              "    display: none;\n",
              "    fill: var(--fill-color);\n",
              "    height: 32px;\n",
              "    padding: 0;\n",
              "    width: 32px;\n",
              "  }\n",
              "\n",
              "  .colab-df-quickchart:hover {\n",
              "    background-color: var(--hover-bg-color);\n",
              "    box-shadow: 0 1px 2px rgba(60, 64, 67, 0.3), 0 1px 3px 1px rgba(60, 64, 67, 0.15);\n",
              "    fill: var(--button-hover-fill-color);\n",
              "  }\n",
              "\n",
              "  .colab-df-quickchart-complete:disabled,\n",
              "  .colab-df-quickchart-complete:disabled:hover {\n",
              "    background-color: var(--disabled-bg-color);\n",
              "    fill: var(--disabled-fill-color);\n",
              "    box-shadow: none;\n",
              "  }\n",
              "\n",
              "  .colab-df-spinner {\n",
              "    border: 2px solid var(--fill-color);\n",
              "    border-color: transparent;\n",
              "    border-bottom-color: var(--fill-color);\n",
              "    animation:\n",
              "      spin 1s steps(1) infinite;\n",
              "  }\n",
              "\n",
              "  @keyframes spin {\n",
              "    0% {\n",
              "      border-color: transparent;\n",
              "      border-bottom-color: var(--fill-color);\n",
              "      border-left-color: var(--fill-color);\n",
              "    }\n",
              "    20% {\n",
              "      border-color: transparent;\n",
              "      border-left-color: var(--fill-color);\n",
              "      border-top-color: var(--fill-color);\n",
              "    }\n",
              "    30% {\n",
              "      border-color: transparent;\n",
              "      border-left-color: var(--fill-color);\n",
              "      border-top-color: var(--fill-color);\n",
              "      border-right-color: var(--fill-color);\n",
              "    }\n",
              "    40% {\n",
              "      border-color: transparent;\n",
              "      border-right-color: var(--fill-color);\n",
              "      border-top-color: var(--fill-color);\n",
              "    }\n",
              "    60% {\n",
              "      border-color: transparent;\n",
              "      border-right-color: var(--fill-color);\n",
              "    }\n",
              "    80% {\n",
              "      border-color: transparent;\n",
              "      border-right-color: var(--fill-color);\n",
              "      border-bottom-color: var(--fill-color);\n",
              "    }\n",
              "    90% {\n",
              "      border-color: transparent;\n",
              "      border-bottom-color: var(--fill-color);\n",
              "    }\n",
              "  }\n",
              "</style>\n",
              "\n",
              "  <script>\n",
              "    async function quickchart(key) {\n",
              "      const quickchartButtonEl =\n",
              "        document.querySelector('#' + key + ' button');\n",
              "      quickchartButtonEl.disabled = true;  // To prevent multiple clicks.\n",
              "      quickchartButtonEl.classList.add('colab-df-spinner');\n",
              "      try {\n",
              "        const charts = await google.colab.kernel.invokeFunction(\n",
              "            'suggestCharts', [key], {});\n",
              "      } catch (error) {\n",
              "        console.error('Error during call to suggestCharts:', error);\n",
              "      }\n",
              "      quickchartButtonEl.classList.remove('colab-df-spinner');\n",
              "      quickchartButtonEl.classList.add('colab-df-quickchart-complete');\n",
              "    }\n",
              "    (() => {\n",
              "      let quickchartButtonEl =\n",
              "        document.querySelector('#df-7fb8c8c3-1c93-4eab-8cb4-532fa513253d button');\n",
              "      quickchartButtonEl.style.display =\n",
              "        google.colab.kernel.accessAllowed ? 'block' : 'none';\n",
              "    })();\n",
              "  </script>\n",
              "</div>\n",
              "    </div>\n",
              "  </div>\n"
            ],
            "application/vnd.google.colaboratory.intrinsic+json": {
              "type": "dataframe",
              "variable_name": "test"
            }
          },
          "metadata": {},
          "execution_count": 18
        }
      ]
    },
    {
      "cell_type": "code",
      "execution_count": null,
      "id": "5e3fd748-321b-40c5-a660-6a5460624df1",
      "metadata": {
        "id": "5e3fd748-321b-40c5-a660-6a5460624df1"
      },
      "outputs": [],
      "source": [
        "# TODO: Preprocessing (Encode Categorical Columns) (Optional)\n",
        "\n",
        "from sklearn.preprocessing import LabelEncoder\n",
        "le = LabelEncoder()\n",
        "\n",
        "columns_to_encode = None # Optional\n",
        "\n",
        "for column in columns_to_encode:\n",
        "    train.loc[:, column] = le.fit_transform(train[column])\n",
        "    test.loc[:, column] = le.transform(test[column])"
      ]
    },
    {
      "cell_type": "code",
      "source": [
        "X = train.drop(columns=['is_booking'])\n",
        "Y = train['is_booking']"
      ],
      "metadata": {
        "id": "oG0ytFfMyzHZ"
      },
      "id": "oG0ytFfMyzHZ",
      "execution_count": 19,
      "outputs": []
    },
    {
      "cell_type": "code",
      "execution_count": 20,
      "id": "600b8882-3d22-4fa6-814b-2d4cd2401bb0",
      "metadata": {
        "id": "600b8882-3d22-4fa6-814b-2d4cd2401bb0"
      },
      "outputs": [],
      "source": [
        "from sklearn.model_selection import train_test_split\n",
        "\n",
        "X_train, X_valid, y_train, y_valid = train_test_split(X, Y, test_size = 0.2) # Optional"
      ]
    },
    {
      "cell_type": "code",
      "source": [
        "from tensorflow.keras.utils import to_categorical\n",
        "\n",
        "y_train = to_categorical(y_train, num_classes = 2)"
      ],
      "metadata": {
        "id": "TFdtH6kiwNdA"
      },
      "id": "TFdtH6kiwNdA",
      "execution_count": 21,
      "outputs": []
    },
    {
      "cell_type": "code",
      "source": [],
      "metadata": {
        "id": "V628HcZPeyeq"
      },
      "id": "V628HcZPeyeq",
      "execution_count": null,
      "outputs": []
    },
    {
      "cell_type": "code",
      "source": [
        "y_valid = to_categorical(y_valid, num_classes = 2)"
      ],
      "metadata": {
        "id": "ttXIqm_zwj59"
      },
      "id": "ttXIqm_zwj59",
      "execution_count": null,
      "outputs": []
    },
    {
      "cell_type": "code",
      "source": [
        "y_train"
      ],
      "metadata": {
        "colab": {
          "base_uri": "https://localhost:8080/"
        },
        "id": "obS1aBZ3wpp1",
        "outputId": "5478813b-a2b5-4bdb-bdd7-024eb10233fc"
      },
      "id": "obS1aBZ3wpp1",
      "execution_count": 47,
      "outputs": [
        {
          "output_type": "execute_result",
          "data": {
            "text/plain": [
              "array([[0., 1.],\n",
              "       [1., 0.],\n",
              "       [1., 0.],\n",
              "       ...,\n",
              "       [1., 0.],\n",
              "       [1., 0.],\n",
              "       [1., 0.]], dtype=float32)"
            ]
          },
          "metadata": {},
          "execution_count": 47
        }
      ]
    },
    {
      "cell_type": "markdown",
      "id": "0ff3526f-badc-4c9e-8b10-f83b7831a668",
      "metadata": {
        "id": "0ff3526f-badc-4c9e-8b10-f83b7831a668"
      },
      "source": [
        "<h2 dir=rtl align=right style=\"line-height:200%;font-family:vazir;color:#0099cc\">\n",
        "<font face=\"vazir\" color=\"#0099cc\">\n",
        "مدل‌سازی\n",
        "</font>\n",
        "</h2>\n",
        "\n",
        "\n",
        "<p dir=rtl style=\"direction: rtl; text-align: justify; line-height:200%; font-family:vazir; font-size:medium\">\n",
        "<font face=\"vazir\" size=3>\n",
        "پس از آماده‌سازی داده‌ها نوبت به ساخت شبکه‌ی عصبی می‌رسد. باز هم دست‌تان باز است تا معماری موردنظر خود را طراحی کنید و از هر تکنیکی که لازم می‌دانید جهت بهتر کردن فرآیند آموزش مدل استفاده کنید. پیشنهاد می‌کنیم تکنیک‌های مختلفی که تا اینجای دوره آموخته‌اید را آزمایش کرده و به تفسیر نتایج بپردازید.\n",
        "دقت داشته باشید در خروجی مدل باید احتمال رزرو شدن هتل را پیش‌بینی کنید. به عبارت بهتر احتمال <code>1</code>\n",
        " شدن ستون <code>is_booking</code>\n",
        " را تخمین بزنید.\n",
        "همچنین توجه داشته باشید که برای ارزیابی مدل شما از معیار <code>AUC</code> یعنی سطح زیر منحنی نمودار <code>ROC</code> استفاده می‌شود. برای مطالعه بیشتر در مورد این نمودار می‌توانید <a href = 'https://en.wikipedia.org/wiki/Receiver_operating_characteristic'> ویکی‌پدیا </a>\n",
        "    یا <a href = 'https://stanford.edu/~shervine/l/fa/teaching/cs-229/cheatsheet-machine-learning-tips-and-tricks'> راهنمای کوتاه نکات و ترفندهای یادگیری ماشین </a>\n",
        " را مطالعه کنید.\n",
        "</font>\n",
        "</p>"
      ]
    },
    {
      "cell_type": "code",
      "execution_count": 68,
      "id": "dafaffd9-0dad-4bec-aedc-ea0178c8567b",
      "metadata": {
        "id": "dafaffd9-0dad-4bec-aedc-ea0178c8567b"
      },
      "outputs": [],
      "source": [
        "model = keras.Sequential()\n",
        "model.add(keras.layers.Input(shape=(20,)))\n",
        "model.add(keras.layers.Flatten())\n",
        "'''model.add(keras.layers.Dense(15, activation='relu', kernel_initializer='he_normal'))\n",
        "model.add(keras.layers.Dropout(0.8))\n",
        "model.add(keras.layers.LayerNormalization())'''\n",
        "model.add(keras.layers.Dense(10, activation='relu', kernel_initializer='he_normal'))\n",
        "model.add(keras.layers.Dropout(0.8))\n",
        "model.add(keras.layers.LayerNormalization())\n",
        "model.add(keras.layers.Dense(2, activation='softmax'))"
      ]
    },
    {
      "cell_type": "code",
      "source": [
        "model.summary()"
      ],
      "metadata": {
        "colab": {
          "base_uri": "https://localhost:8080/"
        },
        "id": "-kFfx8qNw6Ep",
        "outputId": "ba70a8cd-d7f7-4211-ccf0-65a105616222"
      },
      "id": "-kFfx8qNw6Ep",
      "execution_count": 69,
      "outputs": [
        {
          "output_type": "stream",
          "name": "stdout",
          "text": [
            "Model: \"sequential_2\"\n",
            "_________________________________________________________________\n",
            " Layer (type)                Output Shape              Param #   \n",
            "=================================================================\n",
            " flatten_2 (Flatten)         (None, 20)                0         \n",
            "                                                                 \n",
            " dense_6 (Dense)             (None, 10)                210       \n",
            "                                                                 \n",
            " dropout_4 (Dropout)         (None, 10)                0         \n",
            "                                                                 \n",
            " layer_normalization_4 (Lay  (None, 10)                20        \n",
            " erNormalization)                                                \n",
            "                                                                 \n",
            " dense_7 (Dense)             (None, 2)                 22        \n",
            "                                                                 \n",
            "=================================================================\n",
            "Total params: 252 (1008.00 Byte)\n",
            "Trainable params: 252 (1008.00 Byte)\n",
            "Non-trainable params: 0 (0.00 Byte)\n",
            "_________________________________________________________________\n"
          ]
        }
      ]
    },
    {
      "cell_type": "code",
      "source": [
        "X_train.shape"
      ],
      "metadata": {
        "id": "sqGiBWZsZ2zH",
        "outputId": "c8693e36-ee98-45cb-9c0f-4bb4074e5989",
        "colab": {
          "base_uri": "https://localhost:8080/"
        }
      },
      "id": "sqGiBWZsZ2zH",
      "execution_count": 25,
      "outputs": [
        {
          "output_type": "execute_result",
          "data": {
            "text/plain": [
              "(6086966, 20)"
            ]
          },
          "metadata": {},
          "execution_count": 25
        }
      ]
    },
    {
      "cell_type": "code",
      "execution_count": 70,
      "id": "d478d2ef-4d53-41bf-9ca5-7aa3a6fd8f0f",
      "metadata": {
        "id": "d478d2ef-4d53-41bf-9ca5-7aa3a6fd8f0f"
      },
      "outputs": [],
      "source": [
        "model.compile(optimizer='adam',\n",
        "              loss = 'binary_crossentropy',\n",
        "              metrics = ['accuracy'])"
      ]
    },
    {
      "cell_type": "code",
      "execution_count": 71,
      "id": "482919f9-6af7-4884-a4e4-01ef25c73206",
      "metadata": {
        "id": "482919f9-6af7-4884-a4e4-01ef25c73206",
        "colab": {
          "base_uri": "https://localhost:8080/"
        },
        "outputId": "06f2fcfa-7721-44de-ff90-ff790e884ce4"
      },
      "outputs": [
        {
          "output_type": "stream",
          "name": "stdout",
          "text": [
            "Epoch 1/5\n",
            "1624/1624 [==============================] - ETA: 0s - loss: 0.3524 - accuracy: 0.8905"
          ]
        },
        {
          "output_type": "stream",
          "name": "stderr",
          "text": [
            "WARNING:tensorflow:Can save best model only with val_acc available, skipping.\n"
          ]
        },
        {
          "output_type": "stream",
          "name": "stdout",
          "text": [
            "\b\b\b\b\b\b\b\b\b\b\b\b\b\b\b\b\b\b\b\b\b\b\b\b\b\b\b\b\b\b\b\b\b\b\b\b\b\b\b\b\b\b\b\b\b\b\b\b\b\b\b\b\b\b\b\b\b\b\b\b\b\b\b\b\b\b\b\b\b\b\b\b\b\b\b\b\b\b\b\b\b\b\b\b\b\b\r1624/1624 [==============================] - 14s 8ms/step - loss: 0.3524 - accuracy: 0.8905 - val_loss: 0.2764 - val_accuracy: 0.9130\n",
            "Epoch 2/5\n",
            "1623/1624 [============================>.] - ETA: 0s - loss: 0.2868 - accuracy: 0.9130"
          ]
        },
        {
          "output_type": "stream",
          "name": "stderr",
          "text": [
            "WARNING:tensorflow:Can save best model only with val_acc available, skipping.\n"
          ]
        },
        {
          "output_type": "stream",
          "name": "stdout",
          "text": [
            "\b\b\b\b\b\b\b\b\b\b\b\b\b\b\b\b\b\b\b\b\b\b\b\b\b\b\b\b\b\b\b\b\b\b\b\b\b\b\b\b\b\b\b\b\b\b\b\b\b\b\b\b\b\b\b\b\b\b\b\b\b\b\b\b\b\b\b\b\b\b\b\b\b\b\b\b\b\b\b\b\b\b\b\b\b\b\r1624/1624 [==============================] - 8s 5ms/step - loss: 0.2868 - accuracy: 0.9130 - val_loss: 0.2734 - val_accuracy: 0.9130\n",
            "Epoch 3/5\n",
            "1621/1624 [============================>.] - ETA: 0s - loss: 0.2818 - accuracy: 0.9130"
          ]
        },
        {
          "output_type": "stream",
          "name": "stderr",
          "text": [
            "WARNING:tensorflow:Can save best model only with val_acc available, skipping.\n"
          ]
        },
        {
          "output_type": "stream",
          "name": "stdout",
          "text": [
            "\b\b\b\b\b\b\b\b\b\b\b\b\b\b\b\b\b\b\b\b\b\b\b\b\b\b\b\b\b\b\b\b\b\b\b\b\b\b\b\b\b\b\b\b\b\b\b\b\b\b\b\b\b\b\b\b\b\b\b\b\b\b\b\b\b\b\b\b\b\b\b\b\b\b\b\b\b\b\b\b\b\b\b\b\b\b\r1624/1624 [==============================] - 11s 7ms/step - loss: 0.2818 - accuracy: 0.9130 - val_loss: 0.2782 - val_accuracy: 0.9130\n",
            "Epoch 4/5\n",
            "1622/1624 [============================>.] - ETA: 0s - loss: 0.2785 - accuracy: 0.9130"
          ]
        },
        {
          "output_type": "stream",
          "name": "stderr",
          "text": [
            "WARNING:tensorflow:Can save best model only with val_acc available, skipping.\n"
          ]
        },
        {
          "output_type": "stream",
          "name": "stdout",
          "text": [
            "\b\b\b\b\b\b\b\b\b\b\b\b\b\b\b\b\b\b\b\b\b\b\b\b\b\b\b\b\b\b\b\b\b\b\b\b\b\b\b\b\b\b\b\b\b\b\b\b\b\b\b\b\b\b\b\b\b\b\b\b\b\b\b\b\b\b\b\b\b\b\b\b\b\b\b\b\b\b\b\b\b\b\b\b\b\b\r1624/1624 [==============================] - 8s 5ms/step - loss: 0.2785 - accuracy: 0.9130 - val_loss: 0.2739 - val_accuracy: 0.9129\n",
            "Epoch 5/5\n",
            "1618/1624 [============================>.] - ETA: 0s - loss: 0.2774 - accuracy: 0.9130"
          ]
        },
        {
          "output_type": "stream",
          "name": "stderr",
          "text": [
            "WARNING:tensorflow:Can save best model only with val_acc available, skipping.\n"
          ]
        },
        {
          "output_type": "stream",
          "name": "stdout",
          "text": [
            "\b\b\b\b\b\b\b\b\b\b\b\b\b\b\b\b\b\b\b\b\b\b\b\b\b\b\b\b\b\b\b\b\b\b\b\b\b\b\b\b\b\b\b\b\b\b\b\b\b\b\b\b\b\b\b\b\b\b\b\b\b\b\b\b\b\b\b\b\b\b\b\b\b\b\b\b\b\b\b\b\b\b\b\b\b\b\r1624/1624 [==============================] - 11s 7ms/step - loss: 0.2774 - accuracy: 0.9130 - val_loss: 0.2740 - val_accuracy: 0.9067\n"
          ]
        }
      ],
      "source": [
        "epochs = 5\n",
        "BATCH_SIZE = 3000\n",
        "\n",
        "checkpoint_cb = keras.callbacks.ModelCheckpoint('travel.keras',\n",
        "                                                monitor = 'val_acc',\n",
        "                                                mode = 'max',\n",
        "                                                save_best_only = True)\n",
        "\n",
        "history = model.fit(X_train, y_train,\n",
        "                    epochs = epochs,\n",
        "                    batch_size = BATCH_SIZE,\n",
        "                    callbacks = checkpoint_cb,\n",
        "                    validation_split = 0.2)"
      ]
    },
    {
      "cell_type": "code",
      "source": [
        "import matplotlib.pyplot as plt\n",
        "\n",
        "plt.plot(history.history['accuracy'], label='accuracy')\n",
        "plt.plot(history.history['val_accuracy'], label = 'val_accuracy')\n",
        "plt.xlabel('Epoch')\n",
        "plt.ylabel('Accuracy')\n",
        "plt.legend()"
      ],
      "metadata": {
        "colab": {
          "base_uri": "https://localhost:8080/",
          "height": 482
        },
        "id": "BbfOo7DXy5LA",
        "outputId": "c46101c5-72d8-46ee-f15d-046dc9586c53"
      },
      "id": "BbfOo7DXy5LA",
      "execution_count": 58,
      "outputs": [
        {
          "output_type": "execute_result",
          "data": {
            "text/plain": [
              "<matplotlib.legend.Legend at 0x78602b88b0a0>"
            ]
          },
          "metadata": {},
          "execution_count": 58
        },
        {
          "output_type": "display_data",
          "data": {
            "text/plain": [
              "<Figure size 640x480 with 1 Axes>"
            ],
            "image/png": "[encoded data removed]"
          },
          "metadata": {}
        }
      ]
    },
    {
      "cell_type": "markdown",
      "id": "8e88c0c8-ff7f-4ad6-885a-c25e94f19a36",
      "metadata": {
        "id": "8e88c0c8-ff7f-4ad6-885a-c25e94f19a36"
      },
      "source": [
        "<h2 dir=rtl align=right style=\"line-height:200%;font-family:vazir;color:#0099cc\">\n",
        "<font face=\"vazir\" color=\"#0099cc\">\n",
        "پیش‌بینی\n",
        "</font>\n",
        "</h2>\n",
        "\n",
        "<p dir=rtl style=\"direction: rtl; text-align: justify; line-height:200%; font-family:vazir; font-size:medium\">\n",
        "<font face=\"vazir\" size=3>\n",
        "در فایل <code>test.csv</code> لیستی از نمونه‌های آزمون در اختیار شما قرار گرفته و نیاز است به‌ازای هر کدام از آن‌ها احتمال رزرو هتل را پیش‌بینی کنید. پیشنهاد می‌کنیم برای اطمینان از عملکرد مدل خود و بهبود آن، ابتدا آن را بر روی یک مجموعه‌ی اعتبارسنجی آزمایش کنید.\n",
        "</font>\n",
        "</p>\n",
        "\n",
        "\n",
        "<h3 dir=rtl align=right style=\"line-height:200%;font-family:vazir;color:#0099cc\">\n",
        "<font face=\"vazir\" color=\"#0099cc\">\n",
        "معیار ارزیابی\n",
        "</font>\n",
        "</h3>\n",
        "\n",
        "<p dir=rtl style=\"direction: rtl; text-align: justify; line-height:200%; font-family:vazir; font-size:medium\">\n",
        "<font face=\"vazir\" size=3>\n",
        "برای ارزیابی عملکرد مدل شما بر روی نمونه‌های آزمون از معیار <code>AUC</code> نمودار <code>ROC</code> استفاده می‌کنیم.\n",
        "</font>\n",
        "</p>\n",
        "\n",
        "\n",
        "<p dir=rtl style=\"direction: rtl; text-align: justify; line-height:200%; font-family:vazir; font-size:medium\">\n",
        "<font color=\"red\"><b color='red'>توجه:</b></font>\n",
        "<font face=\"vazir\" size=3>\n",
        " جهت کسب امتیاز کامل نیاز است تا پاسخ شما حداقل امتیاز <code>76.5</code> را با توجه به معیار معرفی‌شده کسب نماید.\n",
        "</font>\n",
        "</p>"
      ]
    },
    {
      "cell_type": "code",
      "source": [
        "y_p = model.predict(X_valid, batch_size = 3000)"
      ],
      "metadata": {
        "id": "lhBdi4Brc60m",
        "outputId": "7bc67472-a218-4087-d99a-dd359e46a3e8",
        "colab": {
          "base_uri": "https://localhost:8080/"
        }
      },
      "id": "lhBdi4Brc60m",
      "execution_count": 65,
      "outputs": [
        {
          "output_type": "stream",
          "name": "stdout",
          "text": [
            "508/508 [==============================] - 2s 4ms/step\n"
          ]
        }
      ]
    },
    {
      "cell_type": "code",
      "source": [
        "y_p = np.argmax(y_p, axis=1)"
      ],
      "metadata": {
        "id": "qATQ-ezJe1cU"
      },
      "id": "qATQ-ezJe1cU",
      "execution_count": 66,
      "outputs": []
    },
    {
      "cell_type": "code",
      "source": [],
      "metadata": {
        "id": "3I3yBB-oiZPz",
        "outputId": "ab479bc5-3235-4b8b-9b3f-bb4eea207301",
        "colab": {
          "base_uri": "https://localhost:8080/"
        }
      },
      "id": "3I3yBB-oiZPz",
      "execution_count": 31,
      "outputs": [
        {
          "output_type": "execute_result",
          "data": {
            "text/plain": [
              "array([0, 0, 0, ..., 0, 0, 0])"
            ]
          },
          "metadata": {},
          "execution_count": 31
        }
      ]
    },
    {
      "cell_type": "code",
      "execution_count": 67,
      "id": "ec07d670-befe-4e3f-8977-fde3dce046a7",
      "metadata": {
        "id": "ec07d670-befe-4e3f-8977-fde3dce046a7",
        "outputId": "386bcc12-d1d1-45a3-9c74-158e3296f005",
        "colab": {
          "base_uri": "https://localhost:8080/"
        }
      },
      "outputs": [
        {
          "output_type": "execute_result",
          "data": {
            "text/plain": [
              "0.5"
            ]
          },
          "metadata": {},
          "execution_count": 67
        }
      ],
      "source": [
        "from sklearn.metrics import roc_auc_score\n",
        "\n",
        "roc_auc_score(y_valid, y_p)"
      ]
    },
    {
      "cell_type": "markdown",
      "id": "8fae4c46-b0da-43e0-987e-9694fd2b3f18",
      "metadata": {
        "id": "8fae4c46-b0da-43e0-987e-9694fd2b3f18"
      },
      "source": [
        "<h3 align=right style=\"line-height:200%;font-family:vazir;color:#0099cc\">\n",
        "<font face=\"vazir\" color=\"#0099cc\">\n",
        "ساختار خروجی برای نمونه‌های آزمون\n",
        "</font>\n",
        "</h3>\n",
        "\n",
        "<p dir=rtl style=\"direction: rtl; text-align: justify; line-height:200%; font-family:vazir; font-size:medium\">\n",
        "<font face=\"vazir\" size=3>\n",
        "اکنون نیاز است به‌ازای هر نمونه‌ی آزمون <b style=\"color:#0099cc\">احتمال</b> رزرو هتل را پیش‌بینی کنید.\n",
        " پیش‌بینی مدل خود را برای نمونه‌های آزمون تولید کرده و در ستون <code>prediction</code> دیتافریمی با نام <code>submission</code> ذخیره کنید. توجه داشته باشید که ترتیب مقادیر این ستون باید دقیقاً معادل با ترتیب نمونه‌های آزمون باشد. به این معنی که  ردیف i ام ستون <code>submission</code>، پیش‌بینی شما برای سطر ردیف <code>i</code> ام فایل آزمون باشد (دقت کنید که این ستون باید حتماً دارای <code>header</code> باشد).  همچنین از آنجایی که این ستون بیانگر احتمال است مقادیر این ستون باید مقداری <b>بین</b> <code>0</code> تا <code>1</code> باشد.\n",
        "</font>\n",
        "</p>\n",
        "\n",
        "<p dir=rtl style=\"direction: rtl; text-align: justify; line-height:200%; font-family:vazir; font-size:medium\">\n",
        "<font face=\"vazir\" size=3>\n",
        "یک نمونه‌ی فرضی از دیتافریم <code>submission</code> در جدول زیر نمایش داده شده است.\n",
        " </font>\n",
        "</p>\n",
        "<center>\n",
        "<div dir=rtl style=\"direction: rtl;line-height:200%;font-family:vazir;font-size:medium\">\n",
        "<font face=\"vazir\" size=3>\n",
        "\n",
        "|<code>prediction</code>|\n",
        "|:------:|\n",
        "|0.723|\n",
        "|0.516|\n",
        "|0.281|\n",
        "| ... |\n",
        "\n",
        "    \n",
        "</font>\n",
        "</div>\n",
        "</center>"
      ]
    },
    {
      "cell_type": "code",
      "source": [
        "test.drop(columns=[\"\"], inplace=True)"
      ],
      "metadata": {
        "id": "KElfaGInixPX"
      },
      "id": "KElfaGInixPX",
      "execution_count": 38,
      "outputs": []
    },
    {
      "cell_type": "code",
      "execution_count": 39,
      "id": "825a11e7-fd44-4ced-b9b1-b21b896fd389",
      "metadata": {
        "id": "825a11e7-fd44-4ced-b9b1-b21b896fd389",
        "outputId": "bcf83fcf-822d-4ab7-940f-4dc0b98fa7d3",
        "colab": {
          "base_uri": "https://localhost:8080/",
          "height": 193
        }
      },
      "outputs": [
        {
          "output_type": "stream",
          "name": "stdout",
          "text": [
            "2546/2546 [==============================] - 8s 3ms/step\n"
          ]
        },
        {
          "output_type": "error",
          "ename": "NameError",
          "evalue": "name 'DataFrame' is not defined",
          "traceback": [
            "\u001b[0;31m---------------------------------------------------------------------------\u001b[0m",
            "\u001b[0;31mNameError\u001b[0m                                 Traceback (most recent call last)",
            "\u001b[0;32m<ipython-input-39-cce9866d6c30>\u001b[0m in \u001b[0;36m<cell line: 3>\u001b[0;34m()\u001b[0m\n\u001b[1;32m      1\u001b[0m \u001b[0mpredicts\u001b[0m \u001b[0;34m=\u001b[0m \u001b[0mmodel\u001b[0m\u001b[0;34m.\u001b[0m\u001b[0mpredict\u001b[0m\u001b[0;34m(\u001b[0m\u001b[0mtest\u001b[0m\u001b[0;34m,\u001b[0m \u001b[0mbatch_size\u001b[0m \u001b[0;34m=\u001b[0m \u001b[0;36m128\u001b[0m\u001b[0;34m)\u001b[0m\u001b[0;34m\u001b[0m\u001b[0;34m\u001b[0m\u001b[0m\n\u001b[1;32m      2\u001b[0m \u001b[0;34m\u001b[0m\u001b[0m\n\u001b[0;32m----> 3\u001b[0;31m \u001b[0msubmission\u001b[0m \u001b[0;34m=\u001b[0m \u001b[0mDataFrame\u001b[0m\u001b[0;34m(\u001b[0m\u001b[0mpredicts\u001b[0m\u001b[0;34m,\u001b[0m \u001b[0mcolumns\u001b[0m\u001b[0;34m=\u001b[0m \u001b[0;34m[\u001b[0m\u001b[0;34m'prediction'\u001b[0m\u001b[0;34m]\u001b[0m\u001b[0;34m)\u001b[0m\u001b[0;34m\u001b[0m\u001b[0;34m\u001b[0m\u001b[0m\n\u001b[0m",
            "\u001b[0;31mNameError\u001b[0m: name 'DataFrame' is not defined"
          ]
        }
      ],
      "source": [
        "predicts = model.predict(test, batch_size = 128)\n",
        "\n"
      ]
    },
    {
      "cell_type": "code",
      "source": [
        "predicts = np.argmax(predicts, axis=1)"
      ],
      "metadata": {
        "id": "2eMV5clcjI_Y"
      },
      "id": "2eMV5clcjI_Y",
      "execution_count": 41,
      "outputs": []
    },
    {
      "cell_type": "code",
      "source": [
        "submission = pd.DataFrame(predicts, columns= ['prediction'])"
      ],
      "metadata": {
        "id": "WWTttSVjjUya"
      },
      "id": "WWTttSVjjUya",
      "execution_count": 42,
      "outputs": []
    },
    {
      "cell_type": "markdown",
      "id": "61ebb2aa-2b7a-461b-a6aa-d912671cb8a7",
      "metadata": {
        "id": "61ebb2aa-2b7a-461b-a6aa-d912671cb8a7"
      },
      "source": [
        "<h2 align=right style=\"line-height:200%;font-family:vazir;color:#0099cc\">\n",
        "<font face=\"vazir\" color=\"#0099cc\">\n",
        "<b>سلول جواب‌ساز</b>\n",
        "</font>\n",
        "</h2>\n",
        "\n",
        "<p dir=rtl style=\"direction: rtl; text-align: justify; line-height:200%; font-family:vazir; font-size:medium\">\n",
        "<font face=\"vazir\" size=3>\n",
        "    برای ساخته‌شدن فایل <code>result.zip</code> سلول زیر را اجرا کنید. توجه داشته باشید که پیش از اجرای سلول زیر تغییرات اعمال شده در نت‌بوک را ذخیره کرده باشید (<code>ctrl+s</code>) تا در صورت نیاز به پشتیبانی امکان بررسی کد شما وجود داشته باشد. همچنین اگر از گوگل کولب استفاده می‌کنید، در صورت نیاز به پشتیبانی حتماً آخرین نسخه از نت‌بوک را به‌صورت دستی دانلود کرده و داخل فایل ارسالی قرار دهید یا لینک کولب را با ما به‌اشتراک بگذارید.\n",
        "</font>\n",
        "</p>"
      ]
    },
    {
      "cell_type": "code",
      "execution_count": 56,
      "id": "91766915-4a0f-4246-8273-d661a18927b3",
      "metadata": {
        "id": "91766915-4a0f-4246-8273-d661a18927b3",
        "outputId": "89a67b6e-5ecf-4b72-a125-704d2f866b0d",
        "colab": {
          "base_uri": "https://localhost:8080/"
        }
      },
      "outputs": [
        {
          "output_type": "stream",
          "name": "stdout",
          "text": [
            "File Paths:\n",
            "['will_not_travel_again.ipynb', 'submission.csv', 'search_hour.json', 'checkIn_date_month.json', 'checkIn_day.json', 'days_between.json', 'los.json']\n"
          ]
        }
      ],
      "source": [
        "import zipfile\n",
        "import joblib\n",
        "import os\n",
        "\n",
        "if not os.path.exists(os.path.join(os.getcwd(), 'will_not_travel_again.ipynb')):\n",
        "    %notebook -e will_not_travel_again.ipynb\n",
        "\n",
        "def compress(file_names):\n",
        "    print(\"File Paths:\")\n",
        "    print(file_names)\n",
        "    compression = zipfile.ZIP_DEFLATED\n",
        "    with zipfile.ZipFile(\"result.zip\", mode=\"w\") as zf:\n",
        "        for file_name in file_names:\n",
        "            zf.write('./' + file_name, file_name, compress_type=compression)\n",
        "\n",
        "submission.to_csv('submission.csv', index=False)\n",
        "file_names = ['will_not_travel_again.ipynb', 'submission.csv',\n",
        "              'search_hour.json', 'checkIn_date_month.json',\n",
        "              'checkIn_day.json', 'days_between.json', 'los.json']\n",
        "compress(file_names)"
      ]
    }
  ],
  "metadata": {
    "kernelspec": {
      "display_name": "Python 3",
      "name": "python3"
    },
    "language_info": {
      "codemirror_mode": {
        "name": "ipython",
        "version": 3
      },
      "file_extension": ".py",
      "mimetype": "text/x-python",
      "name": "python",
      "nbconvert_exporter": "python",
      "pygments_lexer": "ipython3",
      "version": "3.8.0"
    },
    "vscode": {
      "interpreter": {
        "hash": "44e7e1b8fa2096bd5707ed7fd18b1724a2db25f4c565a7673f8b6e7bfc49d25d"
      }
    },
    "colab": {
      "provenance": [],
      "gpuType": "T4"
    },
    "accelerator": "GPU"
  },
  "nbformat": 4,
  "nbformat_minor": 5
}