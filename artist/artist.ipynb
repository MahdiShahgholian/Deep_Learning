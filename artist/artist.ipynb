{
  "cells": [
    {
      "cell_type": "markdown",
      "metadata": {
        "id": "9W1rfSXJvUjS"
      },
      "source": [
        "<h1 dir=rtl align=center style=\"line-height:200%;font-family:vazir;color:#0099cc\">\n",
        "<font face=\"vazir\" color=\"#0099cc\">\n",
        "هنرمند\n",
        "</font>\n",
        "</h1>\n",
        "\n",
        "<p dir=rtl style=\"direction: rtl; text-align: justify; line-height:200%; font-family:vazir; font-size:medium\">\n",
        "<font face=\"vazir\">\n",
        "در این تمرین می‌خواهیم آزمایش کنیم که شبکه‌های عصبی تا چه حد می‌توانند از درک هنری برخوردار شوند؟ 🎨 همچنین با نحوه‌ی پیاده‌سازی انتقال یادگیری و تقویت داده‌های تصویری آشنا شده و تاثیر آن‌ها را در عملکرد مدل بررسی خواهیم کرد. مجموعه‌داده‌ای که در اختیار داریم شامل تصویر چند صد نقاشی از چند نقاش مشهور جهانی است و قصد داریم یک مدل یادگیری عمیق آموزش دهیم که بتواند همچون یک متخصص هنری، با دیدن یک نقاشی که صاحب‌اثر آن هنوز مشخص نیست، به‌درستی حدس بزند که نقاش آن که بوده است.\n",
        "</font>\n",
        "</p>"
      ]
    },
    {
      "cell_type": "code",
      "execution_count": null,
      "metadata": {
        "colab": {
          "base_uri": "https://localhost:8080/"
        },
        "id": "FSHUr6coBbB2",
        "outputId": "ee476ce9-fb95-48bf-f544-183367ea9016"
      },
      "outputs": [],
      "source": [
        "# uncomment the following line if you are running this notebook on Google Colab\n",
        "# this will install the most recent version of TensorFlow and Keras 3\n",
        "# !pip install tensorflow --upgrade"
      ]
    },
    {
      "cell_type": "code",
      "execution_count": null,
      "metadata": {
        "id": "301YwIJjvUjb"
      },
      "outputs": [],
      "source": [
        "import os\n",
        "os.environ[\"KERAS_BACKEND\"] = \"tensorflow\""
      ]
    },
    {
      "cell_type": "code",
      "execution_count": null,
      "metadata": {
        "colab": {
          "base_uri": "https://localhost:8080/"
        },
        "id": "RSyPbvIovUjc",
        "outputId": "13cb502d-ac90-405c-b9dc-3c2b77204ae0"
      },
      "outputs": [],
      "source": [
        "import keras\n",
        "print(keras.__version__)"
      ]
    },
    {
      "cell_type": "code",
      "execution_count": null,
      "metadata": {
        "id": "FYiPQLHAvUjd"
      },
      "outputs": [],
      "source": [
        "import os, glob\n",
        "import numpy as np\n",
        "import pandas as pd\n",
        "import matplotlib.pyplot as plt\n",
        "import plotly.express as px\n",
        "from sklearn.metrics import classification_report\n",
        "from sklearn.metrics import precision_score, recall_score\n",
        "from sklearn.metrics import f1_score, accuracy_score"
      ]
    },
    {
      "cell_type": "markdown",
      "metadata": {
        "id": "pFAtsNqIvUjd"
      },
      "source": [
        "<h2 dir=rtl align=right style=\"line-height:200%;font-family:vazir;color:#0099cc\">\n",
        "<font face=\"vazir\" color=\"#0099cc\">\n",
        "مجموعه‌داده\n",
        "</font>\n",
        "</h2>\n",
        "\n",
        "<p dir=rtl style=\"direction: rtl; text-align: justify; line-height:200%; font-family:vazir; font-size:medium\">\n",
        "<font face=\"vazir\" size=3>\n",
        "مجموعه‌داده‌ای که در اختیار شما قرار گرفته شامل تصاویر آموزشی در پوشه‌ی <code>data</code> و تصاویر آزمون در پوشه‌ی <code>test_data</code> است. نام فایل هر تصویر به‌صورت نام نقاش و یک عدد است. بنابراین پس از بارگیری مجموعه‌داده نیاز است مجموعه‌داده را به‌شکل مناسب‌تری جهت خوانش آن در کد آماده کنیم.\n",
        "</font>\n",
        "</p>\n",
        "\n",
        "<h3 dir=rtl align=right style=\"line-height:200%;font-family:vazir;color:#0099cc\">\n",
        "<font face=\"vazir\" color=\"#0099cc\">\n",
        "بارگیری مجموعه‌داده\n",
        "</font>\n",
        "</h3>\n",
        "\n",
        "<p dir=rtl style=\"direction: rtl; text-align: justify; line-height:200%; font-family:vazir; font-size:medium\">\n",
        "<font face=\"vazir\" size=3>\n",
        "به‌دلیل حجم بالای مجموعه‌داده نیاز است آن را جداگانه از <a href=\"https://drive.google.com/file/d/1-0d315aj7Ai8NNqat65XDvaOcHDcHiUD/view?usp=sharing\" target=\"_blank\">این لینک</a> دانلود کرده و فایل‌های داخل آن را استخراج کنید.  توجه داشته باشید که اندازه‌ی مجموعه‌داده حدود ۵۸۰ مگابایت است و پیشنهاد می‌کنیم از محیط گوگل کولب استفاده کرده و به‌صورت مستقیم با دستور زیر این فایل را روی کولب خود بارگیری کنید.\n",
        "</font>\n",
        "</p>\n",
        "\n",
        "`!gdown 1-0d315aj7Ai8NNqat65XDvaOcHDcHiUD`\n",
        "\n",
        "<details dir=\"rtl\" style=\"direction: rtl;text-align: justify;line-height:200%;font-family:vazir;font-size:medium\">\n",
        "<summary dir=\"rtl\" style=\"color:orange\"><b>رفع مشکل عدم امکان دانلود فایل با <code>gdown</code></b></summary>\n",
        "\n",
        "اگر در هنگام دانلود فایل به‌کمک <code>gdown</code> با خطای عدم اجازه‌ی دسترسی مواجه شدید، کافیست کد زیر را اجرا کرده و دوباره امتحان کنید.\n",
        "\n",
        "<span dir=ltr style=\"direction:ltr;\">\n",
        "\n",
        "`!pip install --upgrade --no-cache-dir gdown`\n",
        "\n",
        "</span>\n",
        "</details>"
      ]
    },
    {
      "cell_type": "code",
      "execution_count": null,
      "metadata": {
        "colab": {
          "base_uri": "https://localhost:8080/"
        },
        "id": "x09lRfPWvUjf",
        "outputId": "58076fee-8e55-462a-aac9-c9f86b3df4df"
      },
      "outputs": [],
      "source": [
        "# uncomment the following line to prevent some possible errors\n",
        "# !pip install --upgrade --no-cache-dir gdown"
      ]
    },
    {
      "cell_type": "code",
      "execution_count": null,
      "metadata": {
        "colab": {
          "base_uri": "https://localhost:8080/"
        },
        "id": "iEGBO5zWvUjg",
        "outputId": "f98e35dc-77b8-4f11-cd15-787daf2e7489"
      },
      "outputs": [],
      "source": [
        "# uncomment the following line to download the dataset if you haven't already\n",
        "# !gdown 1-0d315aj7Ai8NNqat65XDvaOcHDcHiUD"
      ]
    },
    {
      "cell_type": "markdown",
      "metadata": {
        "id": "xFT1UeSBvUjg"
      },
      "source": [
        "<p dir=rtl style=\"direction: rtl; text-align: justify; line-height:200%; font-family:vazir; font-size:medium\">\n",
        "<font face=\"vazir\" size=3>\n",
        "در صورتی‌که فرآیند دانلود کامل شده باشد فایل <code>famous_paintings.zip</code> را در لیست فایل‌های محیط کولب مشاهده خواهید کرد. اکنون می‌توانیم به‌کمک دستور <code>unzip</code> به استخراج تصاویر از فایل <code>zip</code> بپردازیم. از قسمت انتهایی دستور زیر تنها جهت جلوگیری از پرینت اسامی فایل‌های استخراج‌شده در خروجی سلول استفاده شده است.\n",
        "</font>\n",
        "</p>"
      ]
    },
    {
      "cell_type": "code",
      "execution_count": null,
      "metadata": {
        "id": "dxu4Bh_pvUjh"
      },
      "outputs": [],
      "source": [
        "# uncomment the following line to unzip the dataset if you didn't do it before\n",
        "# !unzip famous_paintings.zip > /dev/null 2>&1"
      ]
    },
    {
      "cell_type": "markdown",
      "metadata": {
        "id": "n5lXRvZ7vUji"
      },
      "source": [
        "<h3 dir=rtl align=right style=\"line-height:200%;font-family:vazir;color:#0099cc\">\n",
        "<font face=\"vazir\" color=\"#0099cc\">\n",
        "آماده‌سازی مجموعه‌داده\n",
        "</font>\n",
        "</h3>\n",
        "\n",
        "<p dir=rtl style=\"direction: rtl; text-align: justify; line-height:200%; font-family:vazir; font-size:medium\">\n",
        "<font face=\"vazir\" size=3>\n",
        "ابتدا قصد داریم لیست تصاویر و برچسب‌های متناظر را به‌صورت یک دیتافریم آماده کنیم. برای این کار می‌توانیم با دستور <code>glob.glob('data/*')</code> لیست تمام فایل‌های موجود در پوشه‌ی <code>data</code> را بیابیم. پس از آن نیاز است با توجه به نام هر فایل، برچسب آن (نام نقاش) را جدا کرده و در ستون جدیدی ذخیره کنید. به‌عنوان مثال فایلی با نام <code>Peter_Paul_Rubens_93.jpg</code> باید به‌صورت <code>Peter_Paul_Rubens</code> برچسب بخورد.\n",
        "</font>\n",
        "</p>"
      ]
    },
    {
      "cell_type": "code",
      "execution_count": null,
      "metadata": {
        "colab": {
          "base_uri": "https://localhost:8080/",
          "height": 261
        },
        "id": "dbR5ow9AvUji",
        "outputId": "ad5dde34-92f6-4997-8da4-7bbf5fc2a2a8"
      },
      "outputs": [],
      "source": [
        "dir_name = 'data/*'\n",
        "files = glob.glob(dir_name)\n",
        "df_train = pd.DataFrame({'full_path': files})\n",
        "painters = None # TODO: get the painters' names from the file names\n",
        "df_train['painter'] = painters\n",
        "df_train.head()"
      ]
    },
    {
      "cell_type": "code",
      "execution_count": null,
      "metadata": {
        "colab": {
          "base_uri": "https://localhost:8080/"
        },
        "id": "YvzSVJVMvUjj",
        "outputId": "3bf81ab7-950c-4410-f826-395c991fc1a5"
      },
      "outputs": [],
      "source": [
        "# get the list of unique painters in the dataset\n",
        "class_names = df_train.painter.unique()\n",
        "print(class_names)"
      ]
    },
    {
      "cell_type": "markdown",
      "metadata": {
        "id": "6ZOcn83mvUjk"
      },
      "source": [
        "\n",
        "<p dir=rtl style=\"direction: rtl; text-align: justify; line-height:200%; font-family:vazir; font-size:medium\">\n",
        "<font face=\"vazir\" size=3>\n",
        "به کمک کد زیر می‌توانیم چند نمونه از تصاویر موجود در مجموعه‌ی آموزشی را مشاهده کنیم. این کد در هربار اجرا، ۸ تصویر را از داخل مجموعه‌ی آموزشی به‌صورت تصادفی انتخاب کرده و نمایش می‌دهد.\n",
        "</font>\n",
        "</p>"
      ]
    },
    {
      "cell_type": "code",
      "execution_count": null,
      "metadata": {
        "colab": {
          "base_uri": "https://localhost:8080/",
          "height": 830
        },
        "id": "laxjb1qgvUjk",
        "outputId": "2aab563d-b64f-4f95-a87a-d81a523b522d"
      },
      "outputs": [],
      "source": [
        "fig, axes = plt.subplots(3, 4, figsize=(15, 15))\n",
        "random_indices = np.random.choice(df_train.index, size=12, replace=False)\n",
        "for i, ax in zip(random_indices, axes.flatten()):\n",
        "    img = keras.preprocessing.image.load_img(df_train.full_path[i], target_size=(224, 224))\n",
        "    ax.imshow(img)\n",
        "    ax.set_title(df_train.painter[i])\n",
        "    ax.axis('off')\n",
        "plt.tight_layout()\n",
        "plt.show()"
      ]
    },
    {
      "cell_type": "markdown",
      "metadata": {
        "id": "T0st0DmHvUjl"
      },
      "source": [
        "<p dir=rtl style=\"direction: rtl; text-align: justify; line-height:200%; font-family:vazir; font-size:medium\">\n",
        "<font face=\"vazir\" size=3>\n",
        "اکنون نیاز است هر نمونه را با یک برچسب عددی نمایش دهیم. در این قسمت می‌توانید از تابع <code>LabelEncoder</code> استفاده کرده و ستون <code>painter</code> را به‌صورت عددی کدگذاری کرده و حاصل را در ستون جدیدی با نام <code>label</code> ذخیره کنید.\n",
        "</font>\n",
        "</p>"
      ]
    },
    {
      "cell_type": "code",
      "execution_count": null,
      "metadata": {
        "colab": {
          "base_uri": "https://localhost:8080/",
          "height": 206
        },
        "id": "H-uNYUGjvUjm",
        "outputId": "76cb8b46-17f8-434c-8100-1b3e829c1416"
      },
      "outputs": [],
      "source": [
        "from sklearn.preprocessing import LabelEncoder\n",
        "\n",
        "le = LabelEncoder()\n",
        "df_train['label'] = # TODO: encode the painters' names\n",
        "df_train.head()"
      ]
    },
    {
      "cell_type": "code",
      "execution_count": null,
      "metadata": {
        "colab": {
          "base_uri": "https://localhost:8080/"
        },
        "id": "mxV0pIiZ0fMy",
        "outputId": "aee8004c-d0e5-4dba-f740-5e2255bb0809"
      },
      "outputs": [],
      "source": [
        "print(df_train['label'].unique().min())\n",
        "print(df_train['label'].unique().max())"
      ]
    },
    {
      "cell_type": "markdown",
      "metadata": {
        "id": "pUDfs_6pvUjm"
      },
      "source": [
        "<p dir=rtl style=\"direction: rtl; text-align: justify; line-height:200%; font-family:vazir; font-size:medium\">\n",
        "<font face=\"vazir\" size=3>\n",
        "برای آن‌که بتوانیم به‌کمک تابع <code>image_dataset_from_directory</code> کراس مجموعه‌داده را به‌صورت مناسبی برای ورودی مدل آماده کنیم، نیاز است تصاویر را در پوشه‌های جداگانه‌ای بر اساس برچسب‌های‌شان قرار دهیم. در قطعه‌کد زیر ابتدا به‌ازای هر برچسب یک پوشه با همان نام در داخل پوشه‌ی <code>data</code> ایجاد می‌کنیم. سپس تصاویر مربوط به هر برچسب را به پوشه‌ی متناظر با آن منتقل می‌کنیم.\n",
        "</font>\n",
        "</p>"
      ]
    },
    {
      "cell_type": "code",
      "execution_count": null,
      "metadata": {
        "id": "hLoqUY-VvUjn"
      },
      "outputs": [],
      "source": [
        "import shutil\n",
        "\n",
        "# create a folder for each label\n",
        "for label in df_train.label.unique():\n",
        "    os.makedirs(f'data/{label}', exist_ok=True)\n",
        "\n",
        "# move each image to its corresponding label folder\n",
        "for i, row in df_train.iterrows():\n",
        "    shutil.move(row.full_path, f'data/{row.label}')"
      ]
    },
    {
      "attachments": {},
      "cell_type": "markdown",
      "metadata": {
        "id": "p6ENvO0UvUjo"
      },
      "source": [
        "<h3 dir=rtl align=right style=\"line-height:200%;font-family:vazir;color:#0099cc\">\n",
        "<font face=\"vazir\" color=\"#0099cc\">\n",
        "خوانش مجموعه‌داده\n",
        "</font>\n",
        "</h3>\n",
        "\n",
        "<p dir=rtl style=\"direction: rtl; text-align: justify; line-height:200%; font-family:vazir; font-size:medium\">\n",
        "<font face=\"vazir\" size=3>\n",
        "حال که همه‌چیز آماده شده می‌توانیم از <code>image_dataset_from_directory</code> جهت خوانش تصاویر استفاده کنیم. کافیست آرگومان <code>directory</code> را معادل با مسیر پوشه‌ی داده‌های آموزشی یعنی <code dir=ltr>'./data/'</code> قرار دهیم. سایر آرگومان‌های مهم (اندازه‌ی تصویر، برش دادن، اندازه‌ی دسته و غیره) این تابع را نیز مطابق با نظر خودتان تنظیم کنید. همچنین اگر قصد دارید بخشی از داده‌ها را برای اعتبارسنجی جدا کنید، می‌توانید آرگومان <code>validation_split</code> را مقداردهی کرده و برای نمونه‌های آموزشی از <code dir=ltr>subset='training'</code> و برای نمونه‌های اعتبارسنجی از <code dir=ltr>subset='validation'</code> استفاده کنید. توجه داشته باشید که لیست اسامی برچسب‌ها را در متغیر <code>class_names</code> ذخیره کرده‌ایم تا در هنگام نگاشت خروجی مدل به برچسب‌ها از آن استفاده کنیم.\n",
        "</font>\n",
        "</p>"
      ]
    },
    {
      "cell_type": "code",
      "execution_count": null,
      "metadata": {
        "colab": {
          "base_uri": "https://localhost:8080/"
        },
        "id": "IVcPaZgbvUjp",
        "outputId": "ab0f8de8-4418-4e91-a94e-b9373a7cbf6a"
      },
      "outputs": [],
      "source": [
        "from keras.utils import image_dataset_from_directory\n",
        "\n",
        "train_dataset = image_dataset_from_directory(\n",
        "    None, # TODO\n",
        ")\n",
        "\n",
        "# find the class names so in prediction time we can map the predictions to the painters properly\n",
        "class_names = train_dataset.class_names\n",
        "print('Class names:', class_names)\n",
        "\n",
        "val_dataset = image_dataset_from_directory(\n",
        "    None, # TODO\n",
        ")"
      ]
    },
    {
      "cell_type": "markdown",
      "metadata": {
        "id": "HAtZa1K43Zhl"
      },
      "source": [
        "<h3 dir=rtl align=right style=\"line-height:200%;font-family:vazir;color:#0099cc\">\n",
        "<font face=\"vazir\" color=\"#0099cc\">\n",
        "پیش‌پردازش\n",
        "</font>\n",
        "</h3>\n",
        "\n",
        "<p dir=rtl style=\"direction: rtl; text-align: justify; line-height:200%; font-family:vazir; font-size:medium\">\n",
        "<font face=\"vazir\" size=3>\n",
        "فراموش نکنید که در استفاده از مدل‌های پیش‌آموخته نیاز است که تابع پیش‌پردازش ویژه‌ی مدل مورد نظر خود را بر روی تصاویر مجموعه‌داده اعمال کنیم. بنابراین در این قسمت تابع <code>preprocess_input</code> از بخش <code>keras.applications.resnet50</code> را بر روی داده‌های خود اعمال کنید.\n",
        "</font>\n",
        "</p>"
      ]
    },
    {
      "cell_type": "code",
      "execution_count": null,
      "metadata": {
        "id": "H3H0GsEY3GSd"
      },
      "outputs": [],
      "source": [
        "from keras.applications.resnet50 import preprocess_input\n",
        "\n",
        "# Preprocess the data\n",
        "train_dataset = None # TODO: apply the preprocess_input function to the train_dataset\n",
        "val_dataset = None # TODO: apply the preprocess_input function to the val_dataset"
      ]
    },
    {
      "attachments": {},
      "cell_type": "markdown",
      "metadata": {
        "id": "9sjhs_quvUjp"
      },
      "source": [
        "<h2 dir=rtl align=right style=\"line-height:200%;font-family:vazir;color:#0099cc\">\n",
        "<font face=\"vazir\" color=\"#0099cc\">\n",
        "مدل‌سازی\n",
        "</font>\n",
        "</h2>\n",
        "\n",
        "<p dir=rtl style=\"direction: rtl; text-align: justify; line-height:200%; font-family:vazir; font-size:medium\">\n",
        "<font face=\"vazir\" size=3>\n",
        "در این تمرین قصد داریم از یک معماری کانولوشنی بزرگ و مشهور با نام <i>ResNet</i> بهره ببریم. این معماری که توسط محققان شرکت مایکروسافت ارائه شده است، توانسته است با استفاده از بلوک‌هایی به نام <i>Residual Block</i> و همچنین تکنیک اتصال پرشی/مستقیم (skip connection) مشکلی که معمولاً با افزایش تعداد لایه‌های شبکه‌های عصبی عمیق به‌وجود می‌آید یعنی مشکل محو شدن گرادیان‌ها را حل کند. این معماری متشکل از بلوک‌هایی‌ست که پشت سر هم قرار گرفته‌اند و هر بلوک شامل چندین لایه‌ی کانولوشنی و یک لایه‌ی اتصال پرشی است. در تصویر زیر ساختار کلی یک بلوک <i>Risidual</i> را مشاهده می‌کنید. همان‌طور که مشاهده می‌شود، ورودی بلوک به‌صورت مستقیم به خروجی آن اضافه می‌شود که این تکنیک با نام <i>skip connection</i> شهرت دارد و امروزه در بسیاری از شبکه‌های عصبی عمیق به‌کار می‌رود. نیازی به یادگیری دقیق تمام جزئیات این مدل نیست زیرا که کتابخانه‌ی کراس به‌صورت آماده این مدل را پیاده‌سازی کرده و در اختیارمان قرار می‌دهد. با این حال اگر علاقه داشته باشید ساختار دقیق این مدل را مطالعه کنید می‌توانید از لینک‌هایی که به‌عنوان منابع بیشتر قرار داده شده استفاده کنید.\n",
        "</font>\n",
        "</p>\n",
        "\n",
        "\n",
        "<details dir=\"rtl\" style=\"direction: rtl;text-align: justify;line-height:200%;font-family:vazir;font-size:medium\">\n",
        "<summary dir=\"rtl\" style=\"color:purple\"><b>مطالعه‌ی بیشتر 😎</b></summary>\n",
        "\n",
        "جهت مطالعه‌ی بیشتر درباره‌ی این مدل و همچنین تکنیک اتصال پرشی می‌توانید از لینک‌های زیر بهره ببرید:\n",
        "\n",
        "<ul dir=\"rtl\" style=\"direction: rtl;text-align: justify;line-height:200%;font-family:vazir;font-size:medium\">\n",
        "<li><a href=\"https://arxiv.org/pdf/1512.03385.pdf\" target=\"_blank\">مقاله‌ی اصلی با عنوان <i>Deep Residual Learning for Image Recognition</i> | مقاله‌ی علمی</a></li>\n",
        "<li><a href=\"https://keras.io/api/applications/resnet/#resnet-and-resnetv2\" target=\"_blank\">مستندات کراس درباره‌ی مدل <i>ResNet</i> | مستندات پیاده‌سازی</a></li>\n",
        "<li><a href=\"https://youtu.be/ZILIbUvp5lk\" target=\"_blank\">مقدمه‌ای از <i>Residual block</i> و <i>Skip connection</i> | یوتیوب</a></li>\n",
        "<li><a href=\"https://youtu.be/RYth6EbBUqM\" target=\"_blank\">چرا <i>ResNet</i> خوب کار می‌کند؟ | یوتیوب</a></li>\n",
        "<li><a href=\"https://towardsdatascience.com/understanding-and-visualizing-resnets-442284831be8\" target=\"_blank\">تشریح معماری <i>ResNet</i> | مقاله‌ی بلاگ</a></li>\n",
        "\n",
        "</details>\n",
        "\n",
        "<center>\n",
        "<img align=\"center\" src=\"https://quera.org/qbox/view/bmFJQOQRQY/residual_block.png\">\n",
        "</center>\n",
        "\n",
        "<p dir=rtl style=\"direction: rtl; text-align: justify; line-height:200%; font-family:vazir; font-size:medium\">\n",
        "<font face=\"vazir\" size=3>\n",
        "توجه داشته باشید که نسخه‌های مختلفی از این معماری در دسترس است که از نظر تعداد لایه‌ها و اندازه‌ی فیلترها متفاوت‌اند. در این تمرین ما از نسخه‌ی <code>ResNet50</code> استفاده خواهیم کرد که شامل ۵۰ لایه‌ی کانولوشنی است. در کراس می‌توانیم از ماژول <code>keras.applications.ResNet50</code> به این معماری دسترسی داشته باشیم.\n",
        "پیشنهاد می‌کنیم حالت‌های مختلف استفاده از یک مدل پیش‌آموخته را آزمایش کنید تا بتوانید تاثیر هر روش را مشاهده کنید. به‌عنوان مثال یک‌بار کل مدل <code>ResNet50</code> را بدون استفاده از وزن‌های پیش‌آموخته آموزش دهید. یک‌بار از وزن‌های پیش‌آموخته به‌عنوان وزن‌های اولیه استفاده کنید و تمام لایه‌ها را قابل آموزش تنظیم کنید. یک‌بار نیز تعدادی از لایه‌های انتهایی را قابل آموزش کرده و باقی را فریز کنید.\n",
        "</font>\n",
        "</p>\n",
        "\n",
        "\n",
        "<p dir=rtl style=\"direction: rtl; text-align: justify; line-height:200%; font-family:vazir; font-size:medium\">\n",
        "<font face=\"vazir\" size=3>\n",
        "<span style=\"color:orange\"><b>نکته:</b></span>\n",
        "پیشنهاد می‌کنیم پس از آموزش مدل خود، یک‌‌بار نیز از تکنیک تقویت داده (Data Augmentation) استفاده کرده و تاثیر آن را بررسی کنید.\n",
        "</p>\n",
        "\n",
        "<p dir=rtl style=\"direction: rtl; text-align: justify; line-height:200%; font-family:vazir; font-size:medium\">\n",
        "<font face=\"vazir\" size=3>\n",
        "تابعی با نام <code>display_curves</code> در اختیار شما قرار گرفته تا در صورت علاقه بتوانید با ورودی دادن <code>history</code> مدل و معیار مورد نظر (<code>'loss'</code> یا <code>'accuracy'</code>)، نمودار عملکرد مدل روی مجموعه‌ی آموزشی و اعتبارسنجی را رسم کنید.\n",
        "</font>\n",
        "</p>"
      ]
    },
    {
      "cell_type": "code",
      "execution_count": null,
      "metadata": {
        "id": "cQcl71VnIyyf"
      },
      "outputs": [],
      "source": [
        "import plotly.express as px\n",
        "\n",
        "# metric: 'accuracy' or 'loss'\n",
        "def display_curves(history, metric):\n",
        "  df = pd.DataFrame(history.history[metric], columns=[metric])\n",
        "  df['val_'+metric] = history.history['val_'+metric]\n",
        "  fig = px.line(df, x= df.index+1, y= [metric, 'val_'+metric])\n",
        "  fig.update_layout(xaxis_title='Epochs', yaxis_title=metric)\n",
        "  fig.show()"
      ]
    },
    {
      "cell_type": "code",
      "execution_count": null,
      "metadata": {
        "id": "VQpt93xSCllL"
      },
      "outputs": [],
      "source": [
        "model = keras.applications.ResNet50(\n",
        "    None, # TODO\n",
        ")\n",
        "# Complete the model based on your choice of the architecture"
      ]
    },
    {
      "cell_type": "code",
      "execution_count": null,
      "metadata": {
        "colab": {
          "base_uri": "https://localhost:8080/",
          "height": 1000
        },
        "id": "5m6Venu5CtTB",
        "outputId": "aae4b412-fc05-457e-dfc3-e56aff7e6e30"
      },
      "outputs": [],
      "source": [
        "model.summary()"
      ]
    },
    {
      "cell_type": "code",
      "execution_count": null,
      "metadata": {},
      "outputs": [],
      "source": [
        "model.compile(\n",
        "    None, # TODO\n",
        ")"
      ]
    },
    {
      "cell_type": "code",
      "execution_count": null,
      "metadata": {
        "colab": {
          "base_uri": "https://localhost:8080/"
        },
        "id": "e0JfCm6oCxSc",
        "outputId": "65f71fbf-554c-4387-9852-d16e40df5a48"
      },
      "outputs": [],
      "source": [
        "history = model.fit(\n",
        "    None, # TODO\n",
        ")"
      ]
    },
    {
      "cell_type": "code",
      "execution_count": null,
      "metadata": {
        "colab": {
          "base_uri": "https://localhost:8080/",
          "height": 542
        },
        "id": "gLUGXjoPI1G6",
        "outputId": "691d1bd1-24ac-4335-822d-f70c09477f2c"
      },
      "outputs": [],
      "source": [
        "display_curves(history, 'loss')"
      ]
    },
    {
      "cell_type": "code",
      "execution_count": null,
      "metadata": {
        "colab": {
          "base_uri": "https://localhost:8080/",
          "height": 542
        },
        "id": "Kgi5IVfyJFq5",
        "outputId": "ebe50fcb-6184-47e4-82be-d811e393491a"
      },
      "outputs": [],
      "source": [
        "display_curves(history, 'accuracy')"
      ]
    },
    {
      "attachments": {},
      "cell_type": "markdown",
      "metadata": {
        "id": "wg32bZarvUjq"
      },
      "source": [
        "<h2 dir=rtl align=right style=\"line-height:200%;font-family:vazir;color:#0099cc\">\n",
        "<font face=\"vazir\" color=\"#0099cc\">\n",
        "پیش‌بینی\n",
        "</font>\n",
        "</h2>\n",
        "\n",
        "<p dir=rtl style=\"direction: rtl; text-align: justify; line-height:200%; font-family:vazir; font-size:medium\">\n",
        "<font face=\"vazir\" size=3>\n",
        "در این قسمت از مدل آموزش‌یافته‌ی خود به‌منظور پیش‌بینی هنرمند نمونه‌های آزمون که در پوشه‌ی <code>test_data</code> قرار گرفته‌اند استفاده کنید.\n",
        " پیشنهاد می‌کنیم برای اطمینان از عملکرد مدل خود و بهبود آن، ابتدا آن را بر روی یک مجموعه‌ی اعتبارسنجی آزمایش کنید.\n",
        "</font>\n",
        "</p>\n",
        "\n",
        "<h3 dir=rtl align=right style=\"line-height:200%;font-family:vazir;color:#0099cc\">\n",
        "<font face=\"vazir\" color=\"#0099cc\">\n",
        "معیار ارزیابی\n",
        "</font>\n",
        "</h3>\n",
        "\n",
        "<p dir=rtl style=\"direction: rtl; text-align: justify; line-height:200%; font-family:vazir; font-size:medium\">\n",
        "<font face=\"vazir\" size=3>\n",
        "در این تمرین  از معیار <code>Accuracy</code> جهت ارزیابی عملکرد مدل شما استفاده خواهد شد (نمونه‌های آزمون دارای توزیع متوازن از برچسب‌ها هستند).\n",
        "</font>\n",
        "</p>\n",
        "\n",
        "<p dir=rtl style=\"direction: rtl; text-align: justify; line-height:200%; font-family:vazir; font-size:medium\">\n",
        "<font color=\"red\"><b color='red'>توجه:</b></font>\n",
        "<font face=\"vazir\" size=3>\n",
        " جهت کسب امتیاز کامل نیاز است تا پاسخ شما حداقل امتیاز <code>92.85</code> را با توجه به معیار معرفی‌شده کسب نماید.\n",
        "</font>\n",
        "</p>"
      ]
    },
    {
      "cell_type": "code",
      "execution_count": null,
      "metadata": {
        "colab": {
          "base_uri": "https://localhost:8080/"
        },
        "id": "uocau7wivUjs",
        "outputId": "d7738947-5fd5-440b-a252-7db2d4b9a13f"
      },
      "outputs": [],
      "source": [
        "# TODO: evaluate the model on the validation dataset"
      ]
    },
    {
      "attachments": {},
      "cell_type": "markdown",
      "metadata": {
        "id": "4rpQttuGvUjs"
      },
      "source": [
        "<h3 align=right style=\"line-height:200%;font-family:vazir;color:#0099cc\">\n",
        "<font face=\"vazir\" color=\"#0099cc\">\n",
        "ساختار خروجی برای نمونه‌های آزمون\n",
        "</font>\n",
        "</h3>\n",
        "\n",
        "<p dir=rtl style=\"direction: rtl; text-align: justify; line-height:200%; font-family:vazir; font-size:medium\">\n",
        "<font face=\"vazir\" size=3>\n",
        " پیش‌بینی مدل خود را برای نمونه‌های آزمون به‌شکل نام هنرمند (نه عددی) تولید کرده و در ستون <code>artist</code> یک دیتافریم با نام <code>submission</code> در قالب جدول زیر ذخیره کنید.\n",
        "</font>\n",
        "</p>\n",
        "\n",
        "<center>\n",
        "<div dir=rtl style=\"direction: rtl;line-height:200%;font-family:vazir;font-size:medium\">\n",
        "<font face=\"vazir\" size=3>\n",
        "    \n",
        "|ستون|توضیحات|\n",
        "|:------:|:---:|\n",
        "|<code>file</code>|نام فایل تصویر (مشابه با نمونه‌ی آزمون و بدون پسوند <code dir=ltr>.jpg</code> مثل <code>test_0</code>|\n",
        "|<code>artist</code>|هنرمند اثر (پیش‌بینی مدل)|\n",
        "    \n",
        "</font>\n",
        "</div>\n",
        "</center>\n",
        "\n",
        "<p dir=rtl style=\"direction: rtl; text-align: justify; line-height:200%; font-family:vazir; font-size:medium\">\n",
        "<font color=\"red\"><b color='red'>توجه:</b></font>\n",
        "<font face=\"vazir\" size=3>\n",
        "در تبدیل خروجی مدل به برچسب‌ها توجه داشته باشید که اگر از تابع <code>image_dataset_from_directory</code> جهت خواندن تصاویر استفاده کرده‌اید، ترتیب برچسب‌ها به آن شکلی نیست که انتظارش را داریم و به شکل زیر خواهد بود. بنابراین خروجی نورون سوم برابر پیش‌بینی برچسب ۱۰ است و نه ۲! پس اگر روی خروجی مدل تابع <code>np.argmax</code> اعمال کنید برچسب‌های درستی تولید نمی‌شود. این موضوع یکی از چالش‌های رایج در پروژه‌های دسته‌بندی تصویر است که مشاهده می‌کنیم مدل روی داده‌های آموزشی و اعتبارسنجی به‌خوبی عمل می‌کند اما در زمان آزمون عملکرد بسیار بدی از خود نشان می‌دهد و شوکه می‌شویم. دلیلش این است که نگاشت خروجی به برچسب را به‌درستی انجام نداده‌ایم. در این قسمت می‌توانید از متغیر <code>class_names</code> برای تبدیل هر نمایه به برچسب متناظر استفاده کنید.\n",
        "</font>\n",
        "</p>\n",
        "\n",
        "`['0', '1', '10', '11', '12', '13', '14', '15', '16', '17', '18', '19', '2', '20', '21', '22', '23', '24', '3', '4', '5', '6', '7', '8', '9']`\n",
        "\n",
        "\n",
        "<p dir=rtl style=\"direction: rtl; text-align: justify; line-height:200%; font-family:vazir; font-size:medium\">\n",
        "<font face=\"vazir\" size=3>\n",
        "<span style=\"color:orange\"><b>نکته:</b></span>\n",
        "در صورتی‌که از تابع <code>image_dataset_from_directory</code> جهت بارگیری نمونه‌های آزمون استفاده می‌کنیم، در صورت نیاز به دسترسی مسیر فایل‌های خوانده‌شده می‌توانید از خصوصیت <code>file_paths</code> بهره ببرید.\n",
        "</p>\n"
      ]
    },
    {
      "cell_type": "code",
      "execution_count": null,
      "metadata": {
        "colab": {
          "base_uri": "https://localhost:8080/",
          "height": 424
        },
        "id": "YL6XYtEXNBFM",
        "outputId": "80d6f8fe-6806-4cc3-9fbb-5baaf8b1b5a0"
      },
      "outputs": [],
      "source": [
        "submission = pd.DataFrame(columns=['file', 'artist'])\n",
        "submission['file'] = None # TODO: get the file names from the test dataset\n",
        "submission['artist'] = None # TODO: get the predictions from the model (name of the painter)\n",
        "submission"
      ]
    },
    {
      "cell_type": "markdown",
      "metadata": {
        "id": "lKnNSCUFvUjt"
      },
      "source": [
        "<h2 align=right style=\"line-height:200%;font-family:vazir;color:#0099cc\">\n",
        "<font face=\"vazir\" color=\"#0099cc\">\n",
        "<b>سلول جواب‌ساز</b>\n",
        "</font>\n",
        "</h2>\n",
        "\n",
        "<p dir=rtl style=\"direction: rtl; text-align: justify; line-height:200%; font-family:vazir; font-size:medium\">\n",
        "<font face=\"vazir\" size=3>\n",
        "    برای ساخته‌شدن فایل <code>result.zip</code> سلول‌های زیر را اجرا کنید. توجه داشته باشید که پیش از اجرای سلول زیر تغییرات اعمال شده در نت‌بوک را ذخیره کرده باشید (<code>ctrl+s</code>) تا در صورت نیاز به پشتیبانی امکان بررسی کد شما وجود داشته باشد. همچنین اگر از گوگل کولب استفاده می‌کنید، در صورت نیاز به پشتیبانی حتماً آخرین نسخه از نت‌بوک را به‌صورت دستی دانلود کرده و داخل فایل ارسالی قرار دهید یا لینک کولب را با ما به‌اشتراک بگذارید.\n",
        "</font>\n",
        "</p>"
      ]
    },
    {
      "cell_type": "code",
      "execution_count": null,
      "metadata": {
        "colab": {
          "base_uri": "https://localhost:8080/"
        },
        "id": "AYLlK25bvUju",
        "outputId": "ceafb02a-3182-43d1-81d3-09002f5c5213"
      },
      "outputs": [],
      "source": [
        "import zipfile\n",
        "import joblib\n",
        "\n",
        "if not os.path.exists(os.path.join(os.getcwd(), 'artist.ipynb')):\n",
        "    %notebook -e artist.ipynb\n",
        "\n",
        "def compress(file_names):\n",
        "    print(\"File Paths:\")\n",
        "    print(file_names)\n",
        "    compression = zipfile.ZIP_DEFLATED\n",
        "    with zipfile.ZipFile(\"result.zip\", mode=\"w\") as zf:\n",
        "        for file_name in file_names:\n",
        "            zf.write('./' + file_name, file_name, compress_type=compression)\n",
        "\n",
        "submission.to_csv('submission.csv', index=False)\n",
        "file_names = ['submission.csv', 'artist.ipynb']\n",
        "compress(file_names)"
      ]
    }
  ],
  "metadata": {
    "accelerator": "GPU",
    "colab": {
      "gpuType": "T4",
      "provenance": []
    },
    "kernelspec": {
      "display_name": "Python 3",
      "name": "python3"
    },
    "language_info": {
      "codemirror_mode": {
        "name": "ipython",
        "version": 3
      },
      "file_extension": ".py",
      "mimetype": "text/x-python",
      "name": "python",
      "nbconvert_exporter": "python",
      "pygments_lexer": "ipython3",
      "version": "3.8.0"
    },
    "vscode": {
      "interpreter": {
        "hash": "44e7e1b8fa2096bd5707ed7fd18b1724a2db25f4c565a7673f8b6e7bfc49d25d"
      }
    }
  },
  "nbformat": 4,
  "nbformat_minor": 0
}
